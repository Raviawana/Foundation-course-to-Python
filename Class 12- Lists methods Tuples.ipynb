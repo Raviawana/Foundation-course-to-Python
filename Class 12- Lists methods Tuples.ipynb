{
 "cells": [
  {
   "cell_type": "markdown",
   "id": "8f943c14",
   "metadata": {},
   "source": [
    "## List methods in pyton\n",
    "\n",
    "\n",
    "In Python, the `list` type comes with several built-in methods for performing various operations on lists. Here are some of the most commonly used methods:\n",
    "\n",
    "\n",
    "1. **append(x)**: Adds an element `x` to the end of the list.\n",
    "\n",
    "\n",
    "\n",
    "2. **extend(iterable)**: Extends the list by appending elements from the iterable or adding two lists\n",
    "\n",
    "\n",
    "\n",
    "3. **insert(i, x)**: Inserts an element `x` at the specified index `i`.\n",
    "\n",
    "\n",
    "\n",
    "4. **remove(x)**: Removes the first occurrence of the element `x` from the list.\n",
    "\n",
    "\n",
    "\n",
    "5. **pop([i])**: Removes and returns the element at the specified index `i`. If `i` is not provided, it removes and returns the last element.\n",
    "\n",
    "\n",
    "\n",
    "6. **clear()**: Removes all elements from the list.\n",
    "\n",
    "\n",
    "\n",
    "7. **index(x[, start[, end]])**: Returns the index of the first occurrence of the element `x` in the list. Optionally, you can specify start and end indices to search within a specific slice of the list.\n",
    "\n",
    "\n",
    "\n",
    "8. **count(x)**: Returns the number of occurrences of the element `x` in the list.\n",
    "\n",
    "\n",
    "\n",
    "9. **sort(key=None, reverse=False)**: Sorts the elements of the list in ascending order by default. You can specify a custom sorting key function using the `key` parameter, and set \n",
    "`reverse=True` to sort in descending order.\n",
    "\n",
    "\n",
    "\n",
    "10. **reverse()**: Reverses the elements of the list in place.\n",
    "\n",
    "\n",
    "\n",
    "11. **copy()**: Returns a shallow copy of the list.\n",
    "\n",
    "\n",
    "\n",
    "These are just the basic methods. There are more advanced operations you can perform using list comprehensions, slicing, and other techniques, but these methods cover most common use cases."
   ]
  },
  {
   "cell_type": "markdown",
   "id": "6981a9f5",
   "metadata": {},
   "source": [
    "### append(x): "
   ]
  },
  {
   "cell_type": "code",
   "execution_count": 1,
   "id": "616c05b5",
   "metadata": {},
   "outputs": [],
   "source": [
    "fruits=['apple','banana','mango']"
   ]
  },
  {
   "cell_type": "code",
   "execution_count": 2,
   "id": "55f9a472",
   "metadata": {},
   "outputs": [],
   "source": [
    "fruits.append('orange')"
   ]
  },
  {
   "cell_type": "code",
   "execution_count": 3,
   "id": "ed08937e",
   "metadata": {},
   "outputs": [
    {
     "data": {
      "text/plain": [
       "['apple', 'banana', 'mango', 'orange']"
      ]
     },
     "execution_count": 3,
     "metadata": {},
     "output_type": "execute_result"
    }
   ],
   "source": [
    "fruits"
   ]
  },
  {
   "cell_type": "code",
   "execution_count": 4,
   "id": "ef1faba8",
   "metadata": {},
   "outputs": [],
   "source": [
    "fruits.append(['kiwi','grapes'])"
   ]
  },
  {
   "cell_type": "code",
   "execution_count": 5,
   "id": "d197d522",
   "metadata": {},
   "outputs": [
    {
     "data": {
      "text/plain": [
       "['apple', 'banana', 'mango', 'orange', ['kiwi', 'grapes']]"
      ]
     },
     "execution_count": 5,
     "metadata": {},
     "output_type": "execute_result"
    }
   ],
   "source": [
    "fruits"
   ]
  },
  {
   "cell_type": "markdown",
   "id": "29360b5e",
   "metadata": {},
   "source": [
    "### clear"
   ]
  },
  {
   "cell_type": "code",
   "execution_count": 6,
   "id": "b868135d",
   "metadata": {},
   "outputs": [],
   "source": [
    "fruits2=['apple','banana','mango']"
   ]
  },
  {
   "cell_type": "code",
   "execution_count": 7,
   "id": "2286b415",
   "metadata": {},
   "outputs": [],
   "source": [
    "fruits2.clear()"
   ]
  },
  {
   "cell_type": "code",
   "execution_count": 8,
   "id": "43df0517",
   "metadata": {},
   "outputs": [
    {
     "data": {
      "text/plain": [
       "[]"
      ]
     },
     "execution_count": 8,
     "metadata": {},
     "output_type": "execute_result"
    }
   ],
   "source": [
    "fruits2"
   ]
  },
  {
   "cell_type": "markdown",
   "id": "f014dcaf",
   "metadata": {},
   "source": [
    "### Copy"
   ]
  },
  {
   "cell_type": "code",
   "execution_count": 9,
   "id": "fd8c99b3",
   "metadata": {},
   "outputs": [
    {
     "data": {
      "text/plain": [
       "['apple', 'banana', 'mango', 'orange', ['kiwi', 'grapes']]"
      ]
     },
     "execution_count": 9,
     "metadata": {},
     "output_type": "execute_result"
    }
   ],
   "source": [
    "fruits"
   ]
  },
  {
   "cell_type": "code",
   "execution_count": 10,
   "id": "1957eabc",
   "metadata": {},
   "outputs": [],
   "source": [
    "temp=fruits.copy()"
   ]
  },
  {
   "cell_type": "code",
   "execution_count": 11,
   "id": "179bc689",
   "metadata": {},
   "outputs": [
    {
     "data": {
      "text/plain": [
       "['apple', 'banana', 'mango', 'orange', ['kiwi', 'grapes']]"
      ]
     },
     "execution_count": 11,
     "metadata": {},
     "output_type": "execute_result"
    }
   ],
   "source": [
    "temp"
   ]
  },
  {
   "cell_type": "code",
   "execution_count": 12,
   "id": "e6eb7c4a",
   "metadata": {},
   "outputs": [],
   "source": [
    "# If you do not want to cahnge your list so you exactly copy the same list"
   ]
  },
  {
   "cell_type": "code",
   "execution_count": 14,
   "id": "41965710",
   "metadata": {},
   "outputs": [],
   "source": [
    " temp[0]='strawberry'"
   ]
  },
  {
   "cell_type": "code",
   "execution_count": 15,
   "id": "a7c5b089",
   "metadata": {},
   "outputs": [
    {
     "data": {
      "text/plain": [
       "['strawberry', 'banana', 'mango', 'orange', ['kiwi', 'grapes']]"
      ]
     },
     "execution_count": 15,
     "metadata": {},
     "output_type": "execute_result"
    }
   ],
   "source": [
    "temp"
   ]
  },
  {
   "cell_type": "markdown",
   "id": "62b4455e",
   "metadata": {},
   "source": [
    "### Count()"
   ]
  },
  {
   "cell_type": "code",
   "execution_count": 17,
   "id": "5ca27528",
   "metadata": {},
   "outputs": [
    {
     "data": {
      "text/plain": [
       "1"
      ]
     },
     "execution_count": 17,
     "metadata": {},
     "output_type": "execute_result"
    }
   ],
   "source": [
    "fruits.count('apple')"
   ]
  },
  {
   "cell_type": "code",
   "execution_count": 20,
   "id": "da345547",
   "metadata": {},
   "outputs": [
    {
     "data": {
      "text/plain": [
       "5"
      ]
     },
     "execution_count": 20,
     "metadata": {},
     "output_type": "execute_result"
    }
   ],
   "source": [
    "len(fruits )"
   ]
  },
  {
   "cell_type": "markdown",
   "id": "ff556249",
   "metadata": {},
   "source": [
    "### Extend()"
   ]
  },
  {
   "cell_type": "code",
   "execution_count": 21,
   "id": "2fabb833",
   "metadata": {},
   "outputs": [],
   "source": [
    "fruits3=['apple', 'banana', 'mango', 'orange', ['kiwi', 'grapes']]"
   ]
  },
  {
   "cell_type": "code",
   "execution_count": 22,
   "id": "2e017890",
   "metadata": {},
   "outputs": [],
   "source": [
    "cars=['swift','wagnor','verna']"
   ]
  },
  {
   "cell_type": "code",
   "execution_count": 23,
   "id": "9b9968d2",
   "metadata": {},
   "outputs": [],
   "source": [
    "# If you have to add one list with another "
   ]
  },
  {
   "cell_type": "code",
   "execution_count": 24,
   "id": "2efc5b6c",
   "metadata": {},
   "outputs": [],
   "source": [
    "fruits.extend(cars)"
   ]
  },
  {
   "cell_type": "code",
   "execution_count": 25,
   "id": "f18d797c",
   "metadata": {},
   "outputs": [
    {
     "data": {
      "text/plain": [
       "['apple',\n",
       " 'banana',\n",
       " 'mango',\n",
       " 'orange',\n",
       " ['kiwi', 'grapes'],\n",
       " 'swift',\n",
       " 'wagnor',\n",
       " 'verna']"
      ]
     },
     "execution_count": 25,
     "metadata": {},
     "output_type": "execute_result"
    }
   ],
   "source": [
    "fruits"
   ]
  },
  {
   "cell_type": "code",
   "execution_count": 26,
   "id": "87624b33",
   "metadata": {},
   "outputs": [
    {
     "data": {
      "text/plain": [
       "['apple',\n",
       " 'banana',\n",
       " 'mango',\n",
       " 'orange',\n",
       " ['kiwi', 'grapes'],\n",
       " 'swift',\n",
       " 'wagnor',\n",
       " 'verna',\n",
       " 'swift',\n",
       " 'wagnor',\n",
       " 'verna']"
      ]
     },
     "execution_count": 26,
     "metadata": {},
     "output_type": "execute_result"
    }
   ],
   "source": [
    "fruits+cars"
   ]
  },
  {
   "cell_type": "code",
   "execution_count": 27,
   "id": "55943dd7",
   "metadata": {},
   "outputs": [],
   "source": [
    "# but this is not the correct way for industry"
   ]
  },
  {
   "cell_type": "markdown",
   "id": "b69f764c",
   "metadata": {},
   "source": [
    "### Index( )"
   ]
  },
  {
   "cell_type": "code",
   "execution_count": 28,
   "id": "5fe40a37",
   "metadata": {},
   "outputs": [],
   "source": [
    "# In industry use, we faces many list that contain large amount of elements so to find index"
   ]
  },
  {
   "cell_type": "code",
   "execution_count": 30,
   "id": "d9c74e7d",
   "metadata": {},
   "outputs": [
    {
     "data": {
      "text/plain": [
       "['apple', 'banana', 'mango', 'orange', ['kiwi', 'grapes']]"
      ]
     },
     "execution_count": 30,
     "metadata": {},
     "output_type": "execute_result"
    }
   ],
   "source": [
    "fruits3"
   ]
  },
  {
   "cell_type": "code",
   "execution_count": 31,
   "id": "aadd2317",
   "metadata": {},
   "outputs": [
    {
     "data": {
      "text/plain": [
       "3"
      ]
     },
     "execution_count": 31,
     "metadata": {},
     "output_type": "execute_result"
    }
   ],
   "source": [
    "fruits.index('orange')"
   ]
  },
  {
   "cell_type": "code",
   "execution_count": 32,
   "id": "622b9c6b",
   "metadata": {},
   "outputs": [],
   "source": [
    "# If you have duplicate values then it will return the first one"
   ]
  },
  {
   "cell_type": "markdown",
   "id": "45353592",
   "metadata": {},
   "source": [
    "### Insert"
   ]
  },
  {
   "cell_type": "code",
   "execution_count": 33,
   "id": "eb985b23",
   "metadata": {},
   "outputs": [
    {
     "data": {
      "text/plain": [
       "['apple',\n",
       " 'banana',\n",
       " 'mango',\n",
       " 'orange',\n",
       " ['kiwi', 'grapes'],\n",
       " 'swift',\n",
       " 'wagnor',\n",
       " 'verna']"
      ]
     },
     "execution_count": 33,
     "metadata": {},
     "output_type": "execute_result"
    }
   ],
   "source": [
    "fruits"
   ]
  },
  {
   "cell_type": "code",
   "execution_count": 34,
   "id": "03fbcdf0",
   "metadata": {},
   "outputs": [
    {
     "name": "stdout",
     "output_type": "stream",
     "text": [
      "['apple', 'banana', 'mango', 'orange', ['kiwi', 'grapes'], 'swift', 'wagnor', 'verna']\n"
     ]
    }
   ],
   "source": [
    "print(fruits)"
   ]
  },
  {
   "cell_type": "code",
   "execution_count": 35,
   "id": "51a00bfe",
   "metadata": {},
   "outputs": [],
   "source": [
    "# If you want to add at 1 index ie banana now"
   ]
  },
  {
   "cell_type": "code",
   "execution_count": 37,
   "id": "9c0c8c4f",
   "metadata": {},
   "outputs": [],
   "source": [
    "fruits.insert(1,'berrys')"
   ]
  },
  {
   "cell_type": "code",
   "execution_count": 38,
   "id": "daf80495",
   "metadata": {},
   "outputs": [
    {
     "name": "stdout",
     "output_type": "stream",
     "text": [
      "['apple', 'berrys', 'banana', 'mango', 'orange', ['kiwi', 'grapes'], 'swift', 'wagnor', 'verna']\n"
     ]
    }
   ],
   "source": [
    "print(fruits)"
   ]
  },
  {
   "cell_type": "code",
   "execution_count": 39,
   "id": "fa2058ef",
   "metadata": {},
   "outputs": [],
   "source": [
    " fruits.insert(100,'berrys')"
   ]
  },
  {
   "cell_type": "code",
   "execution_count": 40,
   "id": "97305f30",
   "metadata": {},
   "outputs": [
    {
     "name": "stdout",
     "output_type": "stream",
     "text": [
      "['apple', 'berrys', 'banana', 'mango', 'orange', ['kiwi', 'grapes'], 'swift', 'wagnor', 'verna', 'berrys']\n"
     ]
    }
   ],
   "source": [
    "print(fruits)"
   ]
  },
  {
   "cell_type": "markdown",
   "id": "230e0a6c",
   "metadata": {},
   "source": [
    "### Pop( )"
   ]
  },
  {
   "cell_type": "code",
   "execution_count": 41,
   "id": "76f7bb5c",
   "metadata": {},
   "outputs": [
    {
     "name": "stdout",
     "output_type": "stream",
     "text": [
      "['apple', 'berrys', 'banana', 'mango', 'orange', ['kiwi', 'grapes'], 'swift', 'wagnor', 'verna', 'berrys']\n"
     ]
    }
   ],
   "source": [
    "print(fruits)"
   ]
  },
  {
   "cell_type": "code",
   "execution_count": 42,
   "id": "0039e5ac",
   "metadata": {},
   "outputs": [],
   "source": [
    "# If you don't give proper index it will delete at the last\n"
   ]
  },
  {
   "cell_type": "code",
   "execution_count": 43,
   "id": "9d4387cf",
   "metadata": {},
   "outputs": [
    {
     "data": {
      "text/plain": [
       "'berrys'"
      ]
     },
     "execution_count": 43,
     "metadata": {},
     "output_type": "execute_result"
    }
   ],
   "source": [
    "fruits.pop()"
   ]
  },
  {
   "cell_type": "code",
   "execution_count": 44,
   "id": "d2983322",
   "metadata": {},
   "outputs": [
    {
     "name": "stdout",
     "output_type": "stream",
     "text": [
      "['apple', 'berrys', 'banana', 'mango', 'orange', ['kiwi', 'grapes'], 'swift', 'wagnor', 'verna']\n"
     ]
    }
   ],
   "source": [
    "print(fruits)"
   ]
  },
  {
   "cell_type": "code",
   "execution_count": 45,
   "id": "6df5f37a",
   "metadata": {},
   "outputs": [],
   "source": [
    "# If you want to delete specific element then you have to give proper index number"
   ]
  },
  {
   "cell_type": "code",
   "execution_count": 46,
   "id": "15ffd807",
   "metadata": {},
   "outputs": [
    {
     "data": {
      "text/plain": [
       "'banana'"
      ]
     },
     "execution_count": 46,
     "metadata": {},
     "output_type": "execute_result"
    }
   ],
   "source": [
    "fruits.pop(2)     # If you want to remove banana"
   ]
  },
  {
   "cell_type": "code",
   "execution_count": 47,
   "id": "22909865",
   "metadata": {},
   "outputs": [
    {
     "name": "stdout",
     "output_type": "stream",
     "text": [
      "['apple', 'berrys', 'mango', 'orange', ['kiwi', 'grapes'], 'swift', 'wagnor', 'verna']\n"
     ]
    }
   ],
   "source": [
    "print(fruits)"
   ]
  },
  {
   "cell_type": "markdown",
   "id": "9e313f9f",
   "metadata": {},
   "source": [
    "### Remove()\n"
   ]
  },
  {
   "cell_type": "code",
   "execution_count": 48,
   "id": "a585fbd9",
   "metadata": {},
   "outputs": [
    {
     "data": {
      "text/plain": [
       "['apple',\n",
       " 'berrys',\n",
       " 'mango',\n",
       " 'orange',\n",
       " ['kiwi', 'grapes'],\n",
       " 'swift',\n",
       " 'wagnor',\n",
       " 'verna']"
      ]
     },
     "execution_count": 48,
     "metadata": {},
     "output_type": "execute_result"
    }
   ],
   "source": [
    "fruits"
   ]
  },
  {
   "cell_type": "code",
   "execution_count": 49,
   "id": "4aaf6e2c",
   "metadata": {},
   "outputs": [],
   "source": [
    "fruits.remove('apple')"
   ]
  },
  {
   "cell_type": "code",
   "execution_count": 50,
   "id": "5ecf01c1",
   "metadata": {},
   "outputs": [
    {
     "name": "stdout",
     "output_type": "stream",
     "text": [
      "['berrys', 'mango', 'orange', ['kiwi', 'grapes'], 'swift', 'wagnor', 'verna']\n"
     ]
    }
   ],
   "source": [
    "print(fruits)"
   ]
  },
  {
   "cell_type": "code",
   "execution_count": 51,
   "id": "577e090c",
   "metadata": {},
   "outputs": [],
   "source": [
    "temp=[]\n",
    "for i in fruits:\n",
    "    if i == 'mango':\n",
    "        pass\n",
    "    else:\n",
    "        temp.append(i)"
   ]
  },
  {
   "cell_type": "code",
   "execution_count": 52,
   "id": "bf5a5e81",
   "metadata": {},
   "outputs": [
    {
     "data": {
      "text/plain": [
       "['berrys', 'orange', ['kiwi', 'grapes'], 'swift', 'wagnor', 'verna']"
      ]
     },
     "execution_count": 52,
     "metadata": {},
     "output_type": "execute_result"
    }
   ],
   "source": [
    "temp"
   ]
  },
  {
   "cell_type": "code",
   "execution_count": 53,
   "id": "c23260a1",
   "metadata": {},
   "outputs": [],
   "source": [
    "temt=[]\n",
    "for i in fruits:\n",
    "    if i == 'mango':\n",
    "        pass\n",
    "    else:\n",
    "        temt.append(i)"
   ]
  },
  {
   "cell_type": "code",
   "execution_count": 54,
   "id": "3d4f1cc6",
   "metadata": {},
   "outputs": [
    {
     "data": {
      "text/plain": [
       "['berrys', 'orange', ['kiwi', 'grapes'], 'swift', 'wagnor', 'verna']"
      ]
     },
     "execution_count": 54,
     "metadata": {},
     "output_type": "execute_result"
    }
   ],
   "source": [
    "temt"
   ]
  },
  {
   "cell_type": "markdown",
   "id": "47905431",
   "metadata": {},
   "source": [
    "### Reverse()"
   ]
  },
  {
   "cell_type": "code",
   "execution_count": 55,
   "id": "3ff68850",
   "metadata": {},
   "outputs": [
    {
     "name": "stdout",
     "output_type": "stream",
     "text": [
      "['berrys', 'mango', 'orange', ['kiwi', 'grapes'], 'swift', 'wagnor', 'verna']\n"
     ]
    }
   ],
   "source": [
    "print(fruits)"
   ]
  },
  {
   "cell_type": "code",
   "execution_count": 56,
   "id": "a079cbbf",
   "metadata": {},
   "outputs": [],
   "source": [
    "fruits.reverse()"
   ]
  },
  {
   "cell_type": "code",
   "execution_count": 57,
   "id": "56c6f97c",
   "metadata": {},
   "outputs": [
    {
     "name": "stdout",
     "output_type": "stream",
     "text": [
      "['verna', 'wagnor', 'swift', ['kiwi', 'grapes'], 'orange', 'mango', 'berrys']\n"
     ]
    }
   ],
   "source": [
    "print(fruits)"
   ]
  },
  {
   "cell_type": "code",
   "execution_count": 58,
   "id": "ec5deb73",
   "metadata": {},
   "outputs": [
    {
     "name": "stdout",
     "output_type": "stream",
     "text": [
      "['swift', 'wagnor', 'verna']\n"
     ]
    }
   ],
   "source": [
    "print(cars)"
   ]
  },
  {
   "cell_type": "code",
   "execution_count": 59,
   "id": "f927c6ad",
   "metadata": {},
   "outputs": [],
   "source": [
    "cars.sort()"
   ]
  },
  {
   "cell_type": "code",
   "execution_count": 60,
   "id": "ee6c542b",
   "metadata": {},
   "outputs": [
    {
     "data": {
      "text/plain": [
       "['swift', 'verna', 'wagnor']"
      ]
     },
     "execution_count": 60,
     "metadata": {},
     "output_type": "execute_result"
    }
   ],
   "source": [
    "cars"
   ]
  },
  {
   "cell_type": "code",
   "execution_count": 61,
   "id": "28b4c280",
   "metadata": {},
   "outputs": [],
   "source": [
    "l1=[2,15,3,5,7,4]"
   ]
  },
  {
   "cell_type": "code",
   "execution_count": 62,
   "id": "c432299b",
   "metadata": {},
   "outputs": [],
   "source": [
    "l1.sort()"
   ]
  },
  {
   "cell_type": "code",
   "execution_count": 63,
   "id": "c5f3d735",
   "metadata": {},
   "outputs": [
    {
     "name": "stdout",
     "output_type": "stream",
     "text": [
      "[2, 3, 4, 5, 7, 15]\n"
     ]
    }
   ],
   "source": [
    "print(l1)"
   ]
  },
  {
   "cell_type": "code",
   "execution_count": 64,
   "id": "a01dbe37",
   "metadata": {},
   "outputs": [],
   "source": [
    "# It is in acending order but if you want in decending order then"
   ]
  },
  {
   "cell_type": "code",
   "execution_count": 65,
   "id": "0888e417",
   "metadata": {},
   "outputs": [],
   "source": [
    "l1.sort(reverse=True)"
   ]
  },
  {
   "cell_type": "code",
   "execution_count": 66,
   "id": "907163f5",
   "metadata": {},
   "outputs": [
    {
     "name": "stdout",
     "output_type": "stream",
     "text": [
      "[15, 7, 5, 4, 3, 2]\n"
     ]
    }
   ],
   "source": [
    "print(l1)"
   ]
  },
  {
   "cell_type": "markdown",
   "id": "f5dbf4d5",
   "metadata": {},
   "source": [
    "## Tuples\n",
    "\n",
    "\n",
    "a tuple is a collection data type that is similar to a list but with one key difference: tuples are immutable, meaning their elements cannot be changed or modified after the tuple is created. \n",
    "\n",
    "Tuples are defined by enclosing comma-separated values within parentheses `()`. For example:\n",
    "\n",
    "```python\n",
    "my_tuple = (1, 2, 3, 'a', 'b', 'c')\n",
    "```\n",
    "\n",
    "Tuples can contain elements of different data types, including numbers, strings, and even other tuples or lists.\n",
    "\n",
    "Here are some key characteristics of tuples:\n",
    "\n",
    "1. **Immutable**: Once a tuple is created, you cannot modify its elements. This means you cannot add, remove, or change elements within a tuple.\n",
    "\n",
    "2. **Ordered**: Like lists, tuples maintain the order of elements, meaning the order in which elements are defined is preserved.\n",
    "\n",
    "3. **Indexing and Slicing**: You can access individual elements of a tuple using indexing and slicing, just like with lists.\n",
    "\n",
    "4. **Iterable**: Tuples can be iterated over using loops or other iterable operations.\n",
    "\n",
    "5. **Hashable**: Tuples are hashable and can be used as keys in dictionaries or elements in sets.\n",
    "\n",
    "Tuples are often used for situations where you want to store a collection of items that should not be changed, such as coordinates, database records, or configuration settings. Additionally, they can be useful for functions that need to return multiple values, as you can return a tuple containing those values."
   ]
  },
  {
   "cell_type": "code",
   "execution_count": 67,
   "id": "71c1e80e",
   "metadata": {},
   "outputs": [],
   "source": [
    "tup=(1,2,'ravi',0.4,True)"
   ]
  },
  {
   "cell_type": "code",
   "execution_count": 68,
   "id": "f1781f36",
   "metadata": {},
   "outputs": [
    {
     "data": {
      "text/plain": [
       "tuple"
      ]
     },
     "execution_count": 68,
     "metadata": {},
     "output_type": "execute_result"
    }
   ],
   "source": [
    "type(tup)"
   ]
  },
  {
   "cell_type": "code",
   "execution_count": 69,
   "id": "15ad14cc",
   "metadata": {},
   "outputs": [
    {
     "data": {
      "text/plain": [
       "1"
      ]
     },
     "execution_count": 69,
     "metadata": {},
     "output_type": "execute_result"
    }
   ],
   "source": [
    "# We can perform indexing \n",
    "\n",
    "tup[0]"
   ]
  },
  {
   "cell_type": "code",
   "execution_count": 70,
   "id": "5b27eba3",
   "metadata": {},
   "outputs": [
    {
     "data": {
      "text/plain": [
       "'ravi'"
      ]
     },
     "execution_count": 70,
     "metadata": {},
     "output_type": "execute_result"
    }
   ],
   "source": [
    "tup[2]"
   ]
  },
  {
   "cell_type": "code",
   "execution_count": 71,
   "id": "4aa1053d",
   "metadata": {},
   "outputs": [],
   "source": [
    "# We cannot change the object in it like we did in list"
   ]
  },
  {
   "cell_type": "code",
   "execution_count": 72,
   "id": "5e0286b7",
   "metadata": {},
   "outputs": [
    {
     "ename": "TypeError",
     "evalue": "'tuple' object does not support item assignment",
     "output_type": "error",
     "traceback": [
      "\u001b[0;31m---------------------------------------------------------------------------\u001b[0m",
      "\u001b[0;31mTypeError\u001b[0m                                 Traceback (most recent call last)",
      "Cell \u001b[0;32mIn[72], line 1\u001b[0m\n\u001b[0;32m----> 1\u001b[0m tup[\u001b[38;5;241m2\u001b[39m]\u001b[38;5;241m=\u001b[39m\u001b[38;5;241m12\u001b[39m\n",
      "\u001b[0;31mTypeError\u001b[0m: 'tuple' object does not support item assignment"
     ]
    }
   ],
   "source": [
    "tup[2]=12"
   ]
  },
  {
   "cell_type": "code",
   "execution_count": 75,
   "id": "71a3a1f8",
   "metadata": {},
   "outputs": [],
   "source": [
    "# We can not add elements in tuples bcz it support append() operation"
   ]
  },
  {
   "cell_type": "code",
   "execution_count": 76,
   "id": "77694556",
   "metadata": {},
   "outputs": [
    {
     "ename": "AttributeError",
     "evalue": "'tuple' object has no attribute 'append'",
     "output_type": "error",
     "traceback": [
      "\u001b[0;31m---------------------------------------------------------------------------\u001b[0m",
      "\u001b[0;31mAttributeError\u001b[0m                            Traceback (most recent call last)",
      "Cell \u001b[0;32mIn[76], line 1\u001b[0m\n\u001b[0;32m----> 1\u001b[0m tup\u001b[38;5;241m.\u001b[39mappend(\u001b[38;5;124m'\u001b[39m\u001b[38;5;124m344324\u001b[39m\u001b[38;5;124m'\u001b[39m)\n",
      "\u001b[0;31mAttributeError\u001b[0m: 'tuple' object has no attribute 'append'"
     ]
    }
   ],
   "source": [
    "tup.append('344324')"
   ]
  },
  {
   "cell_type": "code",
   "execution_count": 77,
   "id": "dbba742a",
   "metadata": {},
   "outputs": [],
   "source": [
    " # If you want to append then firstly you have to type cast it into list"
   ]
  },
  {
   "cell_type": "code",
   "execution_count": null,
   "id": "f63dcc91",
   "metadata": {},
   "outputs": [],
   "source": []
  }
 ],
 "metadata": {
  "kernelspec": {
   "display_name": "Python 3 (ipykernel)",
   "language": "python",
   "name": "python3"
  },
  "language_info": {
   "codemirror_mode": {
    "name": "ipython",
    "version": 3
   },
   "file_extension": ".py",
   "mimetype": "text/x-python",
   "name": "python",
   "nbconvert_exporter": "python",
   "pygments_lexer": "ipython3",
   "version": "3.11.7"
  }
 },
 "nbformat": 4,
 "nbformat_minor": 5
}
