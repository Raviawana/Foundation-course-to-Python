{
 "cells": [
  {
   "cell_type": "markdown",
   "id": "92fec79a",
   "metadata": {},
   "source": [
    "# Agenda\n",
    "\n",
    "1. For loop thing\n",
    "2. nested loop\n",
    "3. Range\n",
    "4. Questions\n",
    "5. Introduction to functions"
   ]
  },
  {
   "cell_type": "markdown",
   "id": "ce120bbb",
   "metadata": {},
   "source": [
    "#### WAP to take  a name from user and output it back after removing all the vowels from it?"
   ]
  },
  {
   "cell_type": "code",
   "execution_count": 3,
   "id": "4408abc4",
   "metadata": {},
   "outputs": [
    {
     "name": "stdout",
     "output_type": "stream",
     "text": [
      " write your name - ravindra\n"
     ]
    },
    {
     "ename": "TypeError",
     "evalue": "unsupported operand type(s) for -: 'str' and 'str'",
     "output_type": "error",
     "traceback": [
      "\u001b[0;31m---------------------------------------------------------------------------\u001b[0m",
      "\u001b[0;31mTypeError\u001b[0m                                 Traceback (most recent call last)",
      "Cell \u001b[0;32mIn[3], line 5\u001b[0m\n\u001b[1;32m      3\u001b[0m i\u001b[38;5;241m=\u001b[39m[\u001b[38;5;124m'\u001b[39m\u001b[38;5;124ma\u001b[39m\u001b[38;5;124m'\u001b[39m,\u001b[38;5;124m'\u001b[39m\u001b[38;5;124me\u001b[39m\u001b[38;5;124m'\u001b[39m,\u001b[38;5;124m'\u001b[39m\u001b[38;5;124mi\u001b[39m\u001b[38;5;124m'\u001b[39m,\u001b[38;5;124m'\u001b[39m\u001b[38;5;124mo\u001b[39m\u001b[38;5;124m'\u001b[39m,\u001b[38;5;124m'\u001b[39m\u001b[38;5;124mu\u001b[39m\u001b[38;5;124m'\u001b[39m]\n\u001b[1;32m      4\u001b[0m \u001b[38;5;28;01mfor\u001b[39;00m i \u001b[38;5;129;01min\u001b[39;00m s:\n\u001b[0;32m----> 5\u001b[0m     \u001b[38;5;28mprint\u001b[39m(s\u001b[38;5;241m-\u001b[39mi)\n",
      "\u001b[0;31mTypeError\u001b[0m: unsupported operand type(s) for -: 'str' and 'str'"
     ]
    }
   ],
   "source": [
    "s=input(' write your name - ')\n",
    "s.split()\n",
    "i=['a','e','i','o','u']\n",
    "for i in s:\n",
    "    print(s-i)"
   ]
  },
  {
   "cell_type": "code",
   "execution_count": 4,
   "id": "10142e39",
   "metadata": {},
   "outputs": [
    {
     "name": "stdout",
     "output_type": "stream",
     "text": [
      " write your name - ravindra\n"
     ]
    },
    {
     "ename": "TypeError",
     "evalue": "unsupported operand type(s) for -: 'str' and 'str'",
     "output_type": "error",
     "traceback": [
      "\u001b[0;31m---------------------------------------------------------------------------\u001b[0m",
      "\u001b[0;31mTypeError\u001b[0m                                 Traceback (most recent call last)",
      "Cell \u001b[0;32mIn[4], line 5\u001b[0m\n\u001b[1;32m      3\u001b[0m i\u001b[38;5;241m=\u001b[39m[\u001b[38;5;124m'\u001b[39m\u001b[38;5;124ma\u001b[39m\u001b[38;5;124m'\u001b[39m,\u001b[38;5;124m'\u001b[39m\u001b[38;5;124me\u001b[39m\u001b[38;5;124m'\u001b[39m,\u001b[38;5;124m'\u001b[39m\u001b[38;5;124mi\u001b[39m\u001b[38;5;124m'\u001b[39m,\u001b[38;5;124m'\u001b[39m\u001b[38;5;124mo\u001b[39m\u001b[38;5;124m'\u001b[39m,\u001b[38;5;124m'\u001b[39m\u001b[38;5;124mu\u001b[39m\u001b[38;5;124m'\u001b[39m]\n\u001b[1;32m      4\u001b[0m \u001b[38;5;28;01mfor\u001b[39;00m i \u001b[38;5;129;01min\u001b[39;00m s:\n\u001b[0;32m----> 5\u001b[0m     \u001b[38;5;28mprint\u001b[39m(s\u001b[38;5;241m-\u001b[39mi)\n",
      "\u001b[0;31mTypeError\u001b[0m: unsupported operand type(s) for -: 'str' and 'str'"
     ]
    }
   ],
   "source": [
    "s=input(' write your name - ')\n",
    "\n",
    "i=['a','e','i','o','u']\n",
    "for i in s:\n",
    "    print(s-i)"
   ]
  },
  {
   "cell_type": "code",
   "execution_count": 11,
   "id": "51bf407d",
   "metadata": {},
   "outputs": [
    {
     "name": "stdout",
     "output_type": "stream",
     "text": [
      " Enter your name-Ravindra kumar\n"
     ]
    },
    {
     "data": {
      "text/plain": [
       "'Rvndr kmr'"
      ]
     },
     "execution_count": 11,
     "metadata": {},
     "output_type": "execute_result"
    }
   ],
   "source": [
    "name=input(' Enter your name-')\n",
    "ans=''\n",
    "for alphabet in name:\n",
    "    if alphabet in 'aeiou' or alphabet in 'AEIOU':\n",
    "        continue\n",
    "    ans=ans+alphabet\n",
    "ans    "
   ]
  },
  {
   "cell_type": "markdown",
   "id": "c10be5c5",
   "metadata": {},
   "source": [
    "####  WAP to take positive number from user and find the sum of natural numbers till that number?"
   ]
  },
  {
   "cell_type": "code",
   "execution_count": 17,
   "id": "f3698dff",
   "metadata": {},
   "outputs": [
    {
     "data": {
      "text/plain": [
       "1540"
      ]
     },
     "execution_count": 17,
     "metadata": {},
     "output_type": "execute_result"
    }
   ],
   "source": [
    "start=1\n",
    "ans=0\n",
    "n=55\n",
    "while(start!=n+1):\n",
    "    ans=ans+start\n",
    "    start=start+1\n",
    "ans    \n",
    "\n"
   ]
  },
  {
   "cell_type": "markdown",
   "id": "0ca318c9",
   "metadata": {},
   "source": [
    "#### WAP to take an input string from the user and check if it's a palindrome?\n",
    "(using loops)"
   ]
  },
  {
   "cell_type": "code",
   "execution_count": 26,
   "id": "cacd3bd0",
   "metadata": {},
   "outputs": [
    {
     "name": "stdout",
     "output_type": "stream",
     "text": [
      "write a word i will tell you whetehr it is a palindrome -nitin\n",
      "yes\n",
      "yes\n",
      "yes\n",
      "yes\n",
      "yes\n"
     ]
    }
   ],
   "source": [
    "str1 = input('write a word i will tell you whetehr it is a palindrome -')\n",
    "for i in str1:             # Self tried wrong outcome\n",
    "    if i==i[::-1]:\n",
    "        print('yes')"
   ]
  },
  {
   "cell_type": "code",
   "execution_count": 24,
   "id": "fbb2e859",
   "metadata": {},
   "outputs": [
    {
     "name": "stdout",
     "output_type": "stream",
     "text": [
      "write a word i will tell you whetehr it is a palindrome -RAVINDRA\n",
      "yes\n",
      "yes\n",
      "yes\n",
      "yes\n",
      "yes\n",
      "yes\n",
      "yes\n",
      "yes\n"
     ]
    }
   ],
   "source": [
    "str1 = input('write a word i will tell you whetehr it is a palindrome -')\n",
    "for i in str1:\n",
    "    if i==i[::-1]:                       # Self tried wrong outcome\n",
    "        print('yes')"
   ]
  },
  {
   "cell_type": "code",
   "execution_count": 29,
   "id": "fc707d0e",
   "metadata": {},
   "outputs": [
    {
     "name": "stdout",
     "output_type": "stream",
     "text": [
      "write a word i will tell you whetehr it is a palindrome -NITIN\n",
      "no\n",
      "no\n",
      "no\n",
      "no\n",
      "no\n"
     ]
    }
   ],
   "source": [
    "str1 = input('write a word i will tell you whetehr it is a palindrome -')\n",
    "for i in str1:\n",
    "    if i in str1==i in str1[::-1]:                       # Self tried wrong outcome\n",
    "        print('yes')\n",
    "    else:\n",
    "        print('no')"
   ]
  },
  {
   "cell_type": "code",
   "execution_count": 30,
   "id": "7a829e1b",
   "metadata": {},
   "outputs": [
    {
     "name": "stdout",
     "output_type": "stream",
     "text": [
      "Enter a nameRAVINDRA\n",
      "Not a palindrome\n"
     ]
    }
   ],
   "source": [
    "name = input(\"Enter a name\")\n",
    "start = 0\n",
    "end = len (name) - 1\n",
    "is_palindrome = 1\n",
    "while (start < end):\n",
    "    if name[start] != name[end]:\n",
    "        is_palindrome = 0\n",
    "        break \n",
    "        start +=1\n",
    "        end -= 1\n",
    "\n",
    "\n",
    "if is_palindrome == 0:\n",
    "    print(\"Not a palindrome\" )\n",
    "else:\n",
    "    print(\"Its a palindrome\" )"
   ]
  },
  {
   "cell_type": "code",
   "execution_count": 35,
   "id": "cd1572be",
   "metadata": {},
   "outputs": [
    {
     "name": "stdout",
     "output_type": "stream",
     "text": [
      "Enter a name  - NITIN\n",
      "Its a palindrome\n"
     ]
    }
   ],
   "source": [
    "name = input(\"Enter a name  - \")\n",
    "start = 0\n",
    "end = len(name)- 1\n",
    "is_palindrome = 1\n",
    "while (start < end):\n",
    "    if name[start] != name[end]:\n",
    "        is_palindrome = 0\n",
    "        break \n",
    "    start +=1\n",
    "    end -= 1\n",
    "\n",
    "\n",
    "if is_palindrome == 0:\n",
    "    print(\"Not a palindrome\" )\n",
    "else:\n",
    "    print(\"Its a palindrome\" )"
   ]
  },
  {
   "cell_type": "code",
   "execution_count": 36,
   "id": "7bf269f8",
   "metadata": {},
   "outputs": [
    {
     "name": "stdout",
     "output_type": "stream",
     "text": [
      "Enter a name  - ravindra\n",
      "Not a palindrome\n"
     ]
    }
   ],
   "source": [
    "name = input(\"Enter a name  - \")\n",
    "start = 0\n",
    "end = len(name)- 1\n",
    "is_palindrome = 1\n",
    "while (start < end):\n",
    "    if name[start] != name[end]:\n",
    "        is_palindrome = 0\n",
    "        break \n",
    "    start +=1\n",
    "    end -= 1\n",
    "\n",
    "\n",
    "if is_palindrome == 0:\n",
    "    print(\"Not a palindrome\" )\n",
    "else:\n",
    "    print(\"Its a palindrome\" )"
   ]
  },
  {
   "cell_type": "markdown",
   "id": "9cf70873",
   "metadata": {},
   "source": [
    "#### WAP to take a number from user and write it's factorial?\n",
    "\n",
    "factorial is \n",
    "\n",
    "if we have to find a factorial of 4 then it will be 1 * 2  * 3 * 4"
   ]
  },
  {
   "cell_type": "code",
   "execution_count": 40,
   "id": "a2a68f71",
   "metadata": {},
   "outputs": [
    {
     "name": "stdout",
     "output_type": "stream",
     "text": [
      "4\n",
      "the factorial of number 4 is 24\n"
     ]
    }
   ],
   "source": [
    "number= int(input())\n",
    "tempnumber = number\n",
    "fact=1\n",
    "while tempnumber > 0:\n",
    "    \n",
    "    fact*=tempnumber\n",
    "    tempnumber = tempnumber - 1\n",
    "print('the factorial of number {} is {}'.format(number,fact))    \n"
   ]
  },
  {
   "cell_type": "code",
   "execution_count": 41,
   "id": "d308819e",
   "metadata": {},
   "outputs": [
    {
     "data": {
      "text/plain": [
       "120"
      ]
     },
     "execution_count": 41,
     "metadata": {},
     "output_type": "execute_result"
    }
   ],
   "source": [
    " # second wAY\n",
    "    \n",
    "number = 5 \n",
    "start=1\n",
    "ans=1\n",
    "\n",
    "while start <= number:\n",
    "    ans*=start\n",
    "    start+=1\n",
    "ans    "
   ]
  },
  {
   "cell_type": "markdown",
   "id": "c10ef51c",
   "metadata": {},
   "source": [
    "### Sequance / Iterable\n",
    "\n",
    "a sequence is an ordered collection of items. Sequences support indexing and slicing operations. Common examples of sequences include lists, tuples, and strings.\n",
    "\n",
    "\n",
    "\n",
    "An iterable, on the other hand, is any object in Python that can be looped over using a loop construct like a for loop. Iterables include not only sequences like lists and tuples but also other objects like dictionaries, sets, and even files.\n",
    "\n",
    "\n",
    "\n",
    "While all sequences are iterables because you can loop over their elements, not all iterables are sequences. For example, a dictionary is an iterable, but it's not a sequence because it doesn't have a defined order for its elements.\n",
    "\n",
    "\n",
    "Here's a quick summary:\n",
    "\n",
    "\n",
    "Sequence: Ordered collection of items, supports indexing and slicing. Examples include lists, tuples, and strings.\n",
    "\n",
    "\n",
    "Iterable: Any object that can be looped over using a loop construct like a for loop. Examples include sequences, dictionaries, sets, and files.\n",
    "\n",
    "\n"
   ]
  },
  {
   "cell_type": "code",
   "execution_count": 42,
   "id": "2ca40a84",
   "metadata": {},
   "outputs": [],
   "source": [
    "str1='ravindra'\n",
    "t1=('r','a','v','i')\n",
    "l1=['r','a','v','i']\n",
    "set1={'r','a','v','i'}"
   ]
  },
  {
   "cell_type": "code",
   "execution_count": 43,
   "id": "e9afb341",
   "metadata": {},
   "outputs": [
    {
     "name": "stdout",
     "output_type": "stream",
     "text": [
      "r\n",
      "a\n",
      "v\n",
      "i\n",
      "n\n",
      "d\n",
      "r\n",
      "a\n"
     ]
    }
   ],
   "source": [
    "for eachelement in str1:\n",
    "    print(eachelement)\n",
    "    "
   ]
  },
  {
   "cell_type": "code",
   "execution_count": 45,
   "id": "b4e39a17",
   "metadata": {},
   "outputs": [
    {
     "name": "stdout",
     "output_type": "stream",
     "text": [
      "v\n",
      "r\n",
      "a\n",
      "i\n"
     ]
    }
   ],
   "source": [
    "for eachelement in set1:\n",
    "    print(eachelement)"
   ]
  },
  {
   "cell_type": "code",
   "execution_count": 46,
   "id": "624936de",
   "metadata": {},
   "outputs": [
    {
     "name": "stdout",
     "output_type": "stream",
     "text": [
      "r\n",
      "a\n",
      "v\n",
      "i\n"
     ]
    }
   ],
   "source": [
    "for eachelement in t1:\n",
    "    print(eachelement)"
   ]
  },
  {
   "cell_type": "code",
   "execution_count": 47,
   "id": "4dc45abf",
   "metadata": {},
   "outputs": [
    {
     "name": "stdout",
     "output_type": "stream",
     "text": [
      "r\n",
      "a\n",
      "v\n",
      "i\n"
     ]
    }
   ],
   "source": [
    "for eachelement in l1:\n",
    "    print(eachelement)"
   ]
  },
  {
   "cell_type": "markdown",
   "id": "7f50d59e",
   "metadata": {},
   "source": [
    "### Range function\n",
    "\n",
    "It is an inbuilt function of python,which returns a range object.\n",
    "\n",
    "Function is very useful in generarting sequence of numbers in form of lists.\n",
    "\n",
    "It takes three arguments [start,stop,step] \n",
    "\n"
   ]
  },
  {
   "cell_type": "code",
   "execution_count": 5,
   "id": "997ae0e6",
   "metadata": {},
   "outputs": [
    {
     "data": {
      "text/plain": [
       "range(0, 5)"
      ]
     },
     "execution_count": 5,
     "metadata": {},
     "output_type": "execute_result"
    }
   ],
   "source": [
    "range(5)"
   ]
  },
  {
   "cell_type": "code",
   "execution_count": 6,
   "id": "6933b570",
   "metadata": {},
   "outputs": [
    {
     "data": {
      "text/plain": [
       "[0, 1, 2, 3, 4]"
      ]
     },
     "execution_count": 6,
     "metadata": {},
     "output_type": "execute_result"
    }
   ],
   "source": [
    "list(range(5))"
   ]
  },
  {
   "cell_type": "code",
   "execution_count": 7,
   "id": "23020996",
   "metadata": {},
   "outputs": [
    {
     "data": {
      "text/plain": [
       "[0, 1, 2, 3, 4, 5, 6, 7, 8, 9]"
      ]
     },
     "execution_count": 7,
     "metadata": {},
     "output_type": "execute_result"
    }
   ],
   "source": [
    "list(range(0,10,1))"
   ]
  },
  {
   "cell_type": "code",
   "execution_count": 8,
   "id": "99fdee32",
   "metadata": {},
   "outputs": [
    {
     "data": {
      "text/plain": [
       "[0, 2, 4, 6, 8]"
      ]
     },
     "execution_count": 8,
     "metadata": {},
     "output_type": "execute_result"
    }
   ],
   "source": [
    "list(range(0,10,2))"
   ]
  },
  {
   "cell_type": "code",
   "execution_count": 9,
   "id": "12fa46b2",
   "metadata": {},
   "outputs": [
    {
     "data": {
      "text/plain": [
       "[]"
      ]
     },
     "execution_count": 9,
     "metadata": {},
     "output_type": "execute_result"
    }
   ],
   "source": [
    "list(range(-3))     # It is an empty list"
   ]
  },
  {
   "cell_type": "code",
   "execution_count": 10,
   "id": "25abbbba",
   "metadata": {},
   "outputs": [
    {
     "data": {
      "text/plain": [
       "[-7, -6, -5]"
      ]
     },
     "execution_count": 10,
     "metadata": {},
     "output_type": "execute_result"
    }
   ],
   "source": [
    "list(range(-7,-4))"
   ]
  },
  {
   "cell_type": "code",
   "execution_count": 11,
   "id": "cf7b87a8",
   "metadata": {},
   "outputs": [
    {
     "data": {
      "text/plain": [
       "[]"
      ]
     },
     "execution_count": 11,
     "metadata": {},
     "output_type": "execute_result"
    }
   ],
   "source": [
    " list(range(10,1))"
   ]
  },
  {
   "cell_type": "markdown",
   "id": "228fc4bd",
   "metadata": {},
   "source": [
    "# You have to take a input from user and print * pattern?\n",
    "\n",
    "#n=4\n",
    "\n",
    "-****\n",
    "\n",
    "-****\n",
    "\n",
    "-****\n",
    "\n",
    "-****\n",
    "\n",
    "n=3\n",
    "\n",
    "-***\n",
    "\n",
    "-***\n",
    "\n",
    "-***"
   ]
  },
  {
   "cell_type": "code",
   "execution_count": 16,
   "id": "885137c6",
   "metadata": {},
   "outputs": [
    {
     "name": "stdout",
     "output_type": "stream",
     "text": [
      "****\n",
      "****\n",
      "****\n",
      "****\n"
     ]
    }
   ],
   "source": [
    "n=4\n",
    "for i in range(n):\n",
    "    \n",
    "    print('*'*n)"
   ]
  },
  {
   "cell_type": "code",
   "execution_count": 17,
   "id": "73f16aa5",
   "metadata": {},
   "outputs": [
    {
     "name": "stdout",
     "output_type": "stream",
     "text": [
      "give me a number and ill make it star with the same rows and columns 9\n",
      "*********\n",
      "*********\n",
      "*********\n",
      "*********\n",
      "*********\n",
      "*********\n",
      "*********\n",
      "*********\n",
      "*********\n"
     ]
    }
   ],
   "source": [
    "n=int(input('give me a number and ill make it star with the same rows and columns '))\n",
    "for i in range(n):\n",
    "    \n",
    "    print('*'*n)"
   ]
  },
  {
   "cell_type": "code",
   "execution_count": 20,
   "id": "e5f4b388",
   "metadata": {},
   "outputs": [
    {
     "name": "stdout",
     "output_type": "stream",
     "text": [
      "**** **** **** **** "
     ]
    }
   ],
   "source": [
    "n=4\n",
    "for i in range(n):          # It impact number of lines\n",
    "    print('*'*n,end=' ')\n",
    "    "
   ]
  },
  {
   "cell_type": "code",
   "execution_count": 21,
   "id": "3ae06f80",
   "metadata": {},
   "outputs": [
    {
     "name": "stdout",
     "output_type": "stream",
     "text": [
      "give me a number and ill make it star with the same rows2\n",
      "** ** "
     ]
    }
   ],
   "source": [
    "n=int(input('give me a number and ill make it star with the same rows'))\n",
    "for i in range(n):          # It impact number of lines\n",
    "    print('*'*n,end=' ') "
   ]
  },
  {
   "cell_type": "code",
   "execution_count": 22,
   "id": "36288373",
   "metadata": {},
   "outputs": [
    {
     "name": "stdout",
     "output_type": "stream",
     "text": [
      "****\n",
      "****\n",
      "****\n",
      "****\n"
     ]
    }
   ],
   "source": [
    "n=4\n",
    "for i in range(n):\n",
    "    \n",
    "    print('*'*n)"
   ]
  },
  {
   "cell_type": "code",
   "execution_count": 26,
   "id": "e4b17ffe",
   "metadata": {},
   "outputs": [
    {
     "name": "stdout",
     "output_type": "stream",
     "text": [
      "* * * * \n",
      "* * * * \n",
      "* * * * \n",
      "* * * * \n"
     ]
    }
   ],
   "source": [
    "n=4\n",
    "for i in range(n):\n",
    "    for j in range(n):\n",
    "        print('*',end=' ')      # This end prevents from moving to next line\n",
    "    print()    "
   ]
  },
  {
   "cell_type": "markdown",
   "id": "e781c6a7",
   "metadata": {},
   "source": [
    "1. Print output like this \n",
    "\n",
    "n=3\n",
    "\n",
    "111\n",
    "\n",
    "222\n",
    "\n",
    "333\n",
    "\n",
    "2. print output like this \n",
    "\n",
    "n=4\n",
    "\n",
    "\n",
    "111\n",
    "\n",
    "222\n",
    "\n",
    "333\n",
    "\n",
    "444"
   ]
  },
  {
   "cell_type": "code",
   "execution_count": 33,
   "id": "b6045313",
   "metadata": {},
   "outputs": [
    {
     "name": "stdout",
     "output_type": "stream",
     "text": [
      "1 2\n",
      "2\n",
      "2\n",
      "1 2\n",
      "2\n",
      "2\n",
      "1 2\n",
      "2\n",
      "2\n"
     ]
    }
   ],
   "source": [
    "n=3\n",
    "for outerloop in range(n):\n",
    "    print('1',end=' ')\n",
    "    for innerloop in range(n):\n",
    "        print('2')\n",
    "        \n",
    "        "
   ]
  },
  {
   "cell_type": "code",
   "execution_count": 34,
   "id": "b25b4309",
   "metadata": {},
   "outputs": [
    {
     "name": "stdout",
     "output_type": "stream",
     "text": [
      "1 2 2 2 1 2 2 2 1 2 2 2 "
     ]
    }
   ],
   "source": [
    "n=3\n",
    "for outerloop in range(n):\n",
    "    print('1',end=' ')\n",
    "    for innerloop in range(n):\n",
    "        print('2',end=' ')\n",
    "        "
   ]
  },
  {
   "cell_type": "code",
   "execution_count": 35,
   "id": "c60d794f",
   "metadata": {},
   "outputs": [
    {
     "name": "stdout",
     "output_type": "stream",
     "text": [
      "1 1 1 2 2 2 "
     ]
    }
   ],
   "source": [
    "n=3\n",
    "for outerloop in range(n):\n",
    "    print('1',end=' ')\n",
    "for innerloop in range(n):\n",
    "    print('2',end=' ')"
   ]
  },
  {
   "cell_type": "code",
   "execution_count": 36,
   "id": "3673a3cc",
   "metadata": {},
   "outputs": [
    {
     "name": "stdout",
     "output_type": "stream",
     "text": [
      "1\n",
      "1\n",
      "1\n",
      "2\n",
      "2\n",
      "2\n"
     ]
    }
   ],
   "source": [
    "n=3\n",
    "for outerloop in range(n):\n",
    "    print('1')\n",
    "for innerloop in range(n):\n",
    "    print('2')"
   ]
  },
  {
   "cell_type": "code",
   "execution_count": 38,
   "id": "b098bd29",
   "metadata": {},
   "outputs": [
    {
     "name": "stdout",
     "output_type": "stream",
     "text": [
      "1\n",
      "1\n",
      "1\n",
      "2\n",
      "2\n",
      "2\n",
      "\n",
      "1\n",
      "1\n",
      "1\n",
      "2\n",
      "2\n",
      "2\n",
      "\n",
      "1\n",
      "1\n",
      "1\n",
      "2\n",
      "2\n",
      "2\n",
      "\n"
     ]
    }
   ],
   "source": [
    "n=3\n",
    "for outerloop in range(n):\n",
    "    for innerloop in range(n):\n",
    "        print('1')\n",
    "    for innerloop in range(n):\n",
    "        print('2')\n",
    "    print()    "
   ]
  },
  {
   "cell_type": "code",
   "execution_count": 40,
   "id": "23c353fb",
   "metadata": {},
   "outputs": [
    {
     "name": "stdout",
     "output_type": "stream",
     "text": [
      "122212221222\n",
      "122212221222\n",
      "122212221222\n"
     ]
    }
   ],
   "source": [
    "n=3\n",
    "for outerloop in range(n):\n",
    "    for innerloop in range(n):\n",
    "        print('1',end='')\n",
    "        for innerloop in range(n):\n",
    "            print('2',end='')\n",
    "    print()    "
   ]
  },
  {
   "cell_type": "code",
   "execution_count": 46,
   "id": "ad9c9d03",
   "metadata": {},
   "outputs": [
    {
     "name": "stdout",
     "output_type": "stream",
     "text": [
      "012\n",
      "012\n",
      "012\n"
     ]
    }
   ],
   "source": [
    "n=3\n",
    "for outerloop in range(n):\n",
    "    for innerloop in range(n):\n",
    "        print(innerloop,end='')\n",
    "\n",
    "    print()    "
   ]
  },
  {
   "cell_type": "code",
   "execution_count": 44,
   "id": "52413100",
   "metadata": {},
   "outputs": [
    {
     "name": "stdout",
     "output_type": "stream",
     "text": [
      "000\n",
      "111\n",
      "222\n"
     ]
    }
   ],
   "source": [
    "n=3\n",
    "for outerloop in range(n):\n",
    "    for innerloop in range(n):\n",
    "        print(outerloop,end='')\n",
    "\n",
    "    print()    "
   ]
  },
  {
   "cell_type": "code",
   "execution_count": 42,
   "id": "eee219d5",
   "metadata": {},
   "outputs": [
    {
     "name": "stdout",
     "output_type": "stream",
     "text": [
      "111\n",
      "222\n",
      "333\n"
     ]
    }
   ],
   "source": [
    "n=3\n",
    "for outerloop in range(n):\n",
    "    for innerloop in range(n):\n",
    "        print(outerloop+1,end='')\n",
    "\n",
    "    print()    "
   ]
  },
  {
   "cell_type": "markdown",
   "id": "83f30012",
   "metadata": {},
   "source": [
    "If you have to print outcome like this\n",
    "\n",
    "1\n",
    "\n",
    "22\n",
    "\n",
    "333\n",
    "\n",
    "4444"
   ]
  },
  {
   "cell_type": "code",
   "execution_count": 50,
   "id": "f383fdec",
   "metadata": {},
   "outputs": [
    {
     "name": "stdout",
     "output_type": "stream",
     "text": [
      "1\n",
      "22\n",
      "333\n"
     ]
    }
   ],
   "source": [
    "n=3\n",
    "for outerloop in range(n):         # Only we have to change range to outerloop +1\n",
    "    for innerloop in range(outerloop+1):\n",
    "        print(outerloop+1,end='')\n",
    "\n",
    "    print()    "
   ]
  },
  {
   "cell_type": "markdown",
   "id": "9c2a2a93",
   "metadata": {},
   "source": [
    "If we have to print \n",
    "\n",
    "1\n",
    "\n",
    "3 3\n",
    "\n",
    "5 5 5\n",
    "\n",
    "7 7 7 7\n",
    "\n",
    "9 9 9 9 9\n"
   ]
  },
  {
   "cell_type": "code",
   "execution_count": 51,
   "id": "c796ec7c",
   "metadata": {},
   "outputs": [
    {
     "name": "stdout",
     "output_type": "stream",
     "text": [
      "1\n",
      "33\n",
      "555\n",
      "7777\n"
     ]
    }
   ],
   "source": [
    "n=4\n",
    "odd=1\n",
    "for outerloop in range(n):\n",
    "    for innerloop in range(outerloop+1):\\\n",
    "        print(odd,end='')\n",
    "    odd=odd+2\n",
    "    print()"
   ]
  },
  {
   "cell_type": "code",
   "execution_count": 54,
   "id": "1925c591",
   "metadata": {},
   "outputs": [
    {
     "name": "stdout",
     "output_type": "stream",
     "text": [
      "1\n",
      "33\n",
      "555\n",
      "7777\n",
      "99999\n"
     ]
    }
   ],
   "source": [
    "n=5\n",
    "odd=1\n",
    "for outerloop in range(n):\n",
    "    for innerloop in range(outerloop+1):\\\n",
    "        print(odd,end='')\n",
    "    odd=odd+2\n",
    "    print()"
   ]
  },
  {
   "cell_type": "code",
   "execution_count": null,
   "id": "6a9af8f3",
   "metadata": {},
   "outputs": [],
   "source": []
  }
 ],
 "metadata": {
  "kernelspec": {
   "display_name": "Python 3 (ipykernel)",
   "language": "python",
   "name": "python3"
  },
  "language_info": {
   "codemirror_mode": {
    "name": "ipython",
    "version": 3
   },
   "file_extension": ".py",
   "mimetype": "text/x-python",
   "name": "python",
   "nbconvert_exporter": "python",
   "pygments_lexer": "ipython3",
   "version": "3.11.7"
  }
 },
 "nbformat": 4,
 "nbformat_minor": 5
}
