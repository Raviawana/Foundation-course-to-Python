{
  "nbformat": 4,
  "nbformat_minor": 0,
  "metadata": {
    "colab": {
      "provenance": []
    },
    "kernelspec": {
      "name": "python3",
      "display_name": "Python 3"
    },
    "language_info": {
      "name": "python"
    }
  },
  "cells": [
    {
      "cell_type": "markdown",
      "source": [
        "## Agenda\n",
        "1- Method overriding\n",
        "\n",
        "2- Super keyword\n",
        "\n",
        "3- Types of inheritance\n",
        "\n",
        "4- Polymorphism\n",
        "\n",
        "5- Abstraction"
      ],
      "metadata": {
        "id": "hnI53dHKahwf"
      }
    },
    {
      "cell_type": "markdown",
      "source": [
        "## 1- Method overriding"
      ],
      "metadata": {
        "id": "uQlGGx3AbYD1"
      }
    },
    {
      "cell_type": "code",
      "source": [
        "class Phone:\n",
        "  def __init__(self,price,brand,camera):\n",
        "    print('inside phone constructor')\n",
        "    self.__price = price\n",
        "    self.brand= brand\n",
        "    self.camera= camera\n",
        "\n",
        "  def buy(slef):\n",
        "    print('buying a phone')\n",
        "\n",
        "\n",
        "class SmartPhone(Phone):\n",
        "  def buy(self):\n",
        "    print(\"buying a smart phone\")\n",
        "\n",
        "\n",
        "S= SmartPhone(200000, \"apple\",3)\n",
        "S.buy()"
      ],
      "metadata": {
        "colab": {
          "base_uri": "https://localhost:8080/"
        },
        "id": "ElC4ixasahZK",
        "outputId": "133019c8-9e88-41d8-b9aa-b24a9e290d62"
      },
      "execution_count": 1,
      "outputs": [
        {
          "output_type": "stream",
          "name": "stdout",
          "text": [
            "inside phone constructor\n",
            "buying a smart phone\n"
          ]
        }
      ]
    },
    {
      "cell_type": "markdown",
      "source": [
        "Whenever you are working with a method and if you don't have the constructor the prefrence it will give you to method only.\n",
        "\n",
        "it is inside 1st constructor only but method wise it is in second paragaraph method\n",
        "\n",
        "\n",
        "\n",
        "\n",
        "\n",
        "in simple words - if we don't have the constructor in child class then it goes to parent class but in method it won't look at parent class it runs child class.\n",
        "\n",
        "\n",
        "\n",
        "It is clled method overwriting."
      ],
      "metadata": {
        "id": "aTsmli22dTur"
      }
    },
    {
      "cell_type": "code",
      "execution_count": 2,
      "metadata": {
        "colab": {
          "base_uri": "https://localhost:8080/"
        },
        "id": "lDhAUi78ZiX8",
        "outputId": "cb711f22-deff-4cec-f7ca-80ac765e01eb"
      },
      "outputs": [
        {
          "output_type": "stream",
          "name": "stdout",
          "text": [
            "inside phone constructor\n",
            "buying a smart phone\n"
          ]
        },
        {
          "output_type": "execute_result",
          "data": {
            "text/plain": [
              "3"
            ]
          },
          "metadata": {},
          "execution_count": 2
        }
      ],
      "source": [
        "class Phone:\n",
        "  def __init__(self,price,brand,camera):\n",
        "    print('inside phone constructor')\n",
        "    self.__price = price\n",
        "    self.brand= brand\n",
        "    self.camera= camera\n",
        "\n",
        "  def buy(slef):\n",
        "    print('buying a phone')\n",
        "\n",
        "\n",
        "class SmartPhone(Phone):\n",
        "  def buy(self):\n",
        "    print(\"buying a smart phone\")\n",
        "\n",
        "\n",
        "S= SmartPhone(200000, \"apple\",3)\n",
        "S.buy()\n",
        "S.camera"
      ]
    },
    {
      "cell_type": "markdown",
      "source": [
        "## 2- Super keyword\n",
        "\n",
        "\n",
        "the \"super\" keyword is used to refer to the parent class. It is commonly used to call a method from the parent class in a subclass. The super function allows you to access methods of a superclass from the subclass that inherits from it, enabling code reuse and extensibility."
      ],
      "metadata": {
        "id": "uOKgc2I6gdRc"
      }
    },
    {
      "cell_type": "code",
      "source": [
        "class Phone:\n",
        "  def __init__(self,price,brand,camera):\n",
        "    print('inside phone constructor')\n",
        "    self.__price = price\n",
        "    self.brand= brand\n",
        "    self.camera= camera\n",
        "\n",
        "  def buy(slef):\n",
        "    print('buying a phone')\n",
        "\n",
        "\n",
        "class SmartPhone(Phone):\n",
        "  def buy(self):\n",
        "    print(\"buying a smart phone\")\n",
        "\n",
        "\n",
        "S= SmartPhone(200000, \"apple\",3)\n",
        "S.buy()\n"
      ],
      "metadata": {
        "colab": {
          "base_uri": "https://localhost:8080/"
        },
        "id": "nhjSiMHQfFOY",
        "outputId": "b1e993de-fce9-46d5-f12e-2c0495d83f59"
      },
      "execution_count": 3,
      "outputs": [
        {
          "output_type": "stream",
          "name": "stdout",
          "text": [
            "inside phone constructor\n",
            "buying a smart phone\n"
          ]
        }
      ]
    },
    {
      "cell_type": "markdown",
      "source": [
        "if i execute upper code it execute only class SmartPhone(Phone):\n",
        "  def buy(self):\n",
        "    print(\"buying a smart phone\")   \n",
        "\n",
        "method\n",
        "\n",
        "but what if i have to run the another buy method that is written in line 7\n",
        "\n",
        "here super keyword comes into place"
      ],
      "metadata": {
        "id": "_Al8KB10h3zd"
      }
    },
    {
      "cell_type": "code",
      "source": [
        "class Phone:\n",
        "  def __init__(self,price,brand,camera):\n",
        "    print('inside phone constructor')\n",
        "    self.__price = price\n",
        "    self.brand= brand\n",
        "    self.camera= camera\n",
        "\n",
        "  def buy(slef):\n",
        "    print('buying a phone')\n",
        "\n",
        "\n",
        "class SmartPhone(Phone):\n",
        "  def buy(self):\n",
        "    print(\"buying a smart phone\")\n",
        "\n",
        "    super().buy()\n",
        "\n",
        "\n",
        "S= SmartPhone(200000, \"apple\",3)\n",
        "S.buy()\n"
      ],
      "metadata": {
        "colab": {
          "base_uri": "https://localhost:8080/"
        },
        "id": "gJBeY9R1iUPQ",
        "outputId": "4f536e9c-2fce-45d2-f86e-4960161fa307"
      },
      "execution_count": 4,
      "outputs": [
        {
          "output_type": "stream",
          "name": "stdout",
          "text": [
            "inside phone constructor\n",
            "buying a smart phone\n",
            "buying a phone\n"
          ]
        }
      ]
    },
    {
      "cell_type": "code",
      "source": [
        "class Phone:\n",
        "  def __init__(self,price,brand,camera):\n",
        "    print('inside phone constructor')\n",
        "    self.__price = price\n",
        "    self.brand= brand\n",
        "    self.camera= camera\n",
        "\n",
        "\n",
        "\n",
        "\n",
        "class SmartPhone(Phone):\n",
        "  def __init__(self,price,brand,camera,os,ram):\n",
        "    print(\"Inside smart phone constructor\")\n",
        "    super().__init__(price,brand,camera)\n",
        "    self.os = os\n",
        "    self.ram = ram\n",
        "\n",
        "\n",
        "S= SmartPhone(200000, \"samsung\",3,\"android\", 16)\n",
        "\n"
      ],
      "metadata": {
        "colab": {
          "base_uri": "https://localhost:8080/"
        },
        "id": "MjNDhGzRivdh",
        "outputId": "681a5d02-0c86-413b-d5ef-7b47ad14caa1"
      },
      "execution_count": 6,
      "outputs": [
        {
          "output_type": "stream",
          "name": "stdout",
          "text": [
            "Inside smart phone constructor\n",
            "inside phone constructor\n"
          ]
        }
      ]
    },
    {
      "cell_type": "markdown",
      "source": [
        "earlier it was not showing parent class constructor but now it iss showing because of the super keyword."
      ],
      "metadata": {
        "id": "s12i0XjemOL-"
      }
    },
    {
      "cell_type": "code",
      "source": [
        "class Phone:\n",
        "  def __init__(self,price,brand,camera):\n",
        "    print('inside phone constructor')\n",
        "    self.__price = price\n",
        "    self.brand= brand\n",
        "    self.camera= camera\n",
        "\n",
        "\n",
        "\n",
        "\n",
        "class SmartPhone(Phone):\n",
        "  def __init__(self,price,brand,camera,os,ram):\n",
        "    print(\"Inside smart phone constructor\")\n",
        "    super().__init__(price,brand,camera)\n",
        "    self.os = os\n",
        "    self.ram = ram\n",
        "\n",
        "\n",
        "S= SmartPhone(200000, \"samsung\",3,\"android\", 16)\n",
        "\n",
        "print(S.brand)"
      ],
      "metadata": {
        "colab": {
          "base_uri": "https://localhost:8080/"
        },
        "id": "VGw6Xw6XlsuO",
        "outputId": "4c56c3af-cbbb-4349-90cb-1e6c62aa5525"
      },
      "execution_count": 7,
      "outputs": [
        {
          "output_type": "stream",
          "name": "stdout",
          "text": [
            "Inside smart phone constructor\n",
            "inside phone constructor\n",
            "samsung\n"
          ]
        }
      ]
    },
    {
      "cell_type": "markdown",
      "source": [
        "### Types of Inheritance\n",
        "\n",
        "1- Single Inheritance\n",
        "\n",
        "2- Multilevel Inheritance\n",
        "\n",
        "3- Hierachical Inheritance\n",
        "\n",
        "4- Multiple Inheritance"
      ],
      "metadata": {
        "id": "Sgp0DhZ7tbkL"
      }
    },
    {
      "cell_type": "code",
      "source": [
        "# Multilevel Inheritance\n",
        "\n",
        "# Grand Father\n",
        "class Product:\n",
        "  def review(self):\n",
        "    print(\"product customer review\")\n",
        "\n",
        "\n",
        "# Father\n",
        "class Phone(Product):\n",
        "  def __init__(self,price,brand,camera):\n",
        "    print('inside phone constructor')\n",
        "    self.__price = price\n",
        "    self.brand= brand\n",
        "    self.camera= camera\n",
        "\n",
        "  def buy(self):\n",
        "    print(\"buying a phone\")\n",
        "\n",
        "# Child class\n",
        "class SmartPhone(Phone):\n",
        "  pass\n",
        "\n",
        "\n",
        "\n",
        "S = SmartPhone(200000, \"samsung\",3)\n",
        "S.buy()\n",
        "S.review()"
      ],
      "metadata": {
        "colab": {
          "base_uri": "https://localhost:8080/"
        },
        "id": "8Sw3ygZBmfLJ",
        "outputId": "b581e40c-5141-45d4-b6ff-38abcccdf147"
      },
      "execution_count": 8,
      "outputs": [
        {
          "output_type": "stream",
          "name": "stdout",
          "text": [
            "inside phone constructor\n",
            "buying a phone\n",
            "product customer review\n"
          ]
        }
      ]
    },
    {
      "cell_type": "code",
      "source": [
        "\n",
        "\n",
        "\n",
        "\n"
      ],
      "metadata": {
        "id": "H0q80hkBz9qj"
      },
      "execution_count": null,
      "outputs": []
    },
    {
      "cell_type": "code",
      "source": [
        "# Hierachical Inheritance\n",
        "\n",
        "class Phone:\n",
        "  def __init__(self,price,brand,camera):\n",
        "    print('inside phone constructor')\n",
        "    self.__price = price\n",
        "    self.brand= brand\n",
        "    self.camera= camera\n",
        "\n",
        "  def buy(self):\n",
        "    print(\"buying a phone\")        # One parent and two childs\n",
        "\n",
        "\n",
        "class SmartPhone(Phone):\n",
        "  pass\n",
        "\n",
        "\n",
        "class FeaturePhone(Phone):\n",
        "  pass\n",
        "\n",
        "S = SmartPhone(100000,\"aspple\",\"3\")\n"
      ],
      "metadata": {
        "colab": {
          "base_uri": "https://localhost:8080/"
        },
        "id": "ULEBI1Yk0M_-",
        "outputId": "d271be46-6fb4-42b4-93e6-210f105a775c"
      },
      "execution_count": 9,
      "outputs": [
        {
          "output_type": "stream",
          "name": "stdout",
          "text": [
            "inside phone constructor\n"
          ]
        }
      ]
    },
    {
      "cell_type": "code",
      "source": [
        "# Hierachical Inheritance\n",
        "\n",
        "class Phone:\n",
        "  def __init__(self,price,brand,camera):\n",
        "    print('inside phone constructor')\n",
        "    self.__price = price\n",
        "    self.brand= brand\n",
        "    self.camera= camera\n",
        "\n",
        "  def buy(self):\n",
        "    print(\"buying a phone\")        # One parent and two childs\n",
        "\n",
        "\n",
        "class SmartPhone(Phone):\n",
        "  pass\n",
        "\n",
        "\n",
        "class FeaturePhone(Phone):\n",
        "  pass\n",
        "\n",
        "S = SmartPhone(100000,\"aspple\",\"3\")\n",
        "S.buy()"
      ],
      "metadata": {
        "colab": {
          "base_uri": "https://localhost:8080/"
        },
        "id": "8W0H7MzX1HE_",
        "outputId": "3e445f0d-6bff-4e97-fe81-1616276f1874"
      },
      "execution_count": 10,
      "outputs": [
        {
          "output_type": "stream",
          "name": "stdout",
          "text": [
            "inside phone constructor\n",
            "buying a phone\n"
          ]
        }
      ]
    },
    {
      "cell_type": "code",
      "source": [
        "F = FeaturePhone(10000,\"oppo\",\"3\")\n",
        "F.buy()"
      ],
      "metadata": {
        "colab": {
          "base_uri": "https://localhost:8080/"
        },
        "id": "CRBGnTza1Ksu",
        "outputId": "46e8b013-74e7-43eb-c1c4-700334c11d1d"
      },
      "execution_count": 11,
      "outputs": [
        {
          "output_type": "stream",
          "name": "stdout",
          "text": [
            "inside phone constructor\n",
            "buying a phone\n"
          ]
        }
      ]
    },
    {
      "cell_type": "code",
      "source": [
        "# Multiple Inheritance\n",
        "\n",
        "class Phone:\n",
        "  def __init__(self,price,brand,camera):\n",
        "    print('inside phone constructor')\n",
        "    self.__price = price\n",
        "    self.brand= brand\n",
        "    self.camera= camera\n",
        "\n",
        "  def buy(self):\n",
        "    print(\"buying a phone\")\n",
        "\n",
        "\n",
        "class Product:\n",
        "\n",
        "  def review(self):\n",
        "    print(\"product customer review\")\n",
        "\n",
        "\n",
        "class SmartPhone(Phone,Product):    # In multiple there are two parent class\n",
        "  pass\n",
        "\n",
        "\n",
        "SmartPhone(10000,\"oppo\",\"3\")\n",
        "\n",
        "S = SmartPhone(10000,\"oppo\",\"3\")\n",
        "\n",
        "S.buy()\n",
        "S.review()\n",
        "\n"
      ],
      "metadata": {
        "colab": {
          "base_uri": "https://localhost:8080/"
        },
        "id": "0LxwbaYK1YsA",
        "outputId": "a5b0d95b-7b30-42fd-d045-15cf5def6e52"
      },
      "execution_count": 14,
      "outputs": [
        {
          "output_type": "stream",
          "name": "stdout",
          "text": [
            "inside phone constructor\n",
            "inside phone constructor\n",
            "buying a phone\n",
            "product customer review\n"
          ]
        }
      ]
    },
    {
      "cell_type": "markdown",
      "source": [
        "whenever we give parent class the preference is given to the first parent class that is mentioned."
      ],
      "metadata": {
        "id": "VXZ-hCjZ6dxu"
      }
    },
    {
      "cell_type": "markdown",
      "source": [
        "# Polymorphism\n",
        "\n",
        "\n",
        "There are three concepts in Polymorphism\n",
        "\n",
        "1- Method Overriding\n",
        "\n",
        "2- Method Overloding\n",
        "\n",
        "3- Operatopr overloading\n",
        "\n"
      ],
      "metadata": {
        "id": "NnFACzLd8rIw"
      }
    },
    {
      "cell_type": "code",
      "source": [
        "\n",
        "class Shape:\n",
        "  def area(self,radius):\n",
        "    return 3.14*radius**2\n",
        "\n",
        "  def area(self,l,b):\n",
        "    return l*b\n",
        "# In overloading only last method is called\n",
        "\n",
        "s = Shape()\n",
        ""
      ],
      "metadata": {
        "id": "wnOmPYIX4UU7"
      },
      "execution_count": 16,
      "outputs": []
    },
    {
      "cell_type": "code",
      "source": [
        "s.area (2,4)"
      ],
      "metadata": {
        "colab": {
          "base_uri": "https://localhost:8080/"
        },
        "id": "77xEEAg1-87q",
        "outputId": "0a8828e5-c063-4427-c26d-eed9f9ddde9f"
      },
      "execution_count": 17,
      "outputs": [
        {
          "output_type": "execute_result",
          "data": {
            "text/plain": [
              "8"
            ]
          },
          "metadata": {},
          "execution_count": 17
        }
      ]
    },
    {
      "cell_type": "code",
      "source": [
        "\n",
        "class Shape:\n",
        "  def area(self,radius,l,b):\n",
        "    if b == 0:\n",
        "\n",
        "     return 3.14*radius**2\n",
        "    else:\n",
        "      return l*b\n",
        "s= Shape()\n",
        "s.area(2,2,0)\n",
        "\n",
        ""
      ],
      "metadata": {
        "colab": {
          "base_uri": "https://localhost:8080/"
        },
        "id": "ilm6gO3w_Ck6",
        "outputId": "88c8a5fc-32c9-4afa-a24f-de455455a1af"
      },
      "execution_count": 18,
      "outputs": [
        {
          "output_type": "execute_result",
          "data": {
            "text/plain": [
              "12.56"
            ]
          },
          "metadata": {},
          "execution_count": 18
        }
      ]
    },
    {
      "cell_type": "code",
      "source": [
        "\n",
        "class Shape:\n",
        "  def area(self,radius,l,b):\n",
        "    if b == None:\n",
        "\n",
        "     return 3.14*radius**2\n",
        "    else:\n",
        "      return l*b\n",
        "s= Shape()\n",
        "s.area(2,2,None)\n",
        "\n",
        ""
      ],
      "metadata": {
        "colab": {
          "base_uri": "https://localhost:8080/"
        },
        "id": "uB2oVyJDAey7",
        "outputId": "bac8c0b8-b3a3-404d-c2f4-17cea2e7ed63"
      },
      "execution_count": 19,
      "outputs": [
        {
          "output_type": "execute_result",
          "data": {
            "text/plain": [
              "12.56"
            ]
          },
          "metadata": {},
          "execution_count": 19
        }
      ]
    },
    {
      "cell_type": "code",
      "source": [
        "# Operator overloading"
      ],
      "metadata": {
        "id": "apJNlzc8Ats7"
      },
      "execution_count": 20,
      "outputs": []
    },
    {
      "cell_type": "code",
      "source": [
        "\"hello\"+\"hello\""
      ],
      "metadata": {
        "colab": {
          "base_uri": "https://localhost:8080/",
          "height": 35
        },
        "id": "DMaj3P32Bd8E",
        "outputId": "4f4dce81-eef0-4311-b8c5-b01ea96f3720"
      },
      "execution_count": 21,
      "outputs": [
        {
          "output_type": "execute_result",
          "data": {
            "text/plain": [
              "'hellohello'"
            ],
            "application/vnd.google.colaboratory.intrinsic+json": {
              "type": "string"
            }
          },
          "metadata": {},
          "execution_count": 21
        }
      ]
    },
    {
      "cell_type": "code",
      "source": [
        "4+5"
      ],
      "metadata": {
        "colab": {
          "base_uri": "https://localhost:8080/"
        },
        "id": "9tkcrwPVBign",
        "outputId": "577d2792-9f4e-4115-87be-1e43c53876d5"
      },
      "execution_count": 22,
      "outputs": [
        {
          "output_type": "execute_result",
          "data": {
            "text/plain": [
              "9"
            ]
          },
          "metadata": {},
          "execution_count": 22
        }
      ]
    },
    {
      "cell_type": "code",
      "source": [
        "[1,2,3]+[4,5]"
      ],
      "metadata": {
        "colab": {
          "base_uri": "https://localhost:8080/"
        },
        "id": "YevrjaOABkTu",
        "outputId": "1b44dc4a-ebf2-4c09-9e8f-aa47b730afb8"
      },
      "execution_count": 24,
      "outputs": [
        {
          "output_type": "execute_result",
          "data": {
            "text/plain": [
              "[1, 2, 3, 4, 5]"
            ]
          },
          "metadata": {},
          "execution_count": 24
        }
      ]
    },
    {
      "cell_type": "markdown",
      "source": [
        "## Abstraction\n",
        "\n",
        "Abstraction is a core concept in object-oriented programming (OOP) that focuses on hiding the complex implementation details of a system and exposing only the necessary and relevant features. In Python, abstraction is typically achieved through the use of abstract classes and interfaces.\n",
        "\n",
        "Abstract Classes\n",
        "\n",
        "\n",
        "An abstract class is a class that cannot be instantiated and is meant to be subclassed. It can have abstract methods (methods that are declared but contain no implementation) and concrete methods (methods with implementation). Abstract methods must be implemented by any concrete subclass."
      ],
      "metadata": {
        "id": "_nsn3ps4GzjG"
      }
    },
    {
      "cell_type": "code",
      "source": [
        "class BankServer:\n",
        "  def database(self):\n",
        "    print(\"connected to database\")\n",
        "\n",
        "\n",
        "class MobileAap(BankServer):\n",
        "  def mobile_login(self):\n",
        "    print(\"Logged in Mobile\")\n",
        "\n",
        "\n",
        "  def display(self):\n",
        "    print(\"Display\")\n",
        "\n",
        "\n",
        "mob = MobileAap()"
      ],
      "metadata": {
        "id": "iLiru-deBpXj"
      },
      "execution_count": 25,
      "outputs": []
    },
    {
      "cell_type": "code",
      "source": [
        "mob.mobile_login()"
      ],
      "metadata": {
        "colab": {
          "base_uri": "https://localhost:8080/"
        },
        "id": "0NDNZYF9Ib4n",
        "outputId": "3626bf91-8b16-43a4-f504-34f86a82ae1b"
      },
      "execution_count": 26,
      "outputs": [
        {
          "output_type": "stream",
          "name": "stdout",
          "text": [
            "Logged in Mobile\n"
          ]
        }
      ]
    },
    {
      "cell_type": "code",
      "source": [
        "mob.database()"
      ],
      "metadata": {
        "colab": {
          "base_uri": "https://localhost:8080/"
        },
        "id": "rp85tdFDIfQg",
        "outputId": "ce0c0492-ecd3-481e-8124-64c4a2102111"
      },
      "execution_count": 27,
      "outputs": [
        {
          "output_type": "stream",
          "name": "stdout",
          "text": [
            "connected to database\n"
          ]
        }
      ]
    },
    {
      "cell_type": "code",
      "source": [
        "from ast import Pass\n",
        "# By abstriction we can hide things\n",
        "from abc import ABC, abstractclassmethod\n",
        "\n",
        "# Senior\n",
        "class BankServer:\n",
        "  def database(self):\n",
        "    print(\"connected to database\")\n",
        "\n",
        "  def securtiy(self):\n",
        "    print(\"security passed\")\n",
        "\n",
        "\n",
        "\n",
        "#junior\n",
        "class MobileAap(BankServer):\n",
        "  def mobile_login(self):\n",
        "    print(\"Logged in Mobile\")\n",
        "\n",
        "\n",
        "  def display(self):\n",
        "    print(\"Display\")\n",
        "\n",
        "\n",
        "mob = MobileAap()                # incomplete"
      ],
      "metadata": {
        "id": "dyWTfWxBIji9"
      },
      "execution_count": 28,
      "outputs": []
    },
    {
      "cell_type": "code",
      "source": [
        "mob.mobile_login()"
      ],
      "metadata": {
        "colab": {
          "base_uri": "https://localhost:8080/"
        },
        "id": "DlSMcf6MJUJk",
        "outputId": "197cf781-64d4-4b0c-814e-62c4092930a4"
      },
      "execution_count": 29,
      "outputs": [
        {
          "output_type": "stream",
          "name": "stdout",
          "text": [
            "Logged in Mobile\n"
          ]
        }
      ]
    },
    {
      "cell_type": "code",
      "source": [
        "from ast import Pass\n",
        "# By abstriction we can hide things\n",
        "from abc import ABC, abstractclassmethod\n",
        "\n",
        "# Senior\n",
        "class BankServer(ABC):           # whenever we use abstriction we inherit it\n",
        "  def database(self):\n",
        "    print(\"connected to database\")\n",
        "  @abstractclassmethod\n",
        "  def securtiy(self):\n",
        "    print(\"security passed\")\n",
        "\n",
        "\n",
        "\n",
        "#junior\n",
        "class MobileAap(BankServer):\n",
        "  def mobile_login(self):\n",
        "    print(\"Logged in Mobile\")\n",
        "\n",
        "\n",
        "  def display(self):\n",
        "    print(\"Display\")\n",
        "\n",
        "\n",
        "mob = MobileAap()\n",
        "\n"
      ],
      "metadata": {
        "colab": {
          "base_uri": "https://localhost:8080/",
          "height": 193
        },
        "id": "HfISTEA3JYgJ",
        "outputId": "ab686bfb-e202-4d34-868e-8c0113a10b89"
      },
      "execution_count": 33,
      "outputs": [
        {
          "output_type": "error",
          "ename": "TypeError",
          "evalue": "Can't instantiate abstract class MobileAap with abstract method securtiy",
          "traceback": [
            "\u001b[0;31m---------------------------------------------------------------------------\u001b[0m",
            "\u001b[0;31mTypeError\u001b[0m                                 Traceback (most recent call last)",
            "\u001b[0;32m<ipython-input-33-f299e5ef43c9>\u001b[0m in \u001b[0;36m<cell line: 25>\u001b[0;34m()\u001b[0m\n\u001b[1;32m     23\u001b[0m \u001b[0;34m\u001b[0m\u001b[0m\n\u001b[1;32m     24\u001b[0m \u001b[0;34m\u001b[0m\u001b[0m\n\u001b[0;32m---> 25\u001b[0;31m \u001b[0mmob\u001b[0m \u001b[0;34m=\u001b[0m \u001b[0mMobileAap\u001b[0m\u001b[0;34m(\u001b[0m\u001b[0;34m)\u001b[0m\u001b[0;34m\u001b[0m\u001b[0;34m\u001b[0m\u001b[0m\n\u001b[0m\u001b[1;32m     26\u001b[0m \u001b[0;34m\u001b[0m\u001b[0m\n",
            "\u001b[0;31mTypeError\u001b[0m: Can't instantiate abstract class MobileAap with abstract method securtiy"
          ]
        }
      ]
    },
    {
      "cell_type": "code",
      "source": [
        "from ast import Pass\n",
        "# By abstriction we can hide things\n",
        "from abc import ABC, abstractclassmethod\n",
        "\n",
        "# Senior\n",
        "class BankServer(ABC):\n",
        "  def database(self):\n",
        "    print(\"connected to database\")\n",
        "  @abstractclassmethod\n",
        "  def securtiy(self):\n",
        "    print(\"security passed\")\n",
        "\n",
        "\n",
        "\n",
        "#junior\n",
        "class MobileAap(BankServer):\n",
        "  def mobile_login(self):\n",
        "    print(\"Logged in Mobile\")\n",
        "\n",
        "\n",
        "  def securtiy(self):\n",
        "    print(\" mobile security passed\")\n",
        "\n",
        "\n",
        "  def display(self):\n",
        "    print(\"Display\")\n",
        "\n",
        "\n",
        "mob = MobileAap()\n",
        "\n"
      ],
      "metadata": {
        "id": "azUIZ0TyJxmZ"
      },
      "execution_count": 34,
      "outputs": []
    },
    {
      "cell_type": "code",
      "source": [
        "mob.mobile_login()"
      ],
      "metadata": {
        "colab": {
          "base_uri": "https://localhost:8080/"
        },
        "id": "ra4SeHStKZeR",
        "outputId": "4871138c-2569-43e8-fff6-6b1087fa1e9f"
      },
      "execution_count": 35,
      "outputs": [
        {
          "output_type": "stream",
          "name": "stdout",
          "text": [
            "Logged in Mobile\n"
          ]
        }
      ]
    },
    {
      "cell_type": "code",
      "source": [
        "# You can not create abstract class object\n",
        "# but you can create abstract class child object"
      ],
      "metadata": {
        "id": "tSClYE8DLFeg"
      },
      "execution_count": 36,
      "outputs": []
    },
    {
      "cell_type": "code",
      "source": [],
      "metadata": {
        "id": "4yYjBOfzLR-7"
      },
      "execution_count": null,
      "outputs": []
    }
  ]
}