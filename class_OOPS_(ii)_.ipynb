{
  "nbformat": 4,
  "nbformat_minor": 0,
  "metadata": {
    "colab": {
      "provenance": []
    },
    "kernelspec": {
      "name": "python3",
      "display_name": "Python 3"
    },
    "language_info": {
      "name": "python"
    }
  },
  "cells": [
    {
      "cell_type": "markdown",
      "source": [
        "Topics for the day are Encapsulation and static keyword"
      ],
      "metadata": {
        "id": "I46H9I7C5kkP"
      }
    },
    {
      "cell_type": "markdown",
      "source": [
        "1) ENCAPSULATION - We take the example of capsules that many small small medicines are ENCAPSULATED in them to perform the task and that we dont know (hidden).\n",
        "\n",
        "\n",
        "Encapsulation is one of the fundamental principles of Object-Oriented Programming (OOP). It refers to the bundling of data (attributes) and methods (functions) that operate on that data within a single unit or class. Encapsulation helps to restrict direct access to some of an object's components, which can prevent the accidental modification of data and hide the internal implementation details from the outside world.\n",
        "\n"
      ],
      "metadata": {
        "id": "SNqCuzpY7ATD"
      }
    },
    {
      "cell_type": "code",
      "execution_count": 3,
      "metadata": {
        "id": "2ZrvDnZq5bwN"
      },
      "outputs": [],
      "source": [
        "# In yesterday's class we put hard values inside constructor\n",
        "# But we can salso put input in it\n",
        "\n",
        "class Person:\n",
        "  def __init__(self):\n",
        "    self.name = \"Ravi\"               # This is also same as yesterday\n",
        "    self.country = 'India'\n",
        "\n",
        "  def greeting(self):                # This is method\n",
        "    if self.country == 'India':\n",
        "      print(f\"Namaste {self.name}\")\n",
        "\n",
        "    else:\n",
        "      print(f'Hello{self.name}')\n"
      ]
    },
    {
      "cell_type": "code",
      "source": [
        "P = Person()"
      ],
      "metadata": {
        "id": "KgB6qET5DwcI"
      },
      "execution_count": 4,
      "outputs": []
    },
    {
      "cell_type": "code",
      "source": [
        "P.greeting()"
      ],
      "metadata": {
        "colab": {
          "base_uri": "https://localhost:8080/",
          "height": 0
        },
        "id": "BBOou-P2EBGf",
        "outputId": "aadd35c8-b922-4f6f-ba49-c4e4de9d812e"
      },
      "execution_count": 5,
      "outputs": [
        {
          "output_type": "stream",
          "name": "stdout",
          "text": [
            "Namaste Ravi\n"
          ]
        }
      ]
    },
    {
      "cell_type": "code",
      "source": [
        "# But we can salso put input in it\n",
        "\n",
        "class Person:\n",
        "  def __init__(self,name,country):\n",
        "    self.name = name              # This is with input,inside this constrctr we have to give another variable\n",
        "    self.country = country\n",
        "\n",
        "  def greeting(self):                # This is method\n",
        "    if self.country == 'India':\n",
        "      print(f\"Namaste {self.name}\")\n",
        "\n",
        "    else:\n",
        "      print(f'Hello{self.name}')"
      ],
      "metadata": {
        "id": "mO9qnVDjEEZR"
      },
      "execution_count": 6,
      "outputs": []
    },
    {
      "cell_type": "code",
      "source": [
        "P= Person('Bappy','India')"
      ],
      "metadata": {
        "id": "q6VOVMCHFQzD"
      },
      "execution_count": 8,
      "outputs": []
    },
    {
      "cell_type": "code",
      "source": [
        "P.greeting()"
      ],
      "metadata": {
        "colab": {
          "base_uri": "https://localhost:8080/",
          "height": 0
        },
        "id": "NRwOmLQWFE40",
        "outputId": "505cf304-f382-4b83-aa4b-b6bf66614959"
      },
      "execution_count": 9,
      "outputs": [
        {
          "output_type": "stream",
          "name": "stdout",
          "text": [
            "Namaste Bappy\n"
          ]
        }
      ]
    },
    {
      "cell_type": "code",
      "source": [
        "# I can also acess the other class variable"
      ],
      "metadata": {
        "id": "MACSfpraFNZ2"
      },
      "execution_count": 10,
      "outputs": []
    },
    {
      "cell_type": "code",
      "source": [
        "P.name"
      ],
      "metadata": {
        "colab": {
          "base_uri": "https://localhost:8080/",
          "height": 35
        },
        "id": "GM2FXPBXF8bu",
        "outputId": "b1c1f9e5-672e-4ea5-d1a8-de281d002409"
      },
      "execution_count": 13,
      "outputs": [
        {
          "output_type": "execute_result",
          "data": {
            "text/plain": [
              "'Bappy'"
            ],
            "application/vnd.google.colaboratory.intrinsic+json": {
              "type": "string"
            }
          },
          "metadata": {},
          "execution_count": 13
        }
      ]
    },
    {
      "cell_type": "markdown",
      "source": [
        "If we try to acess GENDER then it will throw error so if we want to add some variables after making class then we can directly send the variable"
      ],
      "metadata": {
        "id": "ZsZo3xc1GTvd"
      }
    },
    {
      "cell_type": "code",
      "source": [
        "P.gender"
      ],
      "metadata": {
        "colab": {
          "base_uri": "https://localhost:8080/",
          "height": 141
        },
        "id": "hdKwjJ91GBX_",
        "outputId": "f4261a53-a391-4a01-a61d-47a41fa236a6"
      },
      "execution_count": 14,
      "outputs": [
        {
          "output_type": "error",
          "ename": "AttributeError",
          "evalue": "'Person' object has no attribute 'gender'",
          "traceback": [
            "\u001b[0;31m---------------------------------------------------------------------------\u001b[0m",
            "\u001b[0;31mAttributeError\u001b[0m                            Traceback (most recent call last)",
            "\u001b[0;32m<ipython-input-14-527cdf47c3ad>\u001b[0m in \u001b[0;36m<cell line: 1>\u001b[0;34m()\u001b[0m\n\u001b[0;32m----> 1\u001b[0;31m \u001b[0mP\u001b[0m\u001b[0;34m.\u001b[0m\u001b[0mgender\u001b[0m\u001b[0;34m\u001b[0m\u001b[0;34m\u001b[0m\u001b[0m\n\u001b[0m",
            "\u001b[0;31mAttributeError\u001b[0m: 'Person' object has no attribute 'gender'"
          ]
        }
      ]
    },
    {
      "cell_type": "markdown",
      "source": [
        "Attribute creation from outside of the class"
      ],
      "metadata": {
        "id": "86lVmkktGz1k"
      }
    },
    {
      "cell_type": "code",
      "source": [
        "P.gender= \"Male\""
      ],
      "metadata": {
        "id": "GbEZc9YhGq_J"
      },
      "execution_count": 15,
      "outputs": []
    },
    {
      "cell_type": "code",
      "source": [
        "P.gender"
      ],
      "metadata": {
        "colab": {
          "base_uri": "https://localhost:8080/",
          "height": 35
        },
        "id": "RNRBxfKhG-_J",
        "outputId": "fe541544-c481-4d97-8b49-104acbd8894e"
      },
      "execution_count": 16,
      "outputs": [
        {
          "output_type": "execute_result",
          "data": {
            "text/plain": [
              "'Male'"
            ],
            "application/vnd.google.colaboratory.intrinsic+json": {
              "type": "string"
            }
          },
          "metadata": {},
          "execution_count": 16
        }
      ]
    },
    {
      "cell_type": "markdown",
      "source": [
        "## Reference variable"
      ],
      "metadata": {
        "id": "SfhR-8PQHoxH"
      }
    },
    {
      "cell_type": "code",
      "source": [
        "class Person:\n",
        "  def __init__(self):\n",
        "    self.name = \"Ravi\"\n",
        "    self.country = \"India\""
      ],
      "metadata": {
        "id": "rNpUiG0GHBcU"
      },
      "execution_count": 18,
      "outputs": []
    },
    {
      "cell_type": "code",
      "source": [
        "P=Person() # It created some memory so if we strore it in some other variable will it change it's ID or not\n",
        "q=P"
      ],
      "metadata": {
        "id": "-SMm2wjJH6OW"
      },
      "execution_count": 19,
      "outputs": []
    },
    {
      "cell_type": "code",
      "source": [
        "# i'll print the id for both the variable\n",
        "print(id(P))\n",
        "print(id(q))"
      ],
      "metadata": {
        "colab": {
          "base_uri": "https://localhost:8080/",
          "height": 0
        },
        "id": "-xDYJDPnIVu0",
        "outputId": "44019f35-5e15-492a-e028-59f61b2adf07"
      },
      "execution_count": 20,
      "outputs": [
        {
          "output_type": "stream",
          "name": "stdout",
          "text": [
            "133471928163712\n",
            "133471928163712\n"
          ]
        }
      ]
    },
    {
      "cell_type": "markdown",
      "source": [
        "Any cahnges you are making inside a variable then it will refelect in every variable"
      ],
      "metadata": {
        "id": "oVCwddoAJKo9"
      }
    },
    {
      "cell_type": "code",
      "source": [
        "print(P.name)\n",
        "print(q.name)\n",
        "q.name='uday'\n",
        "print(P.name)\n",
        "print(q.name)"
      ],
      "metadata": {
        "colab": {
          "base_uri": "https://localhost:8080/"
        },
        "id": "Wh0fMe0nIs4O",
        "outputId": "0c38b15a-de5a-4476-8745-107171f344df"
      },
      "execution_count": 21,
      "outputs": [
        {
          "output_type": "stream",
          "name": "stdout",
          "text": [
            "Ravi\n",
            "Ravi\n",
            "uday\n",
            "uday\n"
          ]
        }
      ]
    },
    {
      "cell_type": "markdown",
      "source": [
        "# Encapsulation"
      ],
      "metadata": {
        "id": "RoOGA8G7OSTz"
      }
    },
    {
      "cell_type": "code",
      "source": [
        "# Instance variable\n",
        "class Person:\n",
        "  def __init__(self,name,country):\n",
        "    self.name = name\n",
        "    self.country = country\n",
        "\n",
        "\n",
        "\n",
        "p1 = Person(\"Uday\",\"UK\")\n",
        "p2 = Person(\"Praveen\",\"India\")"
      ],
      "metadata": {
        "id": "UCWuf-QEJ3Jz"
      },
      "execution_count": 22,
      "outputs": []
    },
    {
      "cell_type": "code",
      "source": [
        "p1.name"
      ],
      "metadata": {
        "colab": {
          "base_uri": "https://localhost:8080/",
          "height": 35
        },
        "id": "qMGZLW7fPGFV",
        "outputId": "a81666b2-4cae-4b42-ada0-69adf06ad617"
      },
      "execution_count": 23,
      "outputs": [
        {
          "output_type": "execute_result",
          "data": {
            "text/plain": [
              "'Uday'"
            ],
            "application/vnd.google.colaboratory.intrinsic+json": {
              "type": "string"
            }
          },
          "metadata": {},
          "execution_count": 23
        }
      ]
    },
    {
      "cell_type": "code",
      "source": [
        "p2.name"
      ],
      "metadata": {
        "colab": {
          "base_uri": "https://localhost:8080/",
          "height": 35
        },
        "id": "FnhSvyc5PIMc",
        "outputId": "0fdcec31-b5b8-4916-c494-cba19b57267f"
      },
      "execution_count": 25,
      "outputs": [
        {
          "output_type": "execute_result",
          "data": {
            "text/plain": [
              "'Praveen'"
            ],
            "application/vnd.google.colaboratory.intrinsic+json": {
              "type": "string"
            }
          },
          "metadata": {},
          "execution_count": 25
        }
      ]
    },
    {
      "cell_type": "markdown",
      "source": [
        "Instance variable can store multiple data but simple variable can not.\n",
        "simple vaariable can only store one data."
      ],
      "metadata": {
        "id": "zxrAJbdnPmDc"
      }
    },
    {
      "cell_type": "code",
      "source": [
        "# commenting out self.menu()\n",
        "class Atm:\n",
        "  def __init__(self):\n",
        "    self.pin=''\n",
        "    self.balance=0\n",
        "    #self.menu()\n",
        "\n",
        "  def menu(self):\n",
        "    user_input = input(\n",
        "      '''\n",
        "      Hi how can i help you?\n",
        "      1. Press 1 to create pin\n",
        "      2. Press 2 to change pin\n",
        "      3. Press 3 to check balance\n",
        "      4. Press 4 to withdraw\n",
        "      5. Press anything to exit\n",
        "\n",
        "      '''\n",
        "  )\n",
        "    if user_input == '1':\n",
        "    # create a pin\n",
        "      self.create_pin()\n",
        "\n",
        "\n",
        "    elif user_input == '2':\n",
        "    # change pin\n",
        "      self.change_pin()\n",
        "\n",
        "\n",
        "    elif user_input == '3':\n",
        "    # check balance\n",
        "      self.check_balance()\n",
        "\n",
        "\n",
        "    elif user_input == '4':\n",
        "    #withdraw\n",
        "      self.withdraw()\n",
        "\n",
        "\n",
        "    else:\n",
        "      exit()\n",
        "\n",
        "   # Now we have to create individually\n",
        "  def create_pin(self):\n",
        "    user_pin = input('Enter your pin:')\n",
        "    self.pin = user_pin\n",
        "\n",
        "    user_balance = int(input('Enter Balance: '))\n",
        "    self.balance = user_balance\n",
        "\n",
        "    print('Pin created successfully!')\n",
        "    #self.menu()\n",
        "\n",
        "  def change_pin(self):\n",
        "    old_pin = input('Enter old pin : ')   # Firstly i have to match with old pin\n",
        "\n",
        "    if old_pin == self.pin:\n",
        "      # Let change the pin\n",
        "      new_pin = input('Enter new pin: ')\n",
        "      self.pin = new_pin\n",
        "      print('Pin change successfully! ')\n",
        "      #self.menu()\n",
        "\n",
        "    else:\n",
        "      print('sorry you have entered wrong pin ')\n",
        "      #self.menu()\n",
        "\n",
        "\n",
        "\n",
        "\n",
        "  def check_balance(self):\n",
        "    user_pin = input('Enter your pin : ')\n",
        "    if user_pin == self.pin:\n",
        "      print(f'your balance is {self.balance}')\n",
        "    else:\n",
        "      print('You have entered wrong pin, please try again')\n",
        "    #self.menu()\n",
        "\n",
        "  def withdraw(self):\n",
        "    user_pin= input('Enter your pin : ')\n",
        "    if user_pin == self.pin:\n",
        "      #allow to withdraw\n",
        "      amount = int(input('Please enter amount'))\n",
        "      if amount <= self.balance:\n",
        "        self.balance = self.balance - amount\n",
        "        print(f'Withdraw successful and the current balance is {self.balance}')\n",
        "      else:\n",
        "        print('You have insufficient balance')\n",
        "    else:\n",
        "      print('You have entered a wrong pin')\n",
        "\n",
        "\n",
        "\n",
        "\n",
        "\n",
        "\n",
        "\n",
        "\n"
      ],
      "metadata": {
        "id": "QAhc7roDPUZ2"
      },
      "execution_count": 26,
      "outputs": []
    },
    {
      "cell_type": "code",
      "source": [
        "obj= Atm()"
      ],
      "metadata": {
        "id": "cx3QvNAkQ6Hw"
      },
      "execution_count": 27,
      "outputs": []
    },
    {
      "cell_type": "code",
      "source": [
        "obj.create_pin()\n",
        "obj.balance=\"Pagal hai kay\""
      ],
      "metadata": {
        "colab": {
          "base_uri": "https://localhost:8080/"
        },
        "id": "ZOoYksHoQ-td",
        "outputId": "c0f3c55e-d6b8-4c2b-abe2-85ed54a8a009"
      },
      "execution_count": 28,
      "outputs": [
        {
          "output_type": "stream",
          "name": "stdout",
          "text": [
            "Enter your pin:123\n",
            "Enter Balance: 1000\n",
            "Pin created successfully!\n"
          ]
        }
      ]
    },
    {
      "cell_type": "markdown",
      "source": [
        "It changed the variable \" balance \" from outside the class so it can lead to lay off from company\n",
        "\n",
        "so whenever someone withdraw money it got minus from BALANCE so it will throw error.\n",
        "\n",
        "\n",
        "\n",
        "\n",
        "so to prevent it here Encapsulation comes to picture.\n",
        "\n",
        "* it does't let class change from outside\n",
        "\n",
        "\n",
        "for that we have to put \"__balance\"\n"
      ],
      "metadata": {
        "id": "JQDbClArS-8M"
      }
    },
    {
      "cell_type": "code",
      "source": [
        "# changing balance to __balance\n",
        "class Atm:\n",
        "  def __init__(self):\n",
        "    self.pin=''\n",
        "    self.__balance=1000\n",
        "    #self.menu()\n",
        "\n",
        "  def menu(self):\n",
        "    user_input = input(\n",
        "      '''\n",
        "      Hi how can i help you?\n",
        "      1. Press 1 to create pin\n",
        "      2. Press 2 to change pin\n",
        "      3. Press 3 to check balance\n",
        "      4. Press 4 to withdraw\n",
        "      5. Press anything to exit\n",
        "\n",
        "      '''\n",
        "  )\n",
        "    if user_input == '1':\n",
        "    # create a pin\n",
        "      self.create_pin()\n",
        "\n",
        "\n",
        "    elif user_input == '2':\n",
        "    # change pin\n",
        "      self.change_pin()\n",
        "\n",
        "\n",
        "    elif user_input == '3':\n",
        "    # check balance\n",
        "      self.check_balance()\n",
        "\n",
        "\n",
        "    elif user_input == '4':\n",
        "    #withdraw\n",
        "      self.withdraw()\n",
        "\n",
        "\n",
        "    else:\n",
        "      exit()\n",
        "\n",
        "   # Now we have to create individually\n",
        "  def create_pin(self):\n",
        "    user_pin = input('Enter your pin:')\n",
        "    self.pin = user_pin\n",
        "\n",
        "    user_balance = int(input('Enter Balance: '))\n",
        "    self.__balance = user_balance\n",
        "\n",
        "    print('Pin created successfully!')\n",
        "    #self.menu()\n",
        "\n",
        "  def change_pin(self):\n",
        "    old_pin = input('Enter old pin : ')   # Firstly i have to match with old pin\n",
        "\n",
        "    if old_pin == self.pin:\n",
        "      # Let change the pin\n",
        "      new_pin = input('Enter new pin: ')\n",
        "      self.pin = new_pin\n",
        "      print('Pin change successfully! ')\n",
        "      #self.menu()\n",
        "\n",
        "    else:\n",
        "      print('sorry you have entered wrong pin ')\n",
        "      #self.menu()\n",
        "\n",
        "\n",
        "\n",
        "\n",
        "  def check_balance(self):\n",
        "    user_pin = input('Enter your pin : ')\n",
        "    if user_pin == self.pin:\n",
        "      print(f'your balance is {self.__balance}')\n",
        "    else:\n",
        "      print('You have entered wrong pin, please try again')\n",
        "    #self.menu()\n",
        "\n",
        "  def withdraw(self):\n",
        "    user_pin= input('Enter your pin : ')\n",
        "    if user_pin == self.pin:\n",
        "      #allow to withdraw\n",
        "      amount = int(input('Please enter amount'))\n",
        "      if amount <= self.__balance:\n",
        "        self.__balance = self.__balance - amount\n",
        "        print(f'Withdraw successful and the current balance is {self.__balance}')\n",
        "      else:\n",
        "        print('You have insufficient balance')\n",
        "    else:\n",
        "      print('You have entered a wrong pin')"
      ],
      "metadata": {
        "id": "3zbJbjZ5T9fa"
      },
      "execution_count": 45,
      "outputs": []
    },
    {
      "cell_type": "code",
      "source": [
        "obj= Atm()"
      ],
      "metadata": {
        "id": "CD-V1xIKVVB-"
      },
      "execution_count": 35,
      "outputs": []
    },
    {
      "cell_type": "code",
      "source": [
        "obj.balance      # It is not coming now so this is called Encapsulation"
      ],
      "metadata": {
        "colab": {
          "base_uri": "https://localhost:8080/",
          "height": 141
        },
        "id": "9XF-N6NcVYmY",
        "outputId": "c0c6da8d-aef7-4ede-e7f6-c3e2c62fe9f8"
      },
      "execution_count": 36,
      "outputs": [
        {
          "output_type": "error",
          "ename": "AttributeError",
          "evalue": "'Atm' object has no attribute 'balance'",
          "traceback": [
            "\u001b[0;31m---------------------------------------------------------------------------\u001b[0m",
            "\u001b[0;31mAttributeError\u001b[0m                            Traceback (most recent call last)",
            "\u001b[0;32m<ipython-input-36-3757204e98b8>\u001b[0m in \u001b[0;36m<cell line: 1>\u001b[0;34m()\u001b[0m\n\u001b[0;32m----> 1\u001b[0;31m \u001b[0mobj\u001b[0m\u001b[0;34m.\u001b[0m\u001b[0mbalance\u001b[0m      \u001b[0;31m# It is not coming now so this is called Encapsulation\u001b[0m\u001b[0;34m\u001b[0m\u001b[0;34m\u001b[0m\u001b[0m\n\u001b[0m",
            "\u001b[0;31mAttributeError\u001b[0m: 'Atm' object has no attribute 'balance'"
          ]
        }
      ]
    },
    {
      "cell_type": "markdown",
      "source": [
        "If someone is smart and do not call balance like obj.balance but he call it by obj.__balance then"
      ],
      "metadata": {
        "id": "LbfFgY5dYcFs"
      }
    },
    {
      "cell_type": "code",
      "source": [
        "obj.create_pin()\n",
        "obj.__balance= 'are you mad '\n"
      ],
      "metadata": {
        "colab": {
          "base_uri": "https://localhost:8080/"
        },
        "id": "FVgGYQkqYTTq",
        "outputId": "94842320-a91e-4d13-801f-992207521d1c"
      },
      "execution_count": 37,
      "outputs": [
        {
          "output_type": "stream",
          "name": "stdout",
          "text": [
            "Enter your pin:123\n",
            "Enter Balance: 1000\n",
            "Pin created successfully!\n"
          ]
        }
      ]
    },
    {
      "cell_type": "code",
      "source": [
        "obj.withdraw()"
      ],
      "metadata": {
        "colab": {
          "base_uri": "https://localhost:8080/"
        },
        "id": "YO-P4DTKY4Jd",
        "outputId": "9fe257d0-7cad-45ee-9205-2df6d1b2f8ca"
      },
      "execution_count": 46,
      "outputs": [
        {
          "output_type": "stream",
          "name": "stdout",
          "text": [
            "Enter your pin : 123\n",
            "Please enter amount109\n",
            "You have insufficient balance\n"
          ]
        }
      ]
    },
    {
      "cell_type": "code",
      "source": [
        " obj.__balance\n"
      ],
      "metadata": {
        "colab": {
          "base_uri": "https://localhost:8080/",
          "height": 35
        },
        "id": "zEX_0no1Y870",
        "outputId": "268edb5d-dc9a-430a-d70d-5dfd3e34a6af"
      },
      "execution_count": 47,
      "outputs": [
        {
          "output_type": "execute_result",
          "data": {
            "text/plain": [
              "'are you mad '"
            ],
            "application/vnd.google.colaboratory.intrinsic+json": {
              "type": "string"
            }
          },
          "metadata": {},
          "execution_count": 47
        }
      ]
    },
    {
      "cell_type": "markdown",
      "source": [
        "whenever we use private variable in class then it will take it as other form , for example\n",
        "\n",
        "\n",
        "obj.__balance = 1000.    (it takes it as _Atm __balance)\n",
        "\n",
        "obj.__balance = pagal hai kya\n",
        "\n",
        "\n",
        "so the above both are not same,that's why it get successfully executec\n",
        "\n"
      ],
      "metadata": {
        "id": "jYwM4L361Vfv"
      }
    },
    {
      "cell_type": "code",
      "source": [
        "obj._Atm__balance"
      ],
      "metadata": {
        "colab": {
          "base_uri": "https://localhost:8080/"
        },
        "id": "6aerKN4E1SST",
        "outputId": "6fa78914-5161-41b8-c0cf-4f7dcc2853a9"
      },
      "execution_count": 44,
      "outputs": [
        {
          "output_type": "execute_result",
          "data": {
            "text/plain": [
              "0"
            ]
          },
          "metadata": {},
          "execution_count": 44
        }
      ]
    },
    {
      "cell_type": "markdown",
      "source": [
        "so if someone is really smart and he do like this"
      ],
      "metadata": {
        "id": "fzCcpjzd4LcS"
      }
    },
    {
      "cell_type": "code",
      "source": [
        "obj=Atm()\n",
        "obj.create_pin()\n",
        "obj._Atm__balance = \"pagal hai kya\""
      ],
      "metadata": {
        "colab": {
          "base_uri": "https://localhost:8080/"
        },
        "id": "YoJSf_Sp2wT8",
        "outputId": "28485dd6-cb0c-4575-a784-ebfa26078945"
      },
      "execution_count": 48,
      "outputs": [
        {
          "output_type": "stream",
          "name": "stdout",
          "text": [
            "Enter your pin:123\n",
            "Enter Balance: 10000\n",
            "Pin created successfully!\n"
          ]
        }
      ]
    },
    {
      "cell_type": "code",
      "source": [
        "obj.withdraw()"
      ],
      "metadata": {
        "colab": {
          "base_uri": "https://localhost:8080/",
          "height": 297
        },
        "id": "on2Z4FU-4iZR",
        "outputId": "45ef5980-0a9c-4426-8ff2-97eb3712a717"
      },
      "execution_count": 50,
      "outputs": [
        {
          "name": "stdout",
          "output_type": "stream",
          "text": [
            "Enter your pin : 123\n",
            "Please enter amount200\n"
          ]
        },
        {
          "output_type": "error",
          "ename": "TypeError",
          "evalue": "'<=' not supported between instances of 'int' and 'str'",
          "traceback": [
            "\u001b[0;31m---------------------------------------------------------------------------\u001b[0m",
            "\u001b[0;31mTypeError\u001b[0m                                 Traceback (most recent call last)",
            "\u001b[0;32m<ipython-input-50-826ea677aa70>\u001b[0m in \u001b[0;36m<cell line: 1>\u001b[0;34m()\u001b[0m\n\u001b[0;32m----> 1\u001b[0;31m \u001b[0mobj\u001b[0m\u001b[0;34m.\u001b[0m\u001b[0mwithdraw\u001b[0m\u001b[0;34m(\u001b[0m\u001b[0;34m)\u001b[0m\u001b[0;34m\u001b[0m\u001b[0;34m\u001b[0m\u001b[0m\n\u001b[0m",
            "\u001b[0;32m<ipython-input-45-2ce2dfe95798>\u001b[0m in \u001b[0;36mwithdraw\u001b[0;34m(self)\u001b[0m\n\u001b[1;32m     82\u001b[0m       \u001b[0;31m#allow to withdraw\u001b[0m\u001b[0;34m\u001b[0m\u001b[0;34m\u001b[0m\u001b[0m\n\u001b[1;32m     83\u001b[0m       \u001b[0mamount\u001b[0m \u001b[0;34m=\u001b[0m \u001b[0mint\u001b[0m\u001b[0;34m(\u001b[0m\u001b[0minput\u001b[0m\u001b[0;34m(\u001b[0m\u001b[0;34m'Please enter amount'\u001b[0m\u001b[0;34m)\u001b[0m\u001b[0;34m)\u001b[0m\u001b[0;34m\u001b[0m\u001b[0;34m\u001b[0m\u001b[0m\n\u001b[0;32m---> 84\u001b[0;31m       \u001b[0;32mif\u001b[0m \u001b[0mamount\u001b[0m \u001b[0;34m<=\u001b[0m \u001b[0mself\u001b[0m\u001b[0;34m.\u001b[0m\u001b[0m__balance\u001b[0m\u001b[0;34m:\u001b[0m\u001b[0;34m\u001b[0m\u001b[0;34m\u001b[0m\u001b[0m\n\u001b[0m\u001b[1;32m     85\u001b[0m         \u001b[0mself\u001b[0m\u001b[0;34m.\u001b[0m\u001b[0m__balance\u001b[0m \u001b[0;34m=\u001b[0m \u001b[0mself\u001b[0m\u001b[0;34m.\u001b[0m\u001b[0m__balance\u001b[0m \u001b[0;34m-\u001b[0m \u001b[0mamount\u001b[0m\u001b[0;34m\u001b[0m\u001b[0;34m\u001b[0m\u001b[0m\n\u001b[1;32m     86\u001b[0m         \u001b[0mprint\u001b[0m\u001b[0;34m(\u001b[0m\u001b[0;34mf'Withdraw successful and the current balance is {self.__balance}'\u001b[0m\u001b[0;34m)\u001b[0m\u001b[0;34m\u001b[0m\u001b[0;34m\u001b[0m\u001b[0m\n",
            "\u001b[0;31mTypeError\u001b[0m: '<=' not supported between instances of 'int' and 'str'"
          ]
        }
      ]
    },
    {
      "cell_type": "markdown",
      "source": [
        "Story - you created a private variable but then also your junior developer able to mould it\n",
        "\n",
        "\n",
        "\n",
        "because\n",
        "\n",
        "in python there is nothing too personal,it is made for adults.\n"
      ],
      "metadata": {
        "id": "pU2a-_Lz5C70"
      }
    },
    {
      "cell_type": "code",
      "source": [
        ""
      ],
      "metadata": {
        "id": "NIhR6ZdA4nDQ"
      },
      "execution_count": null,
      "outputs": []
    },
    {
      "cell_type": "markdown",
      "source": [
        "Now sometimes your sinor developer wants junior to see the funcility and can change it\n",
        "\n",
        "but insted of giving direct acess he do create a method\n",
        "\n",
        "#gitter method and sitter method\n",
        "\n",
        "gitter method gives you the content only"
      ],
      "metadata": {
        "id": "Us3Qvtqw79GB"
      }
    },
    {
      "cell_type": "code",
      "source": [
        "# gitter method\n",
        "class Atm:\n",
        "  def __init__(self):\n",
        "    self.pin=''\n",
        "    self.__balance=1000\n",
        "    #self.menu()\n",
        "\n",
        "\n",
        "\n",
        " # gitter method\n",
        "  def get_balance(self):\n",
        "    return self.__balance   # because i'm calling this variable inside Atm class\n",
        "                          #outside i have to call like \" obj=Atm(),obj.balance\"\n",
        "\n",
        "\n",
        "# setter method\n",
        "  def set_balance(self,new_balance):\n",
        "    self.__balance = new_balance\n",
        "\n",
        "\n",
        "\n",
        "\n",
        "  def menu(self):\n",
        "    user_input = input(\n",
        "      '''\n",
        "      Hi how can i help you?\n",
        "      1. Press 1 to create pin\n",
        "      2. Press 2 to change pin\n",
        "      3. Press 3 to check balance\n",
        "      4. Press 4 to withdraw\n",
        "      5. Press anything to exit\n",
        "\n",
        "      '''\n",
        "  )\n",
        "    if user_input == '1':\n",
        "    # create a pin\n",
        "      self.create_pin()\n",
        "\n",
        "\n",
        "    elif user_input == '2':\n",
        "    # change pin\n",
        "      self.change_pin()\n",
        "\n",
        "\n",
        "    elif user_input == '3':\n",
        "    # check balance\n",
        "      self.check_balance()\n",
        "\n",
        "\n",
        "    elif user_input == '4':\n",
        "    #withdraw\n",
        "      self.withdraw()\n",
        "\n",
        "\n",
        "    else:\n",
        "      exit()\n",
        "\n",
        "   # Now we have to create individually\n",
        "  def create_pin(self):\n",
        "    user_pin = input('Enter your pin:')\n",
        "    self.pin = user_pin\n",
        "\n",
        "    user_balance = int(input('Enter Balance: '))\n",
        "    self.__balance = user_balance\n",
        "\n",
        "    print('Pin created successfully!')\n",
        "    #self.menu()\n",
        "\n",
        "  def change_pin(self):\n",
        "    old_pin = input('Enter old pin : ')   # Firstly i have to match with old pin\n",
        "\n",
        "    if old_pin == self.pin:\n",
        "      # Let change the pin\n",
        "      new_pin = input('Enter new pin: ')\n",
        "      self.pin = new_pin\n",
        "      print('Pin change successfully! ')\n",
        "      #self.menu()\n",
        "\n",
        "    else:\n",
        "      print('sorry you have entered wrong pin ')\n",
        "      #self.menu()\n",
        "\n",
        "\n",
        "\n",
        "\n",
        "  def check_balance(self):\n",
        "    user_pin = input('Enter your pin : ')\n",
        "    if user_pin == self.pin:\n",
        "      print(f'your balance is {self.__balance}')\n",
        "    else:\n",
        "      print('You have entered wrong pin, please try again')\n",
        "    #self.menu()\n",
        "\n",
        "  def withdraw(self):\n",
        "    user_pin= input('Enter your pin : ')\n",
        "    if user_pin == self.pin:\n",
        "      #allow to withdraw\n",
        "      amount = int(input('Please enter amount'))\n",
        "      if amount <= self.__balance:\n",
        "        self.__balance = self.__balance - amount\n",
        "        print(f'Withdraw successful and the current balance is {self.__balance}')\n",
        "      else:\n",
        "        print('You have insufficient balance')\n",
        "    else:\n",
        "      print('You have entered a wrong pin')"
      ],
      "metadata": {
        "id": "VPxgCgF48fsn"
      },
      "execution_count": 52,
      "outputs": []
    },
    {
      "cell_type": "code",
      "source": [
        "obj=Atm()\n",
        "obj.get_balance()        # when we put \".\" we got get balance and set balance"
      ],
      "metadata": {
        "colab": {
          "base_uri": "https://localhost:8080/"
        },
        "id": "jXAbtbnL-hQI",
        "outputId": "a1c7c8d2-1c07-444b-d7ed-a37b34f7f7b1"
      },
      "execution_count": 54,
      "outputs": [
        {
          "output_type": "execute_result",
          "data": {
            "text/plain": [
              "1000"
            ]
          },
          "metadata": {},
          "execution_count": 54
        }
      ]
    },
    {
      "cell_type": "code",
      "source": [
        "obj.set_balance(999)"
      ],
      "metadata": {
        "id": "RQdtbxgc-6Ys"
      },
      "execution_count": 55,
      "outputs": []
    },
    {
      "cell_type": "code",
      "source": [
        "obj.get_balance()"
      ],
      "metadata": {
        "colab": {
          "base_uri": "https://localhost:8080/"
        },
        "id": "_hUyC_E2-_oS",
        "outputId": "4cd9a6a9-37ed-49e0-b081-5ab5c019f1bc"
      },
      "execution_count": 56,
      "outputs": [
        {
          "output_type": "execute_result",
          "data": {
            "text/plain": [
              "999"
            ]
          },
          "metadata": {},
          "execution_count": 56
        }
      ]
    },
    {
      "cell_type": "code",
      "source": [
        "# now again if your junior developer gets crazy\n",
        "obj.set_balance(\"pagal hai kya\")"
      ],
      "metadata": {
        "id": "W7k94wW7_Bvp"
      },
      "execution_count": 57,
      "outputs": []
    },
    {
      "cell_type": "code",
      "source": [
        "obj.get_balance()"
      ],
      "metadata": {
        "colab": {
          "base_uri": "https://localhost:8080/",
          "height": 35
        },
        "id": "P3DML-He_PAi",
        "outputId": "69fbe085-72bb-459d-f9d6-e67110c25de1"
      },
      "execution_count": 58,
      "outputs": [
        {
          "output_type": "execute_result",
          "data": {
            "text/plain": [
              "'pagal hai kya'"
            ],
            "application/vnd.google.colaboratory.intrinsic+json": {
              "type": "string"
            }
          },
          "metadata": {},
          "execution_count": 58
        }
      ]
    },
    {
      "cell_type": "code",
      "source": [
        "obj.withdraw()"
      ],
      "metadata": {
        "colab": {
          "base_uri": "https://localhost:8080/"
        },
        "id": "vZRcV-hs_RN1",
        "outputId": "766f658f-876d-42f4-d916-14ba79a4e9cb"
      },
      "execution_count": 60,
      "outputs": [
        {
          "output_type": "stream",
          "name": "stdout",
          "text": [
            "Enter your pin : 123\n",
            "You have entered a wrong pin\n"
          ]
        }
      ]
    },
    {
      "cell_type": "code",
      "source": [
        "# first of all i have to call create pin"
      ],
      "metadata": {
        "id": "BZWNH3AO_XUs"
      },
      "execution_count": 61,
      "outputs": []
    },
    {
      "cell_type": "code",
      "source": [
        "obj.create_pin()\n",
        "obj.set_balance(\"pagal hai kya\")"
      ],
      "metadata": {
        "colab": {
          "base_uri": "https://localhost:8080/"
        },
        "id": "-no1SrQA_h8Y",
        "outputId": "9ac0d862-94b3-4fb1-f53b-8399b9061f91"
      },
      "execution_count": 62,
      "outputs": [
        {
          "output_type": "stream",
          "name": "stdout",
          "text": [
            "Enter your pin:123\n",
            "Enter Balance: 12\n",
            "Pin created successfully!\n"
          ]
        }
      ]
    },
    {
      "cell_type": "code",
      "source": [
        "obj.withdraw()\n"
      ],
      "metadata": {
        "colab": {
          "base_uri": "https://localhost:8080/",
          "height": 297
        },
        "id": "UQIKImFG_oJT",
        "outputId": "d854f909-3c67-4655-9abf-780f03c3d70c"
      },
      "execution_count": 63,
      "outputs": [
        {
          "name": "stdout",
          "output_type": "stream",
          "text": [
            "Enter your pin : 123\n",
            "Please enter amount1\n"
          ]
        },
        {
          "output_type": "error",
          "ename": "TypeError",
          "evalue": "'<=' not supported between instances of 'int' and 'str'",
          "traceback": [
            "\u001b[0;31m---------------------------------------------------------------------------\u001b[0m",
            "\u001b[0;31mTypeError\u001b[0m                                 Traceback (most recent call last)",
            "\u001b[0;32m<ipython-input-63-826ea677aa70>\u001b[0m in \u001b[0;36m<cell line: 1>\u001b[0;34m()\u001b[0m\n\u001b[0;32m----> 1\u001b[0;31m \u001b[0mobj\u001b[0m\u001b[0;34m.\u001b[0m\u001b[0mwithdraw\u001b[0m\u001b[0;34m(\u001b[0m\u001b[0;34m)\u001b[0m\u001b[0;34m\u001b[0m\u001b[0;34m\u001b[0m\u001b[0m\n\u001b[0m",
            "\u001b[0;32m<ipython-input-52-03a8b890845d>\u001b[0m in \u001b[0;36mwithdraw\u001b[0;34m(self)\u001b[0m\n\u001b[1;32m     97\u001b[0m       \u001b[0;31m#allow to withdraw\u001b[0m\u001b[0;34m\u001b[0m\u001b[0;34m\u001b[0m\u001b[0m\n\u001b[1;32m     98\u001b[0m       \u001b[0mamount\u001b[0m \u001b[0;34m=\u001b[0m \u001b[0mint\u001b[0m\u001b[0;34m(\u001b[0m\u001b[0minput\u001b[0m\u001b[0;34m(\u001b[0m\u001b[0;34m'Please enter amount'\u001b[0m\u001b[0;34m)\u001b[0m\u001b[0;34m)\u001b[0m\u001b[0;34m\u001b[0m\u001b[0;34m\u001b[0m\u001b[0m\n\u001b[0;32m---> 99\u001b[0;31m       \u001b[0;32mif\u001b[0m \u001b[0mamount\u001b[0m \u001b[0;34m<=\u001b[0m \u001b[0mself\u001b[0m\u001b[0;34m.\u001b[0m\u001b[0m__balance\u001b[0m\u001b[0;34m:\u001b[0m\u001b[0;34m\u001b[0m\u001b[0;34m\u001b[0m\u001b[0m\n\u001b[0m\u001b[1;32m    100\u001b[0m         \u001b[0mself\u001b[0m\u001b[0;34m.\u001b[0m\u001b[0m__balance\u001b[0m \u001b[0;34m=\u001b[0m \u001b[0mself\u001b[0m\u001b[0;34m.\u001b[0m\u001b[0m__balance\u001b[0m \u001b[0;34m-\u001b[0m \u001b[0mamount\u001b[0m\u001b[0;34m\u001b[0m\u001b[0;34m\u001b[0m\u001b[0m\n\u001b[1;32m    101\u001b[0m         \u001b[0mprint\u001b[0m\u001b[0;34m(\u001b[0m\u001b[0;34mf'Withdraw successful and the current balance is {self.__balance}'\u001b[0m\u001b[0;34m)\u001b[0m\u001b[0;34m\u001b[0m\u001b[0;34m\u001b[0m\u001b[0m\n",
            "\u001b[0;31mTypeError\u001b[0m: '<=' not supported between instances of 'int' and 'str'"
          ]
        }
      ]
    },
    {
      "cell_type": "markdown",
      "source": [
        "now as a senior developer you can add some conditions insted leaving like this."
      ],
      "metadata": {
        "id": "gVReOBAMA6Ka"
      }
    },
    {
      "cell_type": "code",
      "source": [
        "# setter method\n",
        "  def set_balance(self,new_balance):\n",
        "    if type(new_balance)== int:\n",
        "    self.__balance = new_balance\n",
        "    else:\n",
        "      print(\"beta bhout maarunga\")\n"
      ],
      "metadata": {
        "colab": {
          "base_uri": "https://localhost:8080/",
          "height": 106
        },
        "id": "zVe9MW5Q_vy1",
        "outputId": "a2d1697a-ba82-422f-927c-48231e23ed8e"
      },
      "execution_count": 65,
      "outputs": [
        {
          "output_type": "error",
          "ename": "IndentationError",
          "evalue": "unexpected indent (<ipython-input-65-b9c590e9a214>, line 2)",
          "traceback": [
            "\u001b[0;36m  File \u001b[0;32m\"<ipython-input-65-b9c590e9a214>\"\u001b[0;36m, line \u001b[0;32m2\u001b[0m\n\u001b[0;31m    def set_balance(self,new_balance):\u001b[0m\n\u001b[0m    ^\u001b[0m\n\u001b[0;31mIndentationError\u001b[0m\u001b[0;31m:\u001b[0m unexpected indent\n"
          ]
        }
      ]
    },
    {
      "cell_type": "markdown",
      "source": [
        "There is one another class\n",
        "## protected class\n",
        "\n",
        "\n",
        "it is like in facebook we have three options to share with friends only,to share with everyone(public),and private only\n",
        "\n",
        " so by using protected variable like if we take two class so by using it 2nd class can also acess 1st class protected variable."
      ],
      "metadata": {
        "id": "G8Hw-MO_CsLD"
      }
    },
    {
      "cell_type": "code",
      "source": [],
      "metadata": {
        "id": "7YXb32l9Bp6B"
      },
      "execution_count": null,
      "outputs": []
    }
  ]
}