{
 "cells": [
  {
   "cell_type": "markdown",
   "id": "a113e935",
   "metadata": {},
   "source": [
    "## List\n",
    "\n",
    "List- list are ordered collection of data item, they stores multiple items in single variable.\n",
    "\n",
    "List items are seperated by commas and enclosed within square bracket[]\n",
    "\n",
    "List are changable and  mutable meaning we can alter them after creation.\n"
   ]
  },
  {
   "cell_type": "code",
   "execution_count": 1,
   "id": "db9ecb5f",
   "metadata": {},
   "outputs": [],
   "source": [
    "list1=[1,2,3,3.4,True,'ravi']"
   ]
  },
  {
   "cell_type": "code",
   "execution_count": 2,
   "id": "b8e7fb4a",
   "metadata": {},
   "outputs": [
    {
     "data": {
      "text/plain": [
       "3.4"
      ]
     },
     "execution_count": 2,
     "metadata": {},
     "output_type": "execute_result"
    }
   ],
   "source": [
    "list1[3]"
   ]
  },
  {
   "cell_type": "code",
   "execution_count": 4,
   "id": "46fdc95c",
   "metadata": {},
   "outputs": [],
   "source": [
    "# List indexing\n",
    "list3=['red','blue','green']"
   ]
  },
  {
   "cell_type": "code",
   "execution_count": 5,
   "id": "980b6eb2",
   "metadata": {},
   "outputs": [
    {
     "data": {
      "text/plain": [
       "'red'"
      ]
     },
     "execution_count": 5,
     "metadata": {},
     "output_type": "execute_result"
    }
   ],
   "source": [
    "list3[0]"
   ]
  },
  {
   "cell_type": "code",
   "execution_count": 6,
   "id": "3ef6d516",
   "metadata": {},
   "outputs": [],
   "source": [
    "# i can also store this in a seprate variable\n",
    "red_colour=list3[0]"
   ]
  },
  {
   "cell_type": "code",
   "execution_count": 9,
   "id": "efe09629",
   "metadata": {},
   "outputs": [
    {
     "data": {
      "text/plain": [
       "'red'"
      ]
     },
     "execution_count": 9,
     "metadata": {},
     "output_type": "execute_result"
    }
   ],
   "source": [
    "red_colour "
   ]
  },
  {
   "cell_type": "code",
   "execution_count": 10,
   "id": "ee6e347b",
   "metadata": {},
   "outputs": [
    {
     "ename": "IndexError",
     "evalue": "list index out of range",
     "output_type": "error",
     "traceback": [
      "\u001b[0;31m---------------------------------------------------------------------------\u001b[0m",
      "\u001b[0;31mIndexError\u001b[0m                                Traceback (most recent call last)",
      "Cell \u001b[0;32mIn[10], line 1\u001b[0m\n\u001b[0;32m----> 1\u001b[0m list3[\u001b[38;5;241m87\u001b[39m]\n",
      "\u001b[0;31mIndexError\u001b[0m: list index out of range"
     ]
    }
   ],
   "source": [
    "list3[87]"
   ]
  },
  {
   "cell_type": "code",
   "execution_count": 11,
   "id": "62609eaf",
   "metadata": {},
   "outputs": [
    {
     "data": {
      "text/plain": [
       "'blue'"
      ]
     },
     "execution_count": 11,
     "metadata": {},
     "output_type": "execute_result"
    }
   ],
   "source": [
    "list3[-2]"
   ]
  },
  {
   "cell_type": "code",
   "execution_count": 12,
   "id": "b0989151",
   "metadata": {},
   "outputs": [
    {
     "data": {
      "text/plain": [
       "['red', 'blue', 'green']"
      ]
     },
     "execution_count": 12,
     "metadata": {},
     "output_type": "execute_result"
    }
   ],
   "source": [
    "list3"
   ]
  },
  {
   "cell_type": "code",
   "execution_count": 13,
   "id": "76a345ac",
   "metadata": {},
   "outputs": [
    {
     "name": "stdout",
     "output_type": "stream",
     "text": [
      "yes\n"
     ]
    }
   ],
   "source": [
    "# You can also put condition in list\n",
    "\n",
    "if 'red' in list3:\n",
    "    print('yes')\n",
    "else:\n",
    "    print('no')"
   ]
  },
  {
   "cell_type": "code",
   "execution_count": 14,
   "id": "22b34533",
   "metadata": {},
   "outputs": [
    {
     "name": "stdout",
     "output_type": "stream",
     "text": [
      "red\n",
      "blue\n",
      "green\n"
     ]
    }
   ],
   "source": [
    "# By for loop\n",
    "for i in list3:\n",
    "    print(i)"
   ]
  },
  {
   "cell_type": "code",
   "execution_count": 17,
   "id": "b50e8063",
   "metadata": {},
   "outputs": [
    {
     "name": "stdout",
     "output_type": "stream",
     "text": [
      "0\n",
      "1\n",
      "2\n"
     ]
    }
   ],
   "source": [
    "\n",
    "for i in range(len(list3)):\n",
    "    print(i)"
   ]
  },
  {
   "cell_type": "markdown",
   "id": "fee82f74",
   "metadata": {},
   "source": [
    "If i want to print indexing with list elements"
   ]
  },
  {
   "cell_type": "code",
   "execution_count": 19,
   "id": "7d403f8e",
   "metadata": {},
   "outputs": [
    {
     "name": "stdout",
     "output_type": "stream",
     "text": [
      "0 red\n",
      "1 blue\n",
      "2 green\n"
     ]
    }
   ],
   "source": [
    "\n",
    "for i in range(len(list3)):\n",
    "    print(i,list3[i])"
   ]
  },
  {
   "cell_type": "code",
   "execution_count": 20,
   "id": "158226e1",
   "metadata": {},
   "outputs": [
    {
     "data": {
      "text/plain": [
       "['red', 'blue']"
      ]
     },
     "execution_count": 20,
     "metadata": {},
     "output_type": "execute_result"
    }
   ],
   "source": [
    "# Range of index\n",
    "\n",
    "list3[0:2]"
   ]
  },
  {
   "cell_type": "code",
   "execution_count": 21,
   "id": "52e0918b",
   "metadata": {},
   "outputs": [],
   "source": [
    "num=[1,2,3,4,5,5,6,7,8,9]"
   ]
  },
  {
   "cell_type": "code",
   "execution_count": 27,
   "id": "b58427d1",
   "metadata": {},
   "outputs": [
    {
     "name": "stdout",
     "output_type": "stream",
     "text": [
      "odd number\n",
      "even number\n",
      "odd number\n",
      "even number\n",
      "odd number\n",
      "odd number\n",
      "even number\n",
      "odd number\n",
      "even number\n",
      "odd number\n"
     ]
    }
   ],
   "source": [
    "for i in num:\n",
    "    if i%2== 0:\n",
    "        print('even number')\n",
    "    else:\n",
    "        print('odd number')"
   ]
  },
  {
   "cell_type": "code",
   "execution_count": 28,
   "id": "3965e298",
   "metadata": {},
   "outputs": [],
   "source": [
    "# If i want to change any element we can do it \n",
    "num[9]=20"
   ]
  },
  {
   "cell_type": "code",
   "execution_count": 29,
   "id": "30e0bf88",
   "metadata": {},
   "outputs": [
    {
     "data": {
      "text/plain": [
       "[1, 2, 3, 4, 5, 5, 6, 7, 8, 20]"
      ]
     },
     "execution_count": 29,
     "metadata": {},
     "output_type": "execute_result"
    }
   ],
   "source": [
    "num"
   ]
  },
  {
   "cell_type": "code",
   "execution_count": 31,
   "id": "50e59628",
   "metadata": {},
   "outputs": [
    {
     "data": {
      "text/plain": [
       "['red', 'blue', 'green']"
      ]
     },
     "execution_count": 31,
     "metadata": {},
     "output_type": "execute_result"
    }
   ],
   "source": [
    "list3"
   ]
  },
  {
   "cell_type": "code",
   "execution_count": 32,
   "id": "976addb0",
   "metadata": {},
   "outputs": [],
   "source": [
    "# If i want to change any specific colour to another one we can do it so \n",
    "list3[2]='white'"
   ]
  },
  {
   "cell_type": "code",
   "execution_count": 33,
   "id": "d10ec414",
   "metadata": {},
   "outputs": [
    {
     "data": {
      "text/plain": [
       "['red', 'blue', 'white']"
      ]
     },
     "execution_count": 33,
     "metadata": {},
     "output_type": "execute_result"
    }
   ],
   "source": [
    "list3"
   ]
  },
  {
   "cell_type": "markdown",
   "id": "f4bc6d4b",
   "metadata": {},
   "source": [
    "In the square bracket you have to give the index"
   ]
  },
  {
   "cell_type": "markdown",
   "id": "967c3ae7",
   "metadata": {},
   "source": [
    " You can also perform mathametical operations with list"
   ]
  },
  {
   "cell_type": "code",
   "execution_count": 34,
   "id": "24f856a6",
   "metadata": {},
   "outputs": [
    {
     "data": {
      "text/plain": [
       "6"
      ]
     },
     "execution_count": 34,
     "metadata": {},
     "output_type": "execute_result"
    }
   ],
   "source": [
    "num[1]*num[2]"
   ]
  },
  {
   "cell_type": "code",
   "execution_count": 35,
   "id": "d913bba1",
   "metadata": {},
   "outputs": [],
   "source": [
    "# We can also store this in a variable here only "
   ]
  },
  {
   "cell_type": "markdown",
   "id": "7f59df1d",
   "metadata": {},
   "source": [
    " ## List comprehension"
   ]
  },
  {
   "cell_type": "code",
   "execution_count": 36,
   "id": "72d0c0d1",
   "metadata": {},
   "outputs": [
    {
     "data": {
      "text/plain": [
       "[1, 2, 3, 4, 5, 5, 6, 7, 8, 20]"
      ]
     },
     "execution_count": 36,
     "metadata": {},
     "output_type": "execute_result"
    }
   ],
   "source": [
    " num"
   ]
  },
  {
   "cell_type": "code",
   "execution_count": 37,
   "id": "f0288a94",
   "metadata": {},
   "outputs": [],
   "source": [
    "num[9]=9"
   ]
  },
  {
   "cell_type": "code",
   "execution_count": 38,
   "id": "35dc94c9",
   "metadata": {},
   "outputs": [
    {
     "data": {
      "text/plain": [
       "[1, 2, 3, 4, 5, 5, 6, 7, 8, 9]"
      ]
     },
     "execution_count": 38,
     "metadata": {},
     "output_type": "execute_result"
    }
   ],
   "source": [
    "num"
   ]
  },
  {
   "cell_type": "code",
   "execution_count": 39,
   "id": "2f98bacc",
   "metadata": {},
   "outputs": [],
   "source": [
    "list=[1, 2, 3, 4, 5, 5, 6, 7, 8, 9]"
   ]
  },
  {
   "cell_type": "code",
   "execution_count": 40,
   "id": "7ed046ab",
   "metadata": {},
   "outputs": [],
   "source": [
    "# In above we wrote these all manually but we can do it autamatically also"
   ]
  },
  {
   "cell_type": "code",
   "execution_count": 46,
   "id": "0984903e",
   "metadata": {},
   "outputs": [
    {
     "name": "stdout",
     "output_type": "stream",
     "text": [
      "0\n",
      "1\n",
      "2\n",
      "3\n",
      "4\n",
      "5\n",
      "6\n",
      "7\n",
      "8\n",
      "9\n"
     ]
    }
   ],
   "source": [
    "for i in range(10):\n",
    "     print(i)"
   ]
  },
  {
   "cell_type": "code",
   "execution_count": 41,
   "id": "7591d509",
   "metadata": {},
   "outputs": [],
   "source": [
    "list1=[i for i in range(10)]"
   ]
  },
  {
   "cell_type": "code",
   "execution_count": 42,
   "id": "178e52bd",
   "metadata": {},
   "outputs": [
    {
     "data": {
      "text/plain": [
       "[0, 1, 2, 3, 4, 5, 6, 7, 8, 9]"
      ]
     },
     "execution_count": 42,
     "metadata": {},
     "output_type": "execute_result"
    }
   ],
   "source": [
    "list1"
   ]
  },
  {
   "cell_type": "code",
   "execution_count": 43,
   "id": "2b901d44",
   "metadata": {},
   "outputs": [],
   "source": [
    "# If we have to print even number only\n",
    "list2=[i for i in range(10) if i%2==0]"
   ]
  },
  {
   "cell_type": "code",
   "execution_count": 44,
   "id": "3a0b0015",
   "metadata": {},
   "outputs": [
    {
     "data": {
      "text/plain": [
       "[0, 2, 4, 6, 8]"
      ]
     },
     "execution_count": 44,
     "metadata": {},
     "output_type": "execute_result"
    }
   ],
   "source": [
    "list2"
   ]
  },
  {
   "cell_type": "code",
   "execution_count": null,
   "id": "ba1ac51c",
   "metadata": {},
   "outputs": [],
   "source": [
    "  "
   ]
  }
 ],
 "metadata": {
  "kernelspec": {
   "display_name": "Python 3 (ipykernel)",
   "language": "python",
   "name": "python3"
  },
  "language_info": {
   "codemirror_mode": {
    "name": "ipython",
    "version": 3
   },
   "file_extension": ".py",
   "mimetype": "text/x-python",
   "name": "python",
   "nbconvert_exporter": "python",
   "pygments_lexer": "ipython3",
   "version": "3.11.7"
  }
 },
 "nbformat": 4,
 "nbformat_minor": 5
}
