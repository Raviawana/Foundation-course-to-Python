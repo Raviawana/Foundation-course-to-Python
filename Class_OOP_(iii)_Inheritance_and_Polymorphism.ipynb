{
  "nbformat": 4,
  "nbformat_minor": 0,
  "metadata": {
    "colab": {
      "provenance": []
    },
    "kernelspec": {
      "name": "python3",
      "display_name": "Python 3"
    },
    "language_info": {
      "name": "python"
    }
  },
  "cells": [
    {
      "cell_type": "markdown",
      "source": [
        "### Aggregation (Has a relationship)\n",
        "\n",
        "\n",
        "one class owns another class."
      ],
      "metadata": {
        "id": "zNDpgP5M1MHa"
      }
    },
    {
      "cell_type": "code",
      "source": [
        "class Customer:\n",
        "  def __init__(self,name,gender,address):\n",
        "    self.name = name\n",
        "    self.gender = gender\n",
        "    self.address = address\n",
        "\n",
        "# name and age has a single attribute but address has a multiple attribute\n",
        "class Address:\n",
        "  def __init__(self,city,pin,state):\n",
        "    self.city= city\n",
        "    self.pin= pin\n",
        "    self.state = state\n",
        "\n",
        "# before initalising address object initalise customer object\n",
        "cus= Customer(\"ravi\",\"male\")\n",
        "# but address can not be written like \"\"Rajasthan\",302021,\"jaipur\"\" so\n",
        "adds = Address(\"Rajasthan\",302021,\"jaipur\")\n",
        "cus= Customer(\"ravi\",\"male\", adds )    # Now i can simply paste this object \"adds\" here\n"
      ],
      "metadata": {
        "colab": {
          "base_uri": "https://localhost:8080/",
          "height": 211
        },
        "id": "GDhrPO7T1PBE",
        "outputId": "618df5e4-0726-4db8-bb8a-9f6055fce21a"
      },
      "execution_count": 10,
      "outputs": [
        {
          "output_type": "error",
          "ename": "TypeError",
          "evalue": "Customer.__init__() missing 1 required positional argument: 'address'",
          "traceback": [
            "\u001b[0;31m---------------------------------------------------------------------------\u001b[0m",
            "\u001b[0;31mTypeError\u001b[0m                                 Traceback (most recent call last)",
            "\u001b[0;32m<ipython-input-10-9de35dfa8555>\u001b[0m in \u001b[0;36m<cell line: 15>\u001b[0;34m()\u001b[0m\n\u001b[1;32m     13\u001b[0m \u001b[0;34m\u001b[0m\u001b[0m\n\u001b[1;32m     14\u001b[0m \u001b[0;31m# before initalising address object initalise customer object\u001b[0m\u001b[0;34m\u001b[0m\u001b[0;34m\u001b[0m\u001b[0m\n\u001b[0;32m---> 15\u001b[0;31m \u001b[0mcus\u001b[0m\u001b[0;34m=\u001b[0m \u001b[0mCustomer\u001b[0m\u001b[0;34m(\u001b[0m\u001b[0;34m\"ravi\"\u001b[0m\u001b[0;34m,\u001b[0m\u001b[0;34m\"male\"\u001b[0m\u001b[0;34m)\u001b[0m\u001b[0;34m\u001b[0m\u001b[0;34m\u001b[0m\u001b[0m\n\u001b[0m\u001b[1;32m     16\u001b[0m \u001b[0;31m# but address can not be written like \"\"Rajasthan\",302021,\"jaipur\"\" so\u001b[0m\u001b[0;34m\u001b[0m\u001b[0;34m\u001b[0m\u001b[0m\n\u001b[1;32m     17\u001b[0m \u001b[0madds\u001b[0m \u001b[0;34m=\u001b[0m \u001b[0mAddress\u001b[0m\u001b[0;34m(\u001b[0m\u001b[0;34m\"Rajasthan\"\u001b[0m\u001b[0;34m,\u001b[0m\u001b[0;36m302021\u001b[0m\u001b[0;34m,\u001b[0m\u001b[0;34m\"jaipur\"\u001b[0m\u001b[0;34m)\u001b[0m\u001b[0;34m\u001b[0m\u001b[0;34m\u001b[0m\u001b[0m\n",
            "\u001b[0;31mTypeError\u001b[0m: Customer.__init__() missing 1 required positional argument: 'address'"
          ]
        }
      ]
    },
    {
      "cell_type": "markdown",
      "source": [
        "This isn't working because it is incomplete yet. To get address in a smarter way let's create a method as print address."
      ],
      "metadata": {
        "id": "qLT0PJoQ7twj"
      }
    },
    {
      "cell_type": "code",
      "source": [
        "class Customer:\n",
        "  def __init__(self,name,gender,address):\n",
        "    self.name = name\n",
        "    self.gender = gender\n",
        "    self.address = address\n",
        "\n",
        "  def print_address(self):\n",
        "    print(self.address.city, self.address.pin, self.address.state )  #bcz address is a class object\n",
        "\n",
        "\n",
        "\n",
        "\n",
        "\n",
        "\n",
        "# name and age has a single attribute but address has a multiple attribute\n",
        "class Address:\n",
        "  def __init__(self,city,pin,state):\n",
        "    self.city= city\n",
        "    self.pin= pin\n",
        "    self.state = state\n",
        "\n",
        "\n",
        "# but address can not be written like \"\"Rajasthan\",302021,\"jaipur\"\" so\n",
        "adds = Address(\"Rajasthan\",302021,\"jaipur\")\n",
        "# before initalising address object initalise customer object\n",
        "print(adds.city)\n",
        "cus= Customer(\"ravi\",\"male\", adds )    # Now i can simply paste this object \"adds\" here\n",
        "# If i call print_address method here\n",
        "cus.print_address()"
      ],
      "metadata": {
        "colab": {
          "base_uri": "https://localhost:8080/"
        },
        "id": "VIZW0-rI7gmn",
        "outputId": "a173c599-3952-4934-8ac7-58c87843aeef"
      },
      "execution_count": 13,
      "outputs": [
        {
          "output_type": "stream",
          "name": "stdout",
          "text": [
            "Rajasthan\n",
            "Rajasthan 302021 jaipur\n"
          ]
        }
      ]
    },
    {
      "cell_type": "code",
      "source": [
        "cus.print_address()"
      ],
      "metadata": {
        "colab": {
          "base_uri": "https://localhost:8080/"
        },
        "id": "fQ2if2Xg9Af7",
        "outputId": "a2ee11ba-92ba-4b1c-db61-e2094d8b1ee8"
      },
      "execution_count": 14,
      "outputs": [
        {
          "output_type": "stream",
          "name": "stdout",
          "text": [
            "Rajasthan 302021 jaipur\n"
          ]
        }
      ]
    },
    {
      "cell_type": "markdown",
      "source": [
        "Can we see the relationship between two different classes.\n",
        "\n",
        "\n",
        "This is known as Aggregation.We have aggregrated two complex problem statement.\n",
        "\n",
        "\n",
        "Aggregation and Inheritance works with non private attributes and non private methods.\n"
      ],
      "metadata": {
        "id": "ZdNeEcKPEvH2"
      }
    },
    {
      "cell_type": "code",
      "source": [
        "#Aggregation and Inheritance works with non private attributes and non private methods.\n",
        "class Customer:\n",
        "  def __init__(self,name,gender,address):\n",
        "    self.name = name\n",
        "    self.gender = gender\n",
        "    self.address = address\n",
        "\n",
        "  def print_address(self):\n",
        "    # Making city a private method\n",
        "    print(self.address.__city, self.address.pin, self.address.state )\n",
        "\n",
        "\n",
        "\n",
        "\n",
        "\n",
        "\n",
        "\n",
        "class Address:\n",
        "  def __init__(self,city,pin,state):\n",
        "    self.city= city\n",
        "    self.pin= pin\n",
        "    self.state = state\n",
        "\n",
        "\n",
        "\n",
        "adds = Address(\"Rajasthan\",302021,\"jaipur\")\n",
        "\n",
        "print(adds.city)\n",
        "cus= Customer(\"ravi\",\"male\", adds )\n",
        "cus.print_address()"
      ],
      "metadata": {
        "colab": {
          "base_uri": "https://localhost:8080/",
          "height": 315
        },
        "id": "1CJmXV-O_rEu",
        "outputId": "9982b353-6952-42fc-a0b5-29c2ba1875fc"
      },
      "execution_count": 15,
      "outputs": [
        {
          "output_type": "stream",
          "name": "stdout",
          "text": [
            "Rajasthan\n"
          ]
        },
        {
          "output_type": "error",
          "ename": "AttributeError",
          "evalue": "'Address' object has no attribute '_Customer__city'",
          "traceback": [
            "\u001b[0;31m---------------------------------------------------------------------------\u001b[0m",
            "\u001b[0;31mAttributeError\u001b[0m                            Traceback (most recent call last)",
            "\u001b[0;32m<ipython-input-15-2aa2b546dcfd>\u001b[0m in \u001b[0;36m<cell line: 30>\u001b[0;34m()\u001b[0m\n\u001b[1;32m     28\u001b[0m \u001b[0mprint\u001b[0m\u001b[0;34m(\u001b[0m\u001b[0madds\u001b[0m\u001b[0;34m.\u001b[0m\u001b[0mcity\u001b[0m\u001b[0;34m)\u001b[0m\u001b[0;34m\u001b[0m\u001b[0;34m\u001b[0m\u001b[0m\n\u001b[1;32m     29\u001b[0m \u001b[0mcus\u001b[0m\u001b[0;34m=\u001b[0m \u001b[0mCustomer\u001b[0m\u001b[0;34m(\u001b[0m\u001b[0;34m\"ravi\"\u001b[0m\u001b[0;34m,\u001b[0m\u001b[0;34m\"male\"\u001b[0m\u001b[0;34m,\u001b[0m \u001b[0madds\u001b[0m \u001b[0;34m)\u001b[0m\u001b[0;34m\u001b[0m\u001b[0;34m\u001b[0m\u001b[0m\n\u001b[0;32m---> 30\u001b[0;31m \u001b[0mcus\u001b[0m\u001b[0;34m.\u001b[0m\u001b[0mprint_address\u001b[0m\u001b[0;34m(\u001b[0m\u001b[0;34m)\u001b[0m\u001b[0;34m\u001b[0m\u001b[0;34m\u001b[0m\u001b[0m\n\u001b[0m",
            "\u001b[0;32m<ipython-input-15-2aa2b546dcfd>\u001b[0m in \u001b[0;36mprint_address\u001b[0;34m(self)\u001b[0m\n\u001b[1;32m      8\u001b[0m   \u001b[0;32mdef\u001b[0m \u001b[0mprint_address\u001b[0m\u001b[0;34m(\u001b[0m\u001b[0mself\u001b[0m\u001b[0;34m)\u001b[0m\u001b[0;34m:\u001b[0m\u001b[0;34m\u001b[0m\u001b[0;34m\u001b[0m\u001b[0m\n\u001b[1;32m      9\u001b[0m     \u001b[0;31m# Making city a private method\u001b[0m\u001b[0;34m\u001b[0m\u001b[0;34m\u001b[0m\u001b[0m\n\u001b[0;32m---> 10\u001b[0;31m     \u001b[0mprint\u001b[0m\u001b[0;34m(\u001b[0m\u001b[0mself\u001b[0m\u001b[0;34m.\u001b[0m\u001b[0maddress\u001b[0m\u001b[0;34m.\u001b[0m\u001b[0m__city\u001b[0m\u001b[0;34m,\u001b[0m \u001b[0mself\u001b[0m\u001b[0;34m.\u001b[0m\u001b[0maddress\u001b[0m\u001b[0;34m.\u001b[0m\u001b[0mpin\u001b[0m\u001b[0;34m,\u001b[0m \u001b[0mself\u001b[0m\u001b[0;34m.\u001b[0m\u001b[0maddress\u001b[0m\u001b[0;34m.\u001b[0m\u001b[0mstate\u001b[0m \u001b[0;34m)\u001b[0m\u001b[0;34m\u001b[0m\u001b[0;34m\u001b[0m\u001b[0m\n\u001b[0m\u001b[1;32m     11\u001b[0m \u001b[0;34m\u001b[0m\u001b[0m\n\u001b[1;32m     12\u001b[0m \u001b[0;34m\u001b[0m\u001b[0m\n",
            "\u001b[0;31mAttributeError\u001b[0m: 'Address' object has no attribute '_Customer__city'"
          ]
        }
      ]
    },
    {
      "cell_type": "markdown",
      "source": [
        "To solve this with having private method we can use those gitter and sitter method that we studied yesterday"
      ],
      "metadata": {
        "id": "cFB-U6vJNfXI"
      }
    },
    {
      "cell_type": "code",
      "source": [
        "#Aggregation and Inheritance works with non private attributes and non private methods.\n",
        "class Customer:\n",
        "  def __init__(self,name,gender,address):\n",
        "    self.name = name\n",
        "    self.gender = gender\n",
        "    self.address = address\n",
        "\n",
        "  def print_address(self):\n",
        "    #Using getter method\n",
        "    print(self.address.get_city, self.address.pin, self.address.state )\n",
        "\n",
        "\n",
        "\n",
        "\n",
        "\n",
        "\n",
        "\n",
        "class Address:\n",
        "  def __init__(self,city,pin,state):\n",
        "    self.__city= city\n",
        "    self.pin= pin\n",
        "    self.state = state\n",
        "\n",
        "  def get_city(self):\n",
        "    return self.__city\n",
        "\n",
        "\n",
        "adds = Address(\"Rajasthan\",302021,\"jaipur\")\n",
        "\n",
        "\n",
        "cus= Customer(\"ravi\",\"male\", adds )\n",
        "cus.print_address()"
      ],
      "metadata": {
        "colab": {
          "base_uri": "https://localhost:8080/"
        },
        "id": "XdI7WGvtNd5e",
        "outputId": "375cff7f-4a5c-45a4-cdec-ef2cfba303db"
      },
      "execution_count": 18,
      "outputs": [
        {
          "output_type": "stream",
          "name": "stdout",
          "text": [
            "<bound method Address.get_city of <__main__.Address object at 0x7ecedd0d0700>> 302021 jaipur\n"
          ]
        }
      ]
    },
    {
      "cell_type": "markdown",
      "source": [
        "# Inheritance\n",
        "\n",
        "It also can only acess non private propertyand attributes."
      ],
      "metadata": {
        "id": "QsRVv0LcVEqx"
      }
    },
    {
      "cell_type": "code",
      "source": [
        "# Example is instructor portal and student portal\n",
        "# Parent\n",
        "class User:\n",
        "  def __init__(self):\n",
        "    self.name = \"Ravi\"\n",
        "    self.gender = \"male\"\n",
        "\n",
        "  def login(self):\n",
        "    print(\"Login Done!\")\n",
        "\n",
        "# Student should own the user bcz user is common to instructor class\n",
        "#Child\n",
        "class Student(User):         # bzc it is a Child so we do (User)\n",
        "  def __init__(self):\n",
        "    self.rollno = 100\n",
        "\n",
        "  def enroll(self):\n",
        "    print('Enrolled into the course')\n",
        "\n",
        "\n",
        "\n",
        "\n",
        "s = Student()\n",
        "s.login()\n",
        "s.enroll()"
      ],
      "metadata": {
        "colab": {
          "base_uri": "https://localhost:8080/"
        },
        "id": "Ayq9jnRrOaoO",
        "outputId": "93eb8865-0c5b-4132-b04c-fcff74f6f71c"
      },
      "execution_count": 24,
      "outputs": [
        {
          "output_type": "stream",
          "name": "stdout",
          "text": [
            "Login Done!\n",
            "Enrolled into the course\n"
          ]
        }
      ]
    },
    {
      "cell_type": "markdown",
      "source": [
        "Login was in student or user ?\n",
        "\n",
        "user, so we can still acess it inside student.\n",
        "\n",
        "\n",
        "But if i want to acess the attribute \"name\" then it will throw the error."
      ],
      "metadata": {
        "id": "5HfJjxkxbCDl"
      }
    },
    {
      "cell_type": "code",
      "source": [
        "class User:\n",
        "  def __init__(self):\n",
        "    self.name = \"Ravi\"\n",
        "    self.gender = \"male\"\n",
        "\n",
        "  def login(self):\n",
        "    print(\"Login Done!\")\n",
        "\n",
        "\n",
        "\n",
        "class Student(User):\n",
        "  def __init__(self):\n",
        "    self.rollno = 100\n",
        "\n",
        "  def enroll(self):\n",
        "    print('Enrolled into the course')\n",
        "\n",
        "\n",
        "\n",
        "\n",
        "s = Student()\n",
        "s.login()\n",
        "s.enroll()\n",
        "s.name"
      ],
      "metadata": {
        "colab": {
          "base_uri": "https://localhost:8080/",
          "height": 211
        },
        "id": "1SxozAQBZZ36",
        "outputId": "80207392-9f7d-416f-9fb7-9d39bd7d3cbd"
      },
      "execution_count": 25,
      "outputs": [
        {
          "output_type": "stream",
          "name": "stdout",
          "text": [
            "Login Done!\n",
            "Enrolled into the course\n"
          ]
        },
        {
          "output_type": "error",
          "ename": "AttributeError",
          "evalue": "'Student' object has no attribute 'name'",
          "traceback": [
            "\u001b[0;31m---------------------------------------------------------------------------\u001b[0m",
            "\u001b[0;31mAttributeError\u001b[0m                            Traceback (most recent call last)",
            "\u001b[0;32m<ipython-input-25-b60adcddc359>\u001b[0m in \u001b[0;36m<cell line: 24>\u001b[0;34m()\u001b[0m\n\u001b[1;32m     22\u001b[0m \u001b[0ms\u001b[0m\u001b[0;34m.\u001b[0m\u001b[0mlogin\u001b[0m\u001b[0;34m(\u001b[0m\u001b[0;34m)\u001b[0m\u001b[0;34m\u001b[0m\u001b[0;34m\u001b[0m\u001b[0m\n\u001b[1;32m     23\u001b[0m \u001b[0ms\u001b[0m\u001b[0;34m.\u001b[0m\u001b[0menroll\u001b[0m\u001b[0;34m(\u001b[0m\u001b[0;34m)\u001b[0m\u001b[0;34m\u001b[0m\u001b[0;34m\u001b[0m\u001b[0m\n\u001b[0;32m---> 24\u001b[0;31m \u001b[0ms\u001b[0m\u001b[0;34m.\u001b[0m\u001b[0mname\u001b[0m\u001b[0;34m\u001b[0m\u001b[0;34m\u001b[0m\u001b[0m\n\u001b[0m",
            "\u001b[0;31mAttributeError\u001b[0m: 'Student' object has no attribute 'name'"
          ]
        }
      ]
    },
    {
      "cell_type": "markdown",
      "source": [
        "WHY?\n",
        "\n",
        "i am able to acess the method but i can not able to acess attrubute despite it is a public one.\n",
        "\n",
        "\n",
        "ans= you have one parent class and you also have a child class\n",
        "\n",
        "and both have constractor then the child class can not able to acess the parent class constructor.\n",
        "\n",
        "\n",
        "whatever method present,that you can initilize not the property or attribute."
      ],
      "metadata": {
        "id": "Y0pRI-jGbqKX"
      }
    },
    {
      "cell_type": "code",
      "source": [
        "s.rollno"
      ],
      "metadata": {
        "colab": {
          "base_uri": "https://localhost:8080/"
        },
        "id": "ao_R0zZnbnFf",
        "outputId": "b4f75cdd-4d2a-4acb-afd8-5aa05a2a599e"
      },
      "execution_count": 27,
      "outputs": [
        {
          "output_type": "execute_result",
          "data": {
            "text/plain": [
              "100"
            ]
          },
          "metadata": {},
          "execution_count": 27
        }
      ]
    },
    {
      "cell_type": "code",
      "source": [
        "# Another example\n",
        "class Phone:\n",
        "  def __init__(self,price,brand,camera):\n",
        "    self.price = price\n",
        "    self.brand = brand\n",
        "    self.camera = camera\n",
        "\n",
        "\n",
        "  # creating a method\n",
        "  def buy(self):\n",
        "    print(\"Buying a phone\")\n",
        "\n",
        "\n",
        "class Smartphone(Phone):      # Constructor not available\n",
        "  pass\n",
        "\n",
        "s = Smartphone() # WIll it work= no"
      ],
      "metadata": {
        "colab": {
          "base_uri": "https://localhost:8080/",
          "height": 176
        },
        "id": "1Fidgjcmd9oi",
        "outputId": "7c256e02-cdd1-4f52-ebff-2e2f2d79e1a0"
      },
      "execution_count": 34,
      "outputs": [
        {
          "output_type": "error",
          "ename": "TypeError",
          "evalue": "Phone.__init__() missing 3 required positional arguments: 'price', 'brand', and 'camera'",
          "traceback": [
            "\u001b[0;31m---------------------------------------------------------------------------\u001b[0m",
            "\u001b[0;31mTypeError\u001b[0m                                 Traceback (most recent call last)",
            "\u001b[0;32m<ipython-input-34-57393f081aa8>\u001b[0m in \u001b[0;36m<cell line: 17>\u001b[0;34m()\u001b[0m\n\u001b[1;32m     15\u001b[0m   \u001b[0;32mpass\u001b[0m\u001b[0;34m\u001b[0m\u001b[0;34m\u001b[0m\u001b[0m\n\u001b[1;32m     16\u001b[0m \u001b[0;34m\u001b[0m\u001b[0m\n\u001b[0;32m---> 17\u001b[0;31m \u001b[0ms\u001b[0m \u001b[0;34m=\u001b[0m \u001b[0mSmartphone\u001b[0m\u001b[0;34m(\u001b[0m\u001b[0;34m)\u001b[0m \u001b[0;31m# WIll it work= no\u001b[0m\u001b[0;34m\u001b[0m\u001b[0;34m\u001b[0m\u001b[0m\n\u001b[0m",
            "\u001b[0;31mTypeError\u001b[0m: Phone.__init__() missing 3 required positional arguments: 'price', 'brand', and 'camera'"
          ]
        }
      ]
    },
    {
      "cell_type": "markdown",
      "source": [
        "= no try to recall the privious example in which i said if your child have constractor then it will not take from parent but\n",
        "\n",
        "in this example child class does not have constructor then it will take from parents,so parent class have 3 attributes"
      ],
      "metadata": {
        "id": "zVIL1HLXgvFD"
      }
    },
    {
      "cell_type": "code",
      "source": [
        "# To make it work\n",
        "# Another example\n",
        "class Phone:\n",
        "  def __init__(self,price,brand,camera):\n",
        "    self.price = price\n",
        "    self.brand = brand\n",
        "    self.camera = camera\n",
        "\n",
        "\n",
        "  # creating a method\n",
        "  def buy(self):\n",
        "    print(\"Buying a phone\")\n",
        "\n",
        "\n",
        "class Smartphone(Phone):\n",
        "  pass\n",
        "\n",
        "s = Smartphone(20000,\"apple\",34)"
      ],
      "metadata": {
        "id": "Zd_8t_aXgfCL"
      },
      "execution_count": 32,
      "outputs": []
    },
    {
      "cell_type": "code",
      "source": [
        "s.buy()"
      ],
      "metadata": {
        "colab": {
          "base_uri": "https://localhost:8080/"
        },
        "id": "FQk9h6nvhicz",
        "outputId": "b057df90-179a-4290-8a76-704b39fb0783"
      },
      "execution_count": 33,
      "outputs": [
        {
          "output_type": "stream",
          "name": "stdout",
          "text": [
            "Buying a phone\n"
          ]
        }
      ]
    },
    {
      "cell_type": "code",
      "source": [
        "# new\n",
        "# To make it work\n",
        "# Another example\n",
        "class Phone:\n",
        "  def __init__(self,price,brand,camera):\n",
        "    self.price = price\n",
        "    self.brand = brand\n",
        "    self.camera = camera\n",
        "\n",
        "\n",
        "  # creating a method\n",
        "  def buy(self):\n",
        "    print(\"Buying a phone\")\n",
        "\n",
        "\n",
        "class Smartphone(Phone):\n",
        "  def __init__(self,os,ram):\n",
        "    self.os=os\n",
        "    self.ram=ram\n",
        "    print(\"Inside smartphone constructor\")\n",
        "\n",
        "s = Smartphone()"
      ],
      "metadata": {
        "colab": {
          "base_uri": "https://localhost:8080/",
          "height": 176
        },
        "id": "kPcsyjIJhqDy",
        "outputId": "96f23490-16eb-486c-b01d-532bc70a9f7b"
      },
      "execution_count": 35,
      "outputs": [
        {
          "output_type": "error",
          "ename": "TypeError",
          "evalue": "Smartphone.__init__() missing 2 required positional arguments: 'os' and 'ram'",
          "traceback": [
            "\u001b[0;31m---------------------------------------------------------------------------\u001b[0m",
            "\u001b[0;31mTypeError\u001b[0m                                 Traceback (most recent call last)",
            "\u001b[0;32m<ipython-input-35-9040a417d9d0>\u001b[0m in \u001b[0;36m<cell line: 22>\u001b[0;34m()\u001b[0m\n\u001b[1;32m     20\u001b[0m     \u001b[0mprint\u001b[0m\u001b[0;34m(\u001b[0m\u001b[0;34m\"Inside smartphone constructor\"\u001b[0m\u001b[0;34m)\u001b[0m\u001b[0;34m\u001b[0m\u001b[0;34m\u001b[0m\u001b[0m\n\u001b[1;32m     21\u001b[0m \u001b[0;34m\u001b[0m\u001b[0m\n\u001b[0;32m---> 22\u001b[0;31m \u001b[0ms\u001b[0m \u001b[0;34m=\u001b[0m \u001b[0mSmartphone\u001b[0m\u001b[0;34m(\u001b[0m\u001b[0;34m)\u001b[0m\u001b[0;34m\u001b[0m\u001b[0;34m\u001b[0m\u001b[0m\n\u001b[0m",
            "\u001b[0;31mTypeError\u001b[0m: Smartphone.__init__() missing 2 required positional arguments: 'os' and 'ram'"
          ]
        }
      ]
    },
    {
      "cell_type": "markdown",
      "source": [
        "Previously it was telling 3 were missing but now two are missing\n",
        "\n",
        "\n",
        "because now child class have it's constructor"
      ],
      "metadata": {
        "id": "rsWcyjJOi23M"
      }
    },
    {
      "cell_type": "code",
      "source": [
        "# new\n",
        "# To make it work\n",
        "# Another example\n",
        "class Phone:\n",
        "  def __init__(self,price,brand,camera):\n",
        "    self.price = price\n",
        "    self.brand = brand\n",
        "    self.camera = camera\n",
        "\n",
        "\n",
        "  # creating a method\n",
        "  def buy(self):\n",
        "    print(\"Buying a phone\")\n",
        "\n",
        "\n",
        "class Smartphone(Phone):\n",
        "  def __init__(self,os,ram):\n",
        "    self.os=os\n",
        "    self.ram=ram\n",
        "    print(\"Inside smartphone constructor\")\n",
        "\n",
        "s = Smartphone(\"Android\",9)"
      ],
      "metadata": {
        "colab": {
          "base_uri": "https://localhost:8080/"
        },
        "id": "w8KKaw_eizMX",
        "outputId": "09d21c40-4680-401b-aba8-3475ad12d07c"
      },
      "execution_count": 36,
      "outputs": [
        {
          "output_type": "stream",
          "name": "stdout",
          "text": [
            "Inside smartphone constructor\n"
          ]
        }
      ]
    },
    {
      "cell_type": "code",
      "source": [
        "class Phone:\n",
        "  def __init__(self, price, brand, camera):\n",
        "    print(\"Inside Phone constructor\")\n",
        "    self.__price = price\n",
        "    self.brand = brand\n",
        "    self.camera = camera\n",
        "\n",
        "\n",
        "  def buy(self):\n",
        "    print(\"Buying a Phone\")\n",
        "\n",
        "\n",
        "  def get_price(self):                # Using getter\n",
        "    return self.__price\n",
        "\n",
        "\n",
        "class SmartPhone(Phone):\n",
        "  def check(self):\n",
        "    print(self.get_price())\n",
        "\n",
        "\n",
        "S  = SmartPhone(200000, \"apple\", 3)\n",
        "S.check()"
      ],
      "metadata": {
        "colab": {
          "base_uri": "https://localhost:8080/"
        },
        "id": "AMBZXcyCjZQf",
        "outputId": "e8fbcce4-9aaa-4bf6-a12b-60bcc3c7b351"
      },
      "execution_count": 40,
      "outputs": [
        {
          "output_type": "stream",
          "name": "stdout",
          "text": [
            "Inside Phone constructor\n",
            "200000\n"
          ]
        }
      ]
    },
    {
      "cell_type": "code",
      "source": [
        "class Parent:\n",
        "\n",
        "    def __init__(self,num):\n",
        "        self.__num=num\n",
        "\n",
        "    def get_num(self):\n",
        "        return self.__num\n",
        "\n",
        "class Child(Parent):\n",
        "\n",
        "    def show(self):\n",
        "        print(\"This is in child class\")\n",
        "\n",
        "son=Child(100)\n",
        "print(son.get_num())\n",
        "son.show()"
      ],
      "metadata": {
        "colab": {
          "base_uri": "https://localhost:8080/"
        },
        "id": "O_jwimOelCz1",
        "outputId": "f850e643-0bb4-4f84-fd8e-04583c744364"
      },
      "execution_count": 38,
      "outputs": [
        {
          "output_type": "stream",
          "name": "stdout",
          "text": [
            "100\n",
            "This is in child class\n"
          ]
        }
      ]
    },
    {
      "cell_type": "code",
      "source": [
        "class Parent:\n",
        "\n",
        "    def __init__(self,num):\n",
        "        self.__num=num\n",
        "\n",
        "    def get_num(self):\n",
        "        return self.__num\n",
        "\n",
        "class Child(Parent):\n",
        "\n",
        "    def __init__(self,val,num):\n",
        "        self.__val=val\n",
        "\n",
        "    def get_val(self):\n",
        "        return self.__val\n",
        "\n",
        "son=Child(100,10)\n",
        "print(\"Parent: Num:\",son.get_num())\n",
        "print(\"Child: Val:\",son.get_val())"
      ],
      "metadata": {
        "colab": {
          "base_uri": "https://localhost:8080/",
          "height": 315
        },
        "id": "b5vF7YvDlJJE",
        "outputId": "655c9d63-3b41-4889-ed9e-47ec80ffbc4c"
      },
      "execution_count": 39,
      "outputs": [
        {
          "output_type": "error",
          "ename": "AttributeError",
          "evalue": "'Child' object has no attribute '_Parent__num'",
          "traceback": [
            "\u001b[0;31m---------------------------------------------------------------------------\u001b[0m",
            "\u001b[0;31mAttributeError\u001b[0m                            Traceback (most recent call last)",
            "\u001b[0;32m<ipython-input-39-0df4da45adb0>\u001b[0m in \u001b[0;36m<cell line: 18>\u001b[0;34m()\u001b[0m\n\u001b[1;32m     16\u001b[0m \u001b[0;34m\u001b[0m\u001b[0m\n\u001b[1;32m     17\u001b[0m \u001b[0mson\u001b[0m\u001b[0;34m=\u001b[0m\u001b[0mChild\u001b[0m\u001b[0;34m(\u001b[0m\u001b[0;36m100\u001b[0m\u001b[0;34m,\u001b[0m\u001b[0;36m10\u001b[0m\u001b[0;34m)\u001b[0m\u001b[0;34m\u001b[0m\u001b[0;34m\u001b[0m\u001b[0m\n\u001b[0;32m---> 18\u001b[0;31m \u001b[0mprint\u001b[0m\u001b[0;34m(\u001b[0m\u001b[0;34m\"Parent: Num:\"\u001b[0m\u001b[0;34m,\u001b[0m\u001b[0mson\u001b[0m\u001b[0;34m.\u001b[0m\u001b[0mget_num\u001b[0m\u001b[0;34m(\u001b[0m\u001b[0;34m)\u001b[0m\u001b[0;34m)\u001b[0m\u001b[0;34m\u001b[0m\u001b[0;34m\u001b[0m\u001b[0m\n\u001b[0m\u001b[1;32m     19\u001b[0m \u001b[0mprint\u001b[0m\u001b[0;34m(\u001b[0m\u001b[0;34m\"Child: Val:\"\u001b[0m\u001b[0;34m,\u001b[0m\u001b[0mson\u001b[0m\u001b[0;34m.\u001b[0m\u001b[0mget_val\u001b[0m\u001b[0;34m(\u001b[0m\u001b[0;34m)\u001b[0m\u001b[0;34m)\u001b[0m\u001b[0;34m\u001b[0m\u001b[0;34m\u001b[0m\u001b[0m\n",
            "\u001b[0;32m<ipython-input-39-0df4da45adb0>\u001b[0m in \u001b[0;36mget_num\u001b[0;34m(self)\u001b[0m\n\u001b[1;32m      5\u001b[0m \u001b[0;34m\u001b[0m\u001b[0m\n\u001b[1;32m      6\u001b[0m     \u001b[0;32mdef\u001b[0m \u001b[0mget_num\u001b[0m\u001b[0;34m(\u001b[0m\u001b[0mself\u001b[0m\u001b[0;34m)\u001b[0m\u001b[0;34m:\u001b[0m\u001b[0;34m\u001b[0m\u001b[0;34m\u001b[0m\u001b[0m\n\u001b[0;32m----> 7\u001b[0;31m         \u001b[0;32mreturn\u001b[0m \u001b[0mself\u001b[0m\u001b[0;34m.\u001b[0m\u001b[0m__num\u001b[0m\u001b[0;34m\u001b[0m\u001b[0;34m\u001b[0m\u001b[0m\n\u001b[0m\u001b[1;32m      8\u001b[0m \u001b[0;34m\u001b[0m\u001b[0m\n\u001b[1;32m      9\u001b[0m \u001b[0;32mclass\u001b[0m \u001b[0mChild\u001b[0m\u001b[0;34m(\u001b[0m\u001b[0mParent\u001b[0m\u001b[0;34m)\u001b[0m\u001b[0;34m:\u001b[0m\u001b[0;34m\u001b[0m\u001b[0;34m\u001b[0m\u001b[0m\n",
            "\u001b[0;31mAttributeError\u001b[0m: 'Child' object has no attribute '_Parent__num'"
          ]
        }
      ]
    },
    {
      "cell_type": "code",
      "source": [],
      "metadata": {
        "id": "G8NuFG87lMeG"
      },
      "execution_count": null,
      "outputs": []
    }
  ]
}