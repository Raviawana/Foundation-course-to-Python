{
 "cells": [
  {
   "cell_type": "markdown",
   "id": "7bda9883",
   "metadata": {},
   "source": [
    "Python is often referred to as both a compiler and an interpreter language because of the way it is executed. \n",
    "\n",
    "Python code is first compiled into an intermediate bytecode by the Python interpreter. This bytecode is then executed by the Python Virtual Machine (PVM). This process of compiling the code into bytecode and then interpreting it is what makes Python a compiler and interpreter language.\n",
    "\n",
    "The Python interpreter can also execute code directly without compiling it first, which is why it is also considered an interpreter language. This flexibility allows for dynamic execution of code and makes Python a versatile and powerful language for a wide range of applications."
   ]
  },
  {
   "cell_type": "markdown",
   "id": "819b9957",
   "metadata": {},
   "source": [
    "# Numeric data types in python\n",
    "\n",
    "\n",
    "In Python, there are several numeric data types that can be used to represent numbers. Some of the common numeric data types in Python include:\n",
    "\n",
    "1. int: This data type is used to represent integer numbers, which are whole numbers without any decimal point"
   ]
  },
  {
   "cell_type": "code",
   "execution_count": 1,
   "id": "1cb5043e",
   "metadata": {},
   "outputs": [],
   "source": [
    "a=233"
   ]
  },
  {
   "cell_type": "code",
   "execution_count": 2,
   "id": "b8a858ee",
   "metadata": {},
   "outputs": [
    {
     "data": {
      "text/plain": [
       "int"
      ]
     },
     "execution_count": 2,
     "metadata": {},
     "output_type": "execute_result"
    }
   ],
   "source": [
    "type(a)"
   ]
  },
  {
   "cell_type": "code",
   "execution_count": 3,
   "id": "af6cc659",
   "metadata": {},
   "outputs": [],
   "source": [
    "b=0"
   ]
  },
  {
   "cell_type": "code",
   "execution_count": 4,
   "id": "60aab713",
   "metadata": {},
   "outputs": [
    {
     "data": {
      "text/plain": [
       "int"
      ]
     },
     "execution_count": 4,
     "metadata": {},
     "output_type": "execute_result"
    }
   ],
   "source": [
    "type(b)"
   ]
  },
  {
   "cell_type": "markdown",
   "id": "87ef6cd3",
   "metadata": {},
   "source": [
    "2. float: This data type is used to represent floating-point numbers, which are numbers with a decimal point."
   ]
  },
  {
   "cell_type": "code",
   "execution_count": 5,
   "id": "79505198",
   "metadata": {},
   "outputs": [],
   "source": [
    "c=0.89"
   ]
  },
  {
   "cell_type": "code",
   "execution_count": 6,
   "id": "03486823",
   "metadata": {},
   "outputs": [
    {
     "data": {
      "text/plain": [
       "float"
      ]
     },
     "execution_count": 6,
     "metadata": {},
     "output_type": "execute_result"
    }
   ],
   "source": [
    "type(c)"
   ]
  },
  {
   "cell_type": "markdown",
   "id": "7f920ff7",
   "metadata": {},
   "source": [
    "3. complex: This data type is used to represent complex numbers, which have a real and imaginary part.\n"
   ]
  },
  {
   "cell_type": "code",
   "execution_count": 7,
   "id": "296a709a",
   "metadata": {},
   "outputs": [],
   "source": [
    "d=3+5j"
   ]
  },
  {
   "cell_type": "code",
   "execution_count": 8,
   "id": "0ed5fc57",
   "metadata": {},
   "outputs": [
    {
     "data": {
      "text/plain": [
       "complex"
      ]
     },
     "execution_count": 8,
     "metadata": {},
     "output_type": "execute_result"
    }
   ],
   "source": [
    "type(d)"
   ]
  },
  {
   "cell_type": "markdown",
   "id": "b93ed6a4",
   "metadata": {},
   "source": [
    "4. bool: This data type is used to represent boolean values, which can be either True or False."
   ]
  },
  {
   "cell_type": "code",
   "execution_count": 9,
   "id": "502fe589",
   "metadata": {},
   "outputs": [],
   "source": [
    "bool1=True"
   ]
  },
  {
   "cell_type": "code",
   "execution_count": 11,
   "id": "fa8ecc77",
   "metadata": {},
   "outputs": [
    {
     "data": {
      "text/plain": [
       "False"
      ]
     },
     "execution_count": 11,
     "metadata": {},
     "output_type": "execute_result"
    }
   ],
   "source": [
    "a=5\n",
    "b=8\n",
    "a>b"
   ]
  },
  {
   "cell_type": "code",
   "execution_count": 12,
   "id": "83c7c18c",
   "metadata": {},
   "outputs": [
    {
     "data": {
      "text/plain": [
       "2"
      ]
     },
     "execution_count": 12,
     "metadata": {},
     "output_type": "execute_result"
    }
   ],
   "source": [
    "# Internally python stores True as 1 and false as 0\n",
    "a= True\n",
    "b= True\n",
    "a+b"
   ]
  },
  {
   "cell_type": "markdown",
   "id": "bffebaef",
   "metadata": {},
   "source": [
    "It will be used in conditional sentences"
   ]
  },
  {
   "cell_type": "markdown",
   "id": "c2ae471c",
   "metadata": {},
   "source": [
    "5. Strings-A “string” is a data type in Python, composed of a collection of characters. It can include letters, numbers, and even special characters. For example: “ravigurjarrrr”, \n",
    "\n",
    "\n",
    "\"immutable\" which means they cannot be changed after they are created \n",
    "\n",
    "In python you can use single qote as well as double qote"
   ]
  },
  {
   "cell_type": "code",
   "execution_count": 14,
   "id": "1d5f2fde",
   "metadata": {},
   "outputs": [],
   "source": [
    "s='ravindrA'"
   ]
  },
  {
   "cell_type": "code",
   "execution_count": 15,
   "id": "f7324dd8",
   "metadata": {},
   "outputs": [
    {
     "data": {
      "text/plain": [
       "str"
      ]
     },
     "execution_count": 15,
     "metadata": {},
     "output_type": "execute_result"
    }
   ],
   "source": [
    "type(s)"
   ]
  },
  {
   "cell_type": "code",
   "execution_count": 16,
   "id": "79d9efe4",
   "metadata": {},
   "outputs": [
    {
     "data": {
      "text/plain": [
       "str"
      ]
     },
     "execution_count": 16,
     "metadata": {},
     "output_type": "execute_result"
    }
   ],
   "source": [
    "s1='m'\n",
    "type(s1)    # In java it will be char but in python char does not exist"
   ]
  },
  {
   "cell_type": "code",
   "execution_count": 17,
   "id": "aa27ec09",
   "metadata": {},
   "outputs": [
    {
     "data": {
      "text/plain": [
       "False"
      ]
     },
     "execution_count": 17,
     "metadata": {},
     "output_type": "execute_result"
    }
   ],
   "source": [
    "s2='0'    # It is character zero \n",
    "s3=0      # It's value is zero they both are not same\n",
    "s3==s2\n"
   ]
  },
  {
   "cell_type": "markdown",
   "id": "6be89042",
   "metadata": {},
   "source": [
    "For integer we can store directly after binary conversion but for STRING we first have to convert to ASCII and then store it's binary conversion "
   ]
  },
  {
   "cell_type": "markdown",
   "id": "31aa1005",
   "metadata": {},
   "source": [
    "# Unicode way of storing values"
   ]
  },
  {
   "cell_type": "code",
   "execution_count": 19,
   "id": "abcd6087",
   "metadata": {},
   "outputs": [
    {
     "data": {
      "text/plain": [
       "48"
      ]
     },
     "execution_count": 19,
     "metadata": {},
     "output_type": "execute_result"
    }
   ],
   "source": [
    "ord('0')"
   ]
  },
  {
   "cell_type": "code",
   "execution_count": 20,
   "id": "63f56576",
   "metadata": {},
   "outputs": [
    {
     "data": {
      "text/plain": [
       "65"
      ]
     },
     "execution_count": 20,
     "metadata": {},
     "output_type": "execute_result"
    }
   ],
   "source": [
    "ord('A')"
   ]
  },
  {
   "cell_type": "code",
   "execution_count": 22,
   "id": "8bfe630b",
   "metadata": {},
   "outputs": [
    {
     "data": {
      "text/plain": [
       "42"
      ]
     },
     "execution_count": 22,
     "metadata": {},
     "output_type": "execute_result"
    }
   ],
   "source": [
    "ord('*')"
   ]
  },
  {
   "cell_type": "code",
   "execution_count": 23,
   "id": "88ccf2b6",
   "metadata": {},
   "outputs": [
    {
     "ename": "TypeError",
     "evalue": "ord() expected a character, but string of length 2 found",
     "output_type": "error",
     "traceback": [
      "\u001b[0;31m---------------------------------------------------------------------------\u001b[0m",
      "\u001b[0;31mTypeError\u001b[0m                                 Traceback (most recent call last)",
      "Cell \u001b[0;32mIn[23], line 1\u001b[0m\n\u001b[0;32m----> 1\u001b[0m \u001b[38;5;28mord\u001b[39m(\u001b[38;5;124m'\u001b[39m\u001b[38;5;124mma\u001b[39m\u001b[38;5;124m'\u001b[39m)\n",
      "\u001b[0;31mTypeError\u001b[0m: ord() expected a character, but string of length 2 found"
     ]
    }
   ],
   "source": [
    "ord('ma')"
   ]
  },
  {
   "cell_type": "code",
   "execution_count": 24,
   "id": "9425690d",
   "metadata": {},
   "outputs": [],
   "source": [
    " # Give python code to save the below strings into variables"
   ]
  },
  {
   "cell_type": "markdown",
   "id": "92684ec6",
   "metadata": {},
   "source": [
    "Mayank's code \n",
    "let us 'code'\n",
    "Let's \"code\"\n"
   ]
  },
  {
   "cell_type": "code",
   "execution_count": 30,
   "id": "3f104c82",
   "metadata": {},
   "outputs": [
    {
     "ename": "SyntaxError",
     "evalue": "unterminated string literal (detected at line 1) (77277809.py, line 1)",
     "output_type": "error",
     "traceback": [
      "\u001b[0;36m  Cell \u001b[0;32mIn[30], line 1\u001b[0;36m\u001b[0m\n\u001b[0;31m    str1=Mayank's code\u001b[0m\n\u001b[0m               ^\u001b[0m\n\u001b[0;31mSyntaxError\u001b[0m\u001b[0;31m:\u001b[0m unterminated string literal (detected at line 1)\n"
     ]
    }
   ],
   "source": [
    "\n",
    " \n"
   ]
  },
  {
   "cell_type": "code",
   "execution_count": 31,
   "id": "a9074eaf",
   "metadata": {},
   "outputs": [],
   "source": [
    "str1=\"Mayank's code\""
   ]
  },
  {
   "cell_type": "code",
   "execution_count": 34,
   "id": "6cad012c",
   "metadata": {},
   "outputs": [],
   "source": [
    "str2=\"let us 'code'\""
   ]
  },
  {
   "cell_type": "code",
   "execution_count": 38,
   "id": "fbdaea75",
   "metadata": {},
   "outputs": [
    {
     "ename": "SyntaxError",
     "evalue": "unterminated string literal (detected at line 1) (3736197341.py, line 1)",
     "output_type": "error",
     "traceback": [
      "\u001b[0;36m  Cell \u001b[0;32mIn[38], line 1\u001b[0;36m\u001b[0m\n\u001b[0;31m    str3=\" Let's \"code\"\u001b[0m\n\u001b[0m                      ^\u001b[0m\n\u001b[0;31mSyntaxError\u001b[0m\u001b[0;31m:\u001b[0m unterminated string literal (detected at line 1)\n"
     ]
    }
   ],
   "source": [
    "str3=\" Let's \"code\" "
   ]
  },
  {
   "cell_type": "code",
   "execution_count": 39,
   "id": "288ba026",
   "metadata": {},
   "outputs": [],
   "source": [
    "str3=str1+str2"
   ]
  },
  {
   "cell_type": "code",
   "execution_count": 40,
   "id": "8a259ff3",
   "metadata": {},
   "outputs": [
    {
     "data": {
      "text/plain": [
       "\"Mayank's codelet us 'code'\""
      ]
     },
     "execution_count": 40,
     "metadata": {},
     "output_type": "execute_result"
    }
   ],
   "source": [
    "str3"
   ]
  },
  {
   "cell_type": "markdown",
   "id": "03e1d1b4",
   "metadata": {},
   "source": [
    "# Multi Line String"
   ]
  },
  {
   "cell_type": "code",
   "execution_count": 41,
   "id": "24e2da27",
   "metadata": {},
   "outputs": [
    {
     "ename": "SyntaxError",
     "evalue": "unterminated string literal (detected at line 1) (1888683979.py, line 1)",
     "output_type": "error",
     "traceback": [
      "\u001b[0;36m  Cell \u001b[0;32mIn[41], line 1\u001b[0;36m\u001b[0m\n\u001b[0;31m    MutilineString = \" line 1\u001b[0m\n\u001b[0m                     ^\u001b[0m\n\u001b[0;31mSyntaxError\u001b[0m\u001b[0;31m:\u001b[0m unterminated string literal (detected at line 1)\n"
     ]
    }
   ],
   "source": [
    "MutilineString = \" line 1\n",
    "Line 2\n",
    "Line 3\""
   ]
  },
  {
   "cell_type": "code",
   "execution_count": 43,
   "id": "977ad89f",
   "metadata": {},
   "outputs": [
    {
     "ename": "SyntaxError",
     "evalue": "unterminated string literal (detected at line 3) (3187848453.py, line 3)",
     "output_type": "error",
     "traceback": [
      "\u001b[0;36m  Cell \u001b[0;32mIn[43], line 3\u001b[0;36m\u001b[0m\n\u001b[0;31m    Line 3'\u001b[0m\n\u001b[0m          ^\u001b[0m\n\u001b[0;31mSyntaxError\u001b[0m\u001b[0;31m:\u001b[0m unterminated string literal (detected at line 3)\n"
     ]
    }
   ],
   "source": [
    "MutiLineString = Line 1\n",
    "Line 2\n",
    "Line 3'"
   ]
  },
  {
   "cell_type": "code",
   "execution_count": 44,
   "id": "25f9b288",
   "metadata": {},
   "outputs": [],
   "source": [
    "# For multi line string we can use triple qote \"\"\"\n",
    "MutiLineString ='''Line 1\n",
    "Line 2\n",
    "Line 3'''"
   ]
  },
  {
   "cell_type": "code",
   "execution_count": 45,
   "id": "eee87184",
   "metadata": {},
   "outputs": [
    {
     "data": {
      "text/plain": [
       "'Line 1\\nLine 2\\nLine 3'"
      ]
     },
     "execution_count": 45,
     "metadata": {},
     "output_type": "execute_result"
    }
   ],
   "source": [
    "MutiLineString"
   ]
  },
  {
   "cell_type": "code",
   "execution_count": 46,
   "id": "70a2db24",
   "metadata": {},
   "outputs": [],
   "source": [
    "str4='''Let's \"code\"'''"
   ]
  },
  {
   "cell_type": "code",
   "execution_count": 52,
   "id": "d9976c88",
   "metadata": {},
   "outputs": [],
   "source": [
    " # / it is a helper that is used to ignore next hurdle\n",
    "\n",
    "    \n",
    "str6= 'let\\'s \"code\"'  # Do not use / insted of \\"
   ]
  },
  {
   "cell_type": "code",
   "execution_count": 53,
   "id": "8e926cc1",
   "metadata": {},
   "outputs": [],
   "source": [
    "str7=\"let\\abc\""
   ]
  },
  {
   "cell_type": "code",
   "execution_count": 54,
   "id": "b0687654",
   "metadata": {},
   "outputs": [
    {
     "data": {
      "text/plain": [
       "'let\\x07bc'"
      ]
     },
     "execution_count": 54,
     "metadata": {},
     "output_type": "execute_result"
    }
   ],
   "source": [
    "str7"
   ]
  },
  {
   "cell_type": "code",
   "execution_count": 55,
   "id": "26b9b27a",
   "metadata": {},
   "outputs": [
    {
     "name": "stdout",
     "output_type": "stream",
     "text": [
      "let\u0007bc\n"
     ]
    }
   ],
   "source": [
    "print(str7)"
   ]
  },
  {
   "cell_type": "markdown",
   "id": "1a0352f6",
   "metadata": {},
   "source": [
    "# Indexing\n",
    "\n",
    "*Can and how we can acess single character from our string* "
   ]
  },
  {
   "cell_type": "code",
   "execution_count": 56,
   "id": "cbd50ddc",
   "metadata": {},
   "outputs": [],
   "source": [
    "mystr='python'"
   ]
  },
  {
   "cell_type": "code",
   "execution_count": 58,
   "id": "b44f09c1",
   "metadata": {},
   "outputs": [
    {
     "data": {
      "text/plain": [
       "'p'"
      ]
     },
     "execution_count": 58,
     "metadata": {},
     "output_type": "execute_result"
    }
   ],
   "source": [
    "mystr[0]"
   ]
  },
  {
   "cell_type": "code",
   "execution_count": 59,
   "id": "1de447a6",
   "metadata": {},
   "outputs": [],
   "source": [
    " a='HELLO WORLD'"
   ]
  },
  {
   "cell_type": "code",
   "execution_count": 61,
   "id": "816036f4",
   "metadata": {},
   "outputs": [
    {
     "data": {
      "text/plain": [
       "'O'"
      ]
     },
     "execution_count": 61,
     "metadata": {},
     "output_type": "execute_result"
    }
   ],
   "source": [
    "a[4]"
   ]
  },
  {
   "cell_type": "code",
   "execution_count": 62,
   "id": "a2a0218a",
   "metadata": {},
   "outputs": [
    {
     "data": {
      "text/plain": [
       "' '"
      ]
     },
     "execution_count": 62,
     "metadata": {},
     "output_type": "execute_result"
    }
   ],
   "source": [
    "a[5]"
   ]
  },
  {
   "cell_type": "markdown",
   "id": "3aef4792",
   "metadata": {},
   "source": [
    "# Negative indexing"
   ]
  },
  {
   "cell_type": "code",
   "execution_count": 63,
   "id": "563d63a4",
   "metadata": {},
   "outputs": [
    {
     "data": {
      "text/plain": [
       "'D'"
      ]
     },
     "execution_count": 63,
     "metadata": {},
     "output_type": "execute_result"
    }
   ],
   "source": [
    "a[-1]"
   ]
  },
  {
   "cell_type": "code",
   "execution_count": 64,
   "id": "10fde305",
   "metadata": {},
   "outputs": [
    {
     "data": {
      "text/plain": [
       "'O'"
      ]
     },
     "execution_count": 64,
     "metadata": {},
     "output_type": "execute_result"
    }
   ],
   "source": [
    "a[-4]"
   ]
  },
  {
   "cell_type": "code",
   "execution_count": 65,
   "id": "332e3c01",
   "metadata": {},
   "outputs": [],
   "source": [
    "# Positive indexing starts from '0' but negative indexing starts from -1"
   ]
  },
  {
   "cell_type": "code",
   "execution_count": 66,
   "id": "d9f00bc6",
   "metadata": {},
   "outputs": [
    {
     "data": {
      "text/plain": [
       "'L'"
      ]
     },
     "execution_count": 66,
     "metadata": {},
     "output_type": "execute_result"
    }
   ],
   "source": [
    "a[-9]"
   ]
  },
  {
   "cell_type": "code",
   "execution_count": 67,
   "id": "24d16437",
   "metadata": {},
   "outputs": [
    {
     "ename": "IndexError",
     "evalue": "string index out of range",
     "output_type": "error",
     "traceback": [
      "\u001b[0;31m---------------------------------------------------------------------------\u001b[0m",
      "\u001b[0;31mIndexError\u001b[0m                                Traceback (most recent call last)",
      "Cell \u001b[0;32mIn[67], line 1\u001b[0m\n\u001b[0;32m----> 1\u001b[0m a[\u001b[38;5;241m-\u001b[39m\u001b[38;5;241m15\u001b[39m]\n",
      "\u001b[0;31mIndexError\u001b[0m: string index out of range"
     ]
    }
   ],
   "source": [
    "a[-15]"
   ]
  },
  {
   "cell_type": "code",
   "execution_count": 68,
   "id": "c0060f80",
   "metadata": {},
   "outputs": [],
   "source": [
    "# 'len' function is used for determining length"
   ]
  },
  {
   "cell_type": "code",
   "execution_count": 70,
   "id": "b43bf8f1",
   "metadata": {},
   "outputs": [
    {
     "data": {
      "text/plain": [
       "11"
      ]
     },
     "execution_count": 70,
     "metadata": {},
     "output_type": "execute_result"
    }
   ],
   "source": [
    "len(a)"
   ]
  },
  {
   "cell_type": "markdown",
   "id": "7224da27",
   "metadata": {},
   "source": [
    "Why we have the concept of negati ve indexing ?\n",
    "\n",
    "Because if you are writing a long code than you could need the backword counting "
   ]
  },
  {
   "cell_type": "code",
   "execution_count": 71,
   "id": "4713d582",
   "metadata": {},
   "outputs": [
    {
     "data": {
      "text/plain": [
       "'D'"
      ]
     },
     "execution_count": 71,
     "metadata": {},
     "output_type": "execute_result"
    }
   ],
   "source": [
    "a[len(a)-1]   # Because we know that 'len' counts from 0"
   ]
  },
  {
   "cell_type": "code",
   "execution_count": 72,
   "id": "7da6bdac",
   "metadata": {},
   "outputs": [
    {
     "data": {
      "text/plain": [
       "'HELLO WORLD'"
      ]
     },
     "execution_count": 72,
     "metadata": {},
     "output_type": "execute_result"
    }
   ],
   "source": [
    "a"
   ]
  },
  {
   "cell_type": "markdown",
   "id": "151bbff7",
   "metadata": {},
   "source": [
    "# Range of index"
   ]
  },
  {
   "cell_type": "markdown",
   "id": "6012ee41",
   "metadata": {},
   "source": [
    "For positive indexing 0<<len-1\n",
    "                               \n",
    "                               \n",
    "For negative indexing -len<<-1\n",
    "                              \n",
    "                              \n",
    "Any number which is greater than (len-1) or smaller than (-len) will give out of index errror                              \n",
    "                \n",
    "                              \n",
    "To change your negative index to positive index add length \n",
    "                              -1 -> (-1+len)"
   ]
  },
  {
   "cell_type": "code",
   "execution_count": 74,
   "id": "dd44a77b",
   "metadata": {},
   "outputs": [],
   "source": [
    " mystr='PYTHON'"
   ]
  },
  {
   "cell_type": "code",
   "execution_count": 75,
   "id": "98e1bfea",
   "metadata": {},
   "outputs": [
    {
     "data": {
      "text/plain": [
       "True"
      ]
     },
     "execution_count": 75,
     "metadata": {},
     "output_type": "execute_result"
    }
   ],
   "source": [
    "mystr[-1]==mystr[-1+len(mystr)]"
   ]
  },
  {
   "cell_type": "code",
   "execution_count": 76,
   "id": "8b061955",
   "metadata": {},
   "outputs": [
    {
     "data": {
      "text/plain": [
       "'N'"
      ]
     },
     "execution_count": 76,
     "metadata": {},
     "output_type": "execute_result"
    }
   ],
   "source": [
    "mystr[5]"
   ]
  },
  {
   "cell_type": "code",
   "execution_count": 77,
   "id": "18948b80",
   "metadata": {},
   "outputs": [
    {
     "data": {
      "text/plain": [
       "True"
      ]
     },
     "execution_count": 77,
     "metadata": {},
     "output_type": "execute_result"
    }
   ],
   "source": [
    "mystr[5]==mystr[-1+6]   # 6 is len"
   ]
  },
  {
   "cell_type": "markdown",
   "id": "381f9a95",
   "metadata": {},
   "source": [
    "# Type conversion \n",
    "\n",
    "\n",
    "Process of converting one type of data to another type of data is called type conversion\n",
    "\n",
    " IT is of two type 1) implicit.   2) explicit"
   ]
  }
 ],
 "metadata": {
  "kernelspec": {
   "display_name": "Python 3 (ipykernel)",
   "language": "python",
   "name": "python3"
  },
  "language_info": {
   "codemirror_mode": {
    "name": "ipython",
    "version": 3
   },
   "file_extension": ".py",
   "mimetype": "text/x-python",
   "name": "python",
   "nbconvert_exporter": "python",
   "pygments_lexer": "ipython3",
   "version": "3.11.7"
  }
 },
 "nbformat": 4,
 "nbformat_minor": 5
}
