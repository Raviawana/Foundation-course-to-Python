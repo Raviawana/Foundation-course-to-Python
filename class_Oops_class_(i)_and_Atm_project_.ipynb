{
  "nbformat": 4,
  "nbformat_minor": 0,
  "metadata": {
    "colab": {
      "provenance": []
    },
    "kernelspec": {
      "name": "python3",
      "display_name": "Python 3"
    },
    "language_info": {
      "name": "python"
    }
  },
  "cells": [
    {
      "cell_type": "code",
      "execution_count": 1,
      "metadata": {
        "colab": {
          "base_uri": "https://localhost:8080/"
        },
        "id": "2KlDGqzZrG-b",
        "outputId": "d48a9ffc-d0d0-432f-f157-6273f5efc2af"
      },
      "outputs": [
        {
          "output_type": "stream",
          "name": "stdout",
          "text": [
            "ok\n"
          ]
        }
      ],
      "source": [
        "print('ok')"
      ]
    },
    {
      "cell_type": "code",
      "source": [
        "print('ravi')"
      ],
      "metadata": {
        "colab": {
          "base_uri": "https://localhost:8080/"
        },
        "id": "fipbeBsdriZ5",
        "outputId": "cdeaedfa-f052-4f16-eaf5-5394d3c8c49d"
      },
      "execution_count": 2,
      "outputs": [
        {
          "output_type": "stream",
          "name": "stdout",
          "text": [
            "ravi\n"
          ]
        }
      ]
    },
    {
      "cell_type": "code",
      "source": [
        "l=[1,2,3]"
      ],
      "metadata": {
        "id": "i00K3Um9r7b2"
      },
      "execution_count": 3,
      "outputs": []
    },
    {
      "cell_type": "code",
      "source": [
        "l.upper()"
      ],
      "metadata": {
        "colab": {
          "base_uri": "https://localhost:8080/",
          "height": 141
        },
        "id": "KtQrdKpusyCs",
        "outputId": "235722b9-d233-408f-ee38-d148dd8d3586"
      },
      "execution_count": 4,
      "outputs": [
        {
          "output_type": "error",
          "ename": "AttributeError",
          "evalue": "'list' object has no attribute 'upper'",
          "traceback": [
            "\u001b[0;31m---------------------------------------------------------------------------\u001b[0m",
            "\u001b[0;31mAttributeError\u001b[0m                            Traceback (most recent call last)",
            "\u001b[0;32m<ipython-input-4-337e44a12187>\u001b[0m in \u001b[0;36m<cell line: 1>\u001b[0;34m()\u001b[0m\n\u001b[0;32m----> 1\u001b[0;31m \u001b[0ml\u001b[0m\u001b[0;34m.\u001b[0m\u001b[0mupper\u001b[0m\u001b[0;34m(\u001b[0m\u001b[0;34m)\u001b[0m\u001b[0;34m\u001b[0m\u001b[0;34m\u001b[0m\u001b[0m\n\u001b[0m",
            "\u001b[0;31mAttributeError\u001b[0m: 'list' object has no attribute 'upper'"
          ]
        }
      ]
    },
    {
      "cell_type": "code",
      "source": [
        "S='ravi'"
      ],
      "metadata": {
        "id": "7ruYAm_gs2Qh"
      },
      "execution_count": 5,
      "outputs": []
    },
    {
      "cell_type": "code",
      "source": [
        "S.append()"
      ],
      "metadata": {
        "colab": {
          "base_uri": "https://localhost:8080/",
          "height": 141
        },
        "id": "MmkHfjdas9K9",
        "outputId": "22f0b7b2-8d0d-4c55-dc13-64ebae7cc01b"
      },
      "execution_count": 8,
      "outputs": [
        {
          "output_type": "error",
          "ename": "AttributeError",
          "evalue": "'str' object has no attribute 'append'",
          "traceback": [
            "\u001b[0;31m---------------------------------------------------------------------------\u001b[0m",
            "\u001b[0;31mAttributeError\u001b[0m                            Traceback (most recent call last)",
            "\u001b[0;32m<ipython-input-8-afa2c1102b3a>\u001b[0m in \u001b[0;36m<cell line: 1>\u001b[0;34m()\u001b[0m\n\u001b[0;32m----> 1\u001b[0;31m \u001b[0mS\u001b[0m\u001b[0;34m.\u001b[0m\u001b[0mappend\u001b[0m\u001b[0;34m(\u001b[0m\u001b[0;34m)\u001b[0m\u001b[0;34m\u001b[0m\u001b[0;34m\u001b[0m\u001b[0m\n\u001b[0m",
            "\u001b[0;31mAttributeError\u001b[0m: 'str' object has no attribute 'append'"
          ]
        }
      ]
    },
    {
      "cell_type": "markdown",
      "source": [
        "In python it consider everything as an object if it is list, string , tuple"
      ],
      "metadata": {
        "id": "M5hVZtnwtF-U"
      }
    },
    {
      "cell_type": "markdown",
      "source": [
        "### In OOPs we will read about Key Concepts\n",
        "\n",
        "### 1- Classes and Objects:\n",
        "\n",
        "\n",
        "Class: A blueprint for creating objects. It defines a set of attributes and methods that the created objects will have.\n",
        "\n",
        "Object: An instance of a class. It represents a specific implementation of the class.\n",
        "\n",
        "\n",
        "### 2- Attributes and Methods:\n",
        "\n",
        "Attributes: Variables that belong to a class or an object. They are used to store data.\n",
        "\n",
        "Methods: Functions that belong to a class or an object. They are used to define behaviors.\n",
        "Encapsulation:\n",
        "\n",
        "The bundling of data (attributes) and methods that operate on the data into a single unit, or class.\n",
        "Access to the data is restricted by defining public and private interfaces.\n",
        "\n",
        "\n",
        "###3-Inheritance:\n",
        "\n",
        "A mechanism for creating a new class that is a modified version of an existing class.\n",
        "The new class, called a subclass, inherits attributes and methods from the existing class, called a superclass.\n",
        "Polymorphism:\n",
        "\n",
        "The ability of different classes to be treated as instances of the same class through inheritance.\n",
        "It allows methods to be used interchangeably, even though they may behave differently.\n",
        "\n",
        "\n",
        "###4-Abstraction:\n",
        "\n",
        "The process of hiding the complex implementation details and showing only the essential features of the object.\n",
        "It helps to reduce programming complexity and effort.\n"
      ],
      "metadata": {
        "id": "6NrCJwZZucKc"
      }
    },
    {
      "cell_type": "code",
      "source": [
        "# 1 Classes\n",
        "L=[1,2,3]\n",
        "print(type(L))"
      ],
      "metadata": {
        "colab": {
          "base_uri": "https://localhost:8080/"
        },
        "id": "NFVzfRbAuWfY",
        "outputId": "7b772ebd-fa1f-4619-a80e-13a6b3405c2f"
      },
      "execution_count": 10,
      "outputs": [
        {
          "output_type": "stream",
          "name": "stdout",
          "text": [
            "<class 'list'>\n"
          ]
        }
      ]
    },
    {
      "cell_type": "markdown",
      "source": [
        "The difference between CLASS and OBJECT is\n",
        "\n",
        "mobile is a class\n",
        "and samsung and iphone are objects\n",
        "\n",
        "like soft drink is a class and coco cola is a object"
      ],
      "metadata": {
        "id": "WCjC0kh2wWYn"
      }
    },
    {
      "cell_type": "code",
      "source": [
        "l=list()"
      ],
      "metadata": {
        "id": "f4jI8TV5vx15"
      },
      "execution_count": 11,
      "outputs": []
    },
    {
      "cell_type": "code",
      "source": [
        "# objectname = classname()"
      ],
      "metadata": {
        "id": "dUpxy_J6xMQe"
      },
      "execution_count": 12,
      "outputs": []
    },
    {
      "cell_type": "code",
      "source": [
        "s=str()       # In this what is the class and what is the object\n",
        "#S.           # If s is the object that means we can acess all the functions from 's.'"
      ],
      "metadata": {
        "id": "GNDuaLMCxSUW"
      },
      "execution_count": 13,
      "outputs": []
    },
    {
      "cell_type": "markdown",
      "source": [
        "## Whenever we write object oriented program in class then it has two component 1- Data 2- Functions"
      ],
      "metadata": {
        "id": "4pbtLwSU0Vc6"
      }
    },
    {
      "cell_type": "markdown",
      "source": [
        "like in ATM machine\n",
        "\n",
        "Data = 1- Balance, 2- Pin\n",
        "\n",
        "Function = 1- Create pin, 2- Change pin, 3- Cheak balance, 4- Withdraw"
      ],
      "metadata": {
        "id": "uB_QL6qg1z-i"
      }
    },
    {
      "cell_type": "code",
      "source": [],
      "metadata": {
        "id": "1KnFKlRjyJSE"
      },
      "execution_count": null,
      "outputs": []
    },
    {
      "cell_type": "markdown",
      "source": [
        "## ATM Machine"
      ],
      "metadata": {
        "id": "1tp491hb4e5i"
      }
    },
    {
      "cell_type": "code",
      "source": [
        "# Always in pascel case,like if you want to write hellow world then it should be like this\n",
        "# HelloWorld"
      ],
      "metadata": {
        "id": "veSuoQ3n4jSE"
      },
      "execution_count": 15,
      "outputs": []
    },
    {
      "cell_type": "code",
      "source": [
        "class AtmMachine:\n",
        "  # So the first thing you need to do is DATA and for it\n",
        "  # construction(special function)- has superpower so how to define (below)\n",
        "def __init__(self):\n",
        "    pass"
      ],
      "metadata": {
        "colab": {
          "base_uri": "https://localhost:8080/",
          "height": 106
        },
        "id": "_kKjPT4S4ntd",
        "outputId": "cf434f0c-6ff1-4d5f-d959-e6accf385d3e"
      },
      "execution_count": 16,
      "outputs": [
        {
          "output_type": "error",
          "ename": "IndentationError",
          "evalue": "expected an indented block after class definition on line 1 (<ipython-input-16-2ba82d9fead0>, line 4)",
          "traceback": [
            "\u001b[0;36m  File \u001b[0;32m\"<ipython-input-16-2ba82d9fead0>\"\u001b[0;36m, line \u001b[0;32m4\u001b[0m\n\u001b[0;31m    def __init__(self):\u001b[0m\n\u001b[0m    ^\u001b[0m\n\u001b[0;31mIndentationError\u001b[0m\u001b[0;31m:\u001b[0m expected an indented block after class definition on line 1\n"
          ]
        }
      ]
    },
    {
      "cell_type": "markdown",
      "source": [
        "so what's the superpower of this 'construction function'\n",
        "it does't need to be called\n",
        "like if you write a function it does not give any output but this construction function will give output."
      ],
      "metadata": {
        "id": "q0BljFV78RR2"
      }
    },
    {
      "cell_type": "code",
      "source": [
        "# for eg\n",
        "def main():\n",
        "  print('hello')"
      ],
      "metadata": {
        "id": "tB8z4mlK8Pwm"
      },
      "execution_count": 17,
      "outputs": []
    },
    {
      "cell_type": "code",
      "source": [
        "# it did not gave ant output"
      ],
      "metadata": {
        "id": "uTovPUOV84k5"
      },
      "execution_count": 18,
      "outputs": []
    },
    {
      "cell_type": "code",
      "source": [
        "# but on the other hand\n",
        "class AtmMachine:\n",
        "  def __init__(self):\n",
        "    print('this is the superpower')"
      ],
      "metadata": {
        "id": "Ud9dTNDR88Fu"
      },
      "execution_count": 20,
      "outputs": []
    },
    {
      "cell_type": "code",
      "source": [
        "obj = AtmMachine()"
      ],
      "metadata": {
        "colab": {
          "base_uri": "https://localhost:8080/"
        },
        "id": "8llnZi7C9M_2",
        "outputId": "37b27872-dc69-4954-c667-b3f0583cb868"
      },
      "execution_count": 22,
      "outputs": [
        {
          "output_type": "stream",
          "name": "stdout",
          "text": [
            "this is the superpower\n"
          ]
        }
      ]
    },
    {
      "cell_type": "code",
      "source": [],
      "metadata": {
        "id": "5yct9OyU9XO6"
      },
      "execution_count": null,
      "outputs": []
    },
    {
      "cell_type": "markdown",
      "source": [
        "whenever you see these two underscore then it is a constructor function and that is special function.\n",
        "\n",
        "To write the data properties always rembember you have to write it inside a constructor.\n",
        "\n",
        "\n",
        "\n"
      ],
      "metadata": {
        "id": "rAwZys7p9_z0"
      }
    },
    {
      "cell_type": "code",
      "source": [
        "class AtmMachine:\n",
        "  # So the first thing you need to do is DATA and for it\n",
        "  # construction(special function)- has superpower so how to define (below)\n",
        "  def __init__(self):\n",
        "      self.pin=''\n",
        "      self.balance=0\n",
        "\n",
        "\n",
        "\n",
        "class AtmMachine:\n",
        "  def __init__(self):\n",
        "    self.pin=''\n",
        "    self.balance=0"
      ],
      "metadata": {
        "id": "4emsYk4EzIwN"
      },
      "execution_count": 5,
      "outputs": []
    },
    {
      "cell_type": "code",
      "source": [
        "class AtmMachine:\n",
        "  # So the first thing you need to do is DATA and for it\n",
        "  # construction(special function)- has superpower so how to define (below)\n",
        "  def __init__(self):\n",
        "    self.pin=''\n",
        "    self.balance=0\n",
        "\n",
        "\n",
        "# let's make some methods,when we go to ATM we see menu\n",
        "  def menu(self):\n",
        "    user_input = input(\n",
        "      '''\n",
        "      Hi how can i help you?\n",
        "      1. Press 1 to create pin\n",
        "      2. Press 2 to change pin\n",
        "      3. Press 3 to check balance\n",
        "      4. Press 4 to withdraw\n",
        "      5. Press anything to exit\n",
        "\n",
        "      '''\n",
        "  )"
      ],
      "metadata": {
        "id": "tRtfkwRM_c2F"
      },
      "execution_count": 26,
      "outputs": []
    },
    {
      "cell_type": "markdown",
      "source": [
        "### Why we write 'self' before pin and balance because pin belongs to Atm class and only Atm can use these.\n",
        "\n",
        "for example if we create another class AtmMachine2 then it will acess only it's pin and balance"
      ],
      "metadata": {
        "id": "XUCkZXgZy_-f"
      }
    },
    {
      "cell_type": "code",
      "source": [
        "obj = AtmMachine()\n",
        "obj.menu()"
      ],
      "metadata": {
        "colab": {
          "base_uri": "https://localhost:8080/"
        },
        "id": "ddvq7HOnFV8h",
        "outputId": "23669e10-590e-4c14-8a5d-7a00c5825045"
      },
      "execution_count": 27,
      "outputs": [
        {
          "name": "stdout",
          "output_type": "stream",
          "text": [
            "\n",
            "      Hi how can i help you?\n",
            "      1. Press 1 to create pin\n",
            "      2. Press 2 to change pin\n",
            "      3. Press 3 to check balance\n",
            "      4. Press 4 to withdraw\n",
            "      5. Press anything to exit\n",
            "\n",
            "      1\n"
          ]
        }
      ]
    },
    {
      "cell_type": "markdown",
      "source": [
        "Without using these external acessing methods we can smartly acess the menu whenever we acess the AtmMachine class."
      ],
      "metadata": {
        "id": "98YU3dUfF0up"
      }
    },
    {
      "cell_type": "code",
      "source": [
        "class AtmMachine:\n",
        "  def __init__(self):\n",
        "    self.pin=''\n",
        "    self.balance=0\n",
        "    self.menu()                      # (ii) here\n",
        "\n",
        "\n",
        "  def menu(self):                    # (i) Can we put this menu inside the above constructor\n",
        "    user_input = input(\n",
        "      '''\n",
        "      Hi how can i help you?\n",
        "      1. Press 1 to create pin\n",
        "      2. Press 2 to change pin\n",
        "      3. Press 3 to check balance\n",
        "      4. Press 4 to withdraw\n",
        "      5. Press anything to exit\n",
        "\n",
        "      '''\n",
        "  )"
      ],
      "metadata": {
        "id": "GLm_oUZAFV5J"
      },
      "execution_count": 28,
      "outputs": []
    },
    {
      "cell_type": "code",
      "source": [
        "obj = AtmMachine()       # if we do not mention menu here it gives automatically"
      ],
      "metadata": {
        "colab": {
          "base_uri": "https://localhost:8080/"
        },
        "id": "tvm60_NCFV1j",
        "outputId": "8cff6b2e-1346-454f-bd8e-ebc618ade837"
      },
      "execution_count": 29,
      "outputs": [
        {
          "name": "stdout",
          "output_type": "stream",
          "text": [
            "\n",
            "      Hi how can i help you?\n",
            "      1. Press 1 to create pin\n",
            "      2. Press 2 to change pin\n",
            "      3. Press 3 to check balance\n",
            "      4. Press 4 to withdraw\n",
            "      5. Press anything to exit\n",
            "\n",
            "      4\n"
          ]
        }
      ]
    },
    {
      "cell_type": "code",
      "source": [
        "# Making skelaton\n",
        "class AtmMachine:\n",
        "  def __init__(self):\n",
        "    self.pin=''\n",
        "    self.balance=0\n",
        "    self.menu()\n",
        "\n",
        " def menu(self):\n",
        "    user_input = input(\n",
        "      '''\n",
        "      Hi how can i help you?\n",
        "      1. Press 1 to create pin\n",
        "      2. Press 2 to change pin\n",
        "      3. Press 3 to check balance\n",
        "      4. Press 4 to withdraw\n",
        "      5. Press anything to exit\n",
        "\n",
        "      '''\n",
        "  )\n",
        "  if user_input == '1':\n",
        "    # create a pin\n",
        "  elif user_input == '2':\n",
        "    # change pin\n",
        "  elif user_input == '3':\n",
        "    # check balance\n",
        "  elif user_input == '4':\n",
        "    #withdraw\n",
        "  else:\n",
        "    exit()\n",
        "\n",
        "   # Now we have to create individually\n",
        " def create_pin(self):\n",
        "  pass\n",
        "\n",
        "\n",
        " def change_pin(self):\n",
        "  pass\n",
        " def check_balance(self):\n",
        "  pass\n",
        " def withdraw(self):\n",
        "  pass\n",
        "\n",
        ""
      ],
      "metadata": {
        "id": "MiD9mFtvFVxq"
      },
      "execution_count": null,
      "outputs": []
    },
    {
      "cell_type": "code",
      "source": [
        "# Making skelaton\n",
        "class AtmMachine:\n",
        "  def __init__(self):\n",
        "    self.pin=''\n",
        "    self.balance=0\n",
        "    self.menu()\n",
        "\n",
        "  def menu(self):\n",
        "    user_input = input(\n",
        "      '''\n",
        "      Hi how can i help you?\n",
        "      1. Press 1 to create pin\n",
        "      2. Press 2 to change pin\n",
        "      3. Press 3 to check balance\n",
        "      4. Press 4 to withdraw\n",
        "      5. Press anything to exit\n",
        "\n",
        "      '''\n",
        "  )\n",
        "  if user_input == '1':\n",
        "    # create a pin\n",
        "    self.create_pin()\n",
        "\n",
        "\n",
        "  elif user_input == '2':\n",
        "    # change pin\n",
        "    self.change_pin()\n",
        "\n",
        "\n",
        "  elif user_input == '3':\n",
        "    # check balance\n",
        "    self.check_balance()\n",
        "\n",
        "\n",
        "  elif user_input == '4':\n",
        "    #withdraw\n",
        "    self.withdraw()\n",
        "\n",
        "\n",
        "  else:\n",
        "    exit()\n",
        "\n",
        "   # Now we have to create individually\n",
        "  def create_pin(self):\n",
        "    pass\n",
        "\n",
        "\n",
        "  def change_pin(self):\n",
        "    pass\n",
        "\n",
        "  def check_balance(self):\n",
        "    pass\n",
        "\n",
        "  def withdraw(self):\n",
        "    pass\n",
        "\n",
        ""
      ],
      "metadata": {
        "colab": {
          "base_uri": "https://localhost:8080/",
          "height": 332
        },
        "id": "EXKIMW6rFVmR",
        "outputId": "62a23db5-43f5-4d80-b790-41c85fae45dc"
      },
      "execution_count": 5,
      "outputs": [
        {
          "output_type": "error",
          "ename": "NameError",
          "evalue": "name 'user_input' is not defined",
          "traceback": [
            "\u001b[0;31m---------------------------------------------------------------------------\u001b[0m",
            "\u001b[0;31mNameError\u001b[0m                                 Traceback (most recent call last)",
            "\u001b[0;32m<ipython-input-5-62fd4e119031>\u001b[0m in \u001b[0;36m<cell line: 2>\u001b[0;34m()\u001b[0m\n\u001b[1;32m      1\u001b[0m \u001b[0;31m# Making skelaton\u001b[0m\u001b[0;34m\u001b[0m\u001b[0;34m\u001b[0m\u001b[0m\n\u001b[0;32m----> 2\u001b[0;31m \u001b[0;32mclass\u001b[0m \u001b[0mAtmMachine\u001b[0m\u001b[0;34m:\u001b[0m\u001b[0;34m\u001b[0m\u001b[0;34m\u001b[0m\u001b[0m\n\u001b[0m\u001b[1;32m      3\u001b[0m   \u001b[0;32mdef\u001b[0m \u001b[0m__init__\u001b[0m\u001b[0;34m(\u001b[0m\u001b[0mself\u001b[0m\u001b[0;34m)\u001b[0m\u001b[0;34m:\u001b[0m\u001b[0;34m\u001b[0m\u001b[0;34m\u001b[0m\u001b[0m\n\u001b[1;32m      4\u001b[0m     \u001b[0mself\u001b[0m\u001b[0;34m.\u001b[0m\u001b[0mpin\u001b[0m\u001b[0;34m=\u001b[0m\u001b[0;34m''\u001b[0m\u001b[0;34m\u001b[0m\u001b[0;34m\u001b[0m\u001b[0m\n\u001b[1;32m      5\u001b[0m     \u001b[0mself\u001b[0m\u001b[0;34m.\u001b[0m\u001b[0mbalance\u001b[0m\u001b[0;34m=\u001b[0m\u001b[0;36m0\u001b[0m\u001b[0;34m\u001b[0m\u001b[0;34m\u001b[0m\u001b[0m\n",
            "\u001b[0;32m<ipython-input-5-62fd4e119031>\u001b[0m in \u001b[0;36mAtmMachine\u001b[0;34m()\u001b[0m\n\u001b[1;32m     18\u001b[0m       '''\n\u001b[1;32m     19\u001b[0m   )    \n\u001b[0;32m---> 20\u001b[0;31m   \u001b[0;32mif\u001b[0m \u001b[0muser_input\u001b[0m \u001b[0;34m==\u001b[0m \u001b[0;34m'1'\u001b[0m\u001b[0;34m:\u001b[0m\u001b[0;34m\u001b[0m\u001b[0;34m\u001b[0m\u001b[0m\n\u001b[0m\u001b[1;32m     21\u001b[0m     \u001b[0;31m# create a pin\u001b[0m\u001b[0;34m\u001b[0m\u001b[0;34m\u001b[0m\u001b[0m\n\u001b[1;32m     22\u001b[0m     \u001b[0mself\u001b[0m\u001b[0;34m.\u001b[0m\u001b[0mcreate_pin\u001b[0m\u001b[0;34m(\u001b[0m\u001b[0;34m)\u001b[0m\u001b[0;34m\u001b[0m\u001b[0;34m\u001b[0m\u001b[0m\n",
            "\u001b[0;31mNameError\u001b[0m: name 'user_input' is not defined"
          ]
        }
      ]
    },
    {
      "cell_type": "code",
      "source": [
        "# Making create pin function and other functions\n",
        "class AtmMachine:\n",
        "  def __init__(self):\n",
        "    self.pin=''\n",
        "    self.balance=0\n",
        "    self.menu()\n",
        "\n",
        "  def menu(self):\n",
        "    user_input = input(\n",
        "      '''\n",
        "      Hi how can i help you?\n",
        "      1. Press 1 to create pin\n",
        "      2. Press 2 to change pin\n",
        "      3. Press 3 to check balance\n",
        "      4. Press 4 to withdraw\n",
        "      5. Press anything to exit\n",
        "\n",
        "      '''\n",
        "  )\n",
        "    if user_input == '1':\n",
        "    # create a pin\n",
        "      self.create_pin()\n",
        "\n",
        "\n",
        "    elif user_input == '2':\n",
        "    # change pin\n",
        "      self.change_pin()\n",
        "\n",
        "\n",
        "    elif user_input == '3':\n",
        "    # check balance\n",
        "      self.check_balance()\n",
        "\n",
        "\n",
        "    elif user_input == '4':\n",
        "    #withdraw\n",
        "      self.withdraw()\n",
        "\n",
        "\n",
        "    else:\n",
        "      exit()\n",
        "\n",
        "   # Now we have to create individually\n",
        "  def create_pin(self):\n",
        "    user_pin = input('Enter your pin:')\n",
        "    self.pin = user_pin\n",
        "\n",
        "    user_balance = int(input('Enter Balance: '))\n",
        "    self.balance = user_balance\n",
        "\n",
        "    print('Pin created successfully!')\n",
        "    self.menu()\n",
        "\n",
        "  def change_pin(self):\n",
        "    pass\n",
        "\n",
        "  def check_balance(self):\n",
        "    pass\n",
        "\n",
        "  def withdraw(self):\n",
        "    pass\n",
        "\n",
        ""
      ],
      "metadata": {
        "id": "0HAIGyo-lg2J"
      },
      "execution_count": 13,
      "outputs": []
    },
    {
      "cell_type": "code",
      "source": [
        "obj = AtmMachine()"
      ],
      "metadata": {
        "colab": {
          "base_uri": "https://localhost:8080/"
        },
        "id": "qknsceHClgxM",
        "outputId": "02d744ed-e53b-4c33-a428-157f478fc763"
      },
      "execution_count": 14,
      "outputs": [
        {
          "name": "stdout",
          "output_type": "stream",
          "text": [
            "\n",
            "      Hi how can i help you?\n",
            "      1. Press 1 to create pin\n",
            "      2. Press 2 to change pin\n",
            "      3. Press 3 to check balance\n",
            "      4. Press 4 to withdraw\n",
            "      5. Press anything to exit\n",
            "\n",
            "      1\n",
            "Enter your pin:2345\n",
            "Enter Balance: 123\n",
            "Pin created successfully!\n",
            "\n",
            "      Hi how can i help you?\n",
            "      1. Press 1 to create pin\n",
            "      2. Press 2 to change pin\n",
            "      3. Press 3 to check balance\n",
            "      4. Press 4 to withdraw\n",
            "      5. Press anything to exit\n",
            "\n",
            "      ds\n"
          ]
        }
      ]
    },
    {
      "cell_type": "code",
      "source": [
        "# Making CHANGE PIN function and other functions\n",
        "class AtmMachine:\n",
        "  def __init__(self):\n",
        "    self.pin=''\n",
        "    self.balance=0\n",
        "    self.menu()\n",
        "\n",
        "  def menu(self):\n",
        "    user_input = input(\n",
        "      '''\n",
        "      Hi how can i help you?\n",
        "      1. Press 1 to create pin\n",
        "      2. Press 2 to change pin\n",
        "      3. Press 3 to check balance\n",
        "      4. Press 4 to withdraw\n",
        "      5. Press anything to exit\n",
        "\n",
        "      '''\n",
        "  )\n",
        "    if user_input == '1':\n",
        "    # create a pin\n",
        "      self.create_pin()\n",
        "\n",
        "\n",
        "    elif user_input == '2':\n",
        "    # change pin\n",
        "      self.change_pin()\n",
        "\n",
        "\n",
        "    elif user_input == '3':\n",
        "    # check balance\n",
        "      self.check_balance()\n",
        "\n",
        "\n",
        "    elif user_input == '4':\n",
        "    #withdraw\n",
        "      self.withdraw()\n",
        "\n",
        "\n",
        "    else:\n",
        "      exit()\n",
        "\n",
        "   # Now we have to create individually\n",
        "  def create_pin(self):\n",
        "    user_pin = input('Enter your pin:')\n",
        "    self.pin = user_pin\n",
        "\n",
        "    user_balance = int(input('Enter Balance: '))\n",
        "    self.balance = user_balance\n",
        "\n",
        "    print('Pin created successfully!')\n",
        "    self.menu()\n",
        "\n",
        "  def change_pin(self):\n",
        "    old_pin = input('Enter old pin : ')   # Firstly i have to match with old pin\n",
        "\n",
        "    if old_pin == self.pin:\n",
        "      # Let change the pin\n",
        "      new_pin = input('Enter new pin: ')\n",
        "      self.pin = new_pin\n",
        "      print('Pin change successfully! ')\n",
        "      self.menu()\n",
        "\n",
        "    else:\n",
        "      print('sorry you have entered wrong pin ')\n",
        "      self.menu()\n",
        "\n",
        "\n",
        "\n",
        "\n",
        "  def check_balance(self):\n",
        "    user_pin = input('Enter your pin : ')\n",
        "    if user_pin == self.pin:\n",
        "      print(f'your balance is {self.balance}')\n",
        "    else:\n",
        "      print('You have entered wrong pin, please try again')\n",
        "    self.menu()\n",
        "\n",
        "  def withdraw(self):\n",
        "    user_pin= input('Enter your pin : ')\n",
        "    if user_pin == self.pin:\n",
        "      #allow to withdraw\n",
        "      amount = int(input('Please enter amount'))\n",
        "      if amount <= self.balance:\n",
        "        self.balance = self.balance - amount\n",
        "        print(f'Withdraw successful and the current balance is {self.balance}')\n",
        "      else:\n",
        "        print('You have insufficient balance')\n",
        "    else:\n",
        "      print('You have entered a wrong pin')\n",
        "\n",
        ""
      ],
      "metadata": {
        "id": "FveW3szhpGAH"
      },
      "execution_count": 3,
      "outputs": []
    },
    {
      "cell_type": "code",
      "source": [
        "obj= AtmMachine()"
      ],
      "metadata": {
        "colab": {
          "base_uri": "https://localhost:8080/"
        },
        "id": "8gT9KmiNxEsO",
        "outputId": "29de09b3-1f63-48af-8e0d-127e82de3235"
      },
      "execution_count": 2,
      "outputs": [
        {
          "output_type": "stream",
          "name": "stdout",
          "text": [
            "\n",
            "      Hi how can i help you?\n",
            "      1. Press 1 to create pin\n",
            "      2. Press 2 to change pin\n",
            "      3. Press 3 to check balance\n",
            "      4. Press 4 to withdraw\n",
            "      5. Press anything to exit\n",
            "\n",
            "      1\n",
            "Enter your pin:1234\n",
            "Enter Balance: 10000\n",
            "Pin created successfully!\n",
            "\n",
            "      Hi how can i help you?\n",
            "      1. Press 1 to create pin\n",
            "      2. Press 2 to change pin\n",
            "      3. Press 3 to check balance\n",
            "      4. Press 4 to withdraw\n",
            "      5. Press anything to exit\n",
            "\n",
            "      2\n",
            "Enter old pin : 1234\n",
            "Enter new pin: 2345\n",
            "Pin change successfully! \n",
            "\n",
            "      Hi how can i help you?\n",
            "      1. Press 1 to create pin\n",
            "      2. Press 2 to change pin\n",
            "      3. Press 3 to check balance\n",
            "      4. Press 4 to withdraw\n",
            "      5. Press anything to exit\n",
            "\n",
            "      3\n",
            "Enter your pin : 2345\n",
            "your balance is 10000\n"
          ]
        }
      ]
    },
    {
      "cell_type": "code",
      "source": [],
      "metadata": {
        "id": "lovjqSycxEnM"
      },
      "execution_count": null,
      "outputs": []
    },
    {
      "cell_type": "code",
      "source": [],
      "metadata": {
        "id": "NYaxbdGWxEZR"
      },
      "execution_count": null,
      "outputs": []
    },
    {
      "cell_type": "code",
      "source": [],
      "metadata": {
        "id": "3lazBKcFxEP1"
      },
      "execution_count": null,
      "outputs": []
    },
    {
      "cell_type": "code",
      "source": [
        "obj = AtmMachine()"
      ],
      "metadata": {
        "colab": {
          "base_uri": "https://localhost:8080/"
        },
        "id": "L6YH0t0_pF9P",
        "outputId": "fde6e14c-b26e-494d-a5a2-e98646c43472"
      },
      "execution_count": 2,
      "outputs": [
        {
          "name": "stdout",
          "output_type": "stream",
          "text": [
            "\n",
            "      Hi how can i help you?\n",
            "      1. Press 1 to create pin\n",
            "      2. Press 2 to change pin\n",
            "      3. Press 3 to check balance\n",
            "      4. Press 4 to withdraw\n",
            "      5. Press anything to exit\n",
            "\n",
            "      1\n",
            "Enter your pin:123\n",
            "Enter Balance: 10000\n",
            "Pin created successfully!\n",
            "\n",
            "      Hi how can i help you?\n",
            "      1. Press 1 to create pin\n",
            "      2. Press 2 to change pin\n",
            "      3. Press 3 to check balance\n",
            "      4. Press 4 to withdraw\n",
            "      5. Press anything to exit\n",
            "\n",
            "      2\n",
            "Enter old pin : 456\n",
            "sorry you have entered wrong pin \n",
            "\n",
            "      Hi how can i help you?\n",
            "      1. Press 1 to create pin\n",
            "      2. Press 2 to change pin\n",
            "      3. Press 3 to check balance\n",
            "      4. Press 4 to withdraw\n",
            "      5. Press anything to exit\n",
            "\n",
            "      2\n",
            "Enter old pin : 123\n",
            "Enter new pin: 4567\n",
            "Pin change successfully! \n",
            "\n",
            "      Hi how can i help you?\n",
            "      1. Press 1 to create pin\n",
            "      2. Press 2 to change pin\n",
            "      3. Press 3 to check balance\n",
            "      4. Press 4 to withdraw\n",
            "      5. Press anything to exit\n",
            "\n",
            "      bkgkb\n"
          ]
        }
      ]
    },
    {
      "cell_type": "markdown",
      "source": [
        "### Function vs Method\n",
        "whenever we use function normally then it is known as Function but if we use it in class it starts known as Method.\n",
        "\n",
        "for example\n",
        "\n",
        "L=[1,2,3]\n",
        "\n",
        "len(l)  = function because it is outside of the class\n",
        "\n",
        "L.append()  = it is Method as it is used inside a class"
      ],
      "metadata": {
        "id": "IZYyG54Vz-WE"
      }
    },
    {
      "cell_type": "code",
      "source": [],
      "metadata": {
        "id": "S1d9V7qepF2G"
      },
      "execution_count": null,
      "outputs": []
    }
  ]
}