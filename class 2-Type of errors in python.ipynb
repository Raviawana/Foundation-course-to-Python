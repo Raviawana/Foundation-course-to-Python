{
 "cells": [
  {
   "cell_type": "markdown",
   "id": "3805182b",
   "metadata": {},
   "source": [
    "# Types of errors in python\n",
    "\n",
    "1-Syntax error = Syntax are rules of language which we should follow while writing our code.\n",
    "Like misspelled words,missing paranthesis,call something not defined"
   ]
  },
  {
   "cell_type": "code",
   "execution_count": 1,
   "id": "122d3f15",
   "metadata": {},
   "outputs": [
    {
     "ename": "NameError",
     "evalue": "name 'prin' is not defined",
     "output_type": "error",
     "traceback": [
      "\u001b[0;31m---------------------------------------------------------------------------\u001b[0m",
      "\u001b[0;31mNameError\u001b[0m                                 Traceback (most recent call last)",
      "Cell \u001b[0;32mIn[1], line 1\u001b[0m\n\u001b[0;32m----> 1\u001b[0m prin(\u001b[38;5;124m'\u001b[39m\u001b[38;5;124mhello world\u001b[39m\u001b[38;5;124m'\u001b[39m)\n",
      "\u001b[0;31mNameError\u001b[0m: name 'prin' is not defined"
     ]
    }
   ],
   "source": [
    "prin('hello world')"
   ]
  },
  {
   "cell_type": "code",
   "execution_count": 2,
   "id": "6b977151",
   "metadata": {},
   "outputs": [
    {
     "ename": "SyntaxError",
     "evalue": "unterminated string literal (detected at line 1) (645893441.py, line 1)",
     "output_type": "error",
     "traceback": [
      "\u001b[0;36m  Cell \u001b[0;32mIn[2], line 1\u001b[0;36m\u001b[0m\n\u001b[0;31m    print('hello world)\u001b[0m\n\u001b[0m          ^\u001b[0m\n\u001b[0;31mSyntaxError\u001b[0m\u001b[0;31m:\u001b[0m unterminated string literal (detected at line 1)\n"
     ]
    }
   ],
   "source": [
    "print('hello world)"
   ]
  },
  {
   "cell_type": "code",
   "execution_count": 3,
   "id": "af7053bd",
   "metadata": {},
   "outputs": [
    {
     "ename": "SyntaxError",
     "evalue": "incomplete input (3371412170.py, line 1)",
     "output_type": "error",
     "traceback": [
      "\u001b[0;36m  Cell \u001b[0;32mIn[3], line 1\u001b[0;36m\u001b[0m\n\u001b[0;31m    print('hello world'\u001b[0m\n\u001b[0m                       ^\u001b[0m\n\u001b[0;31mSyntaxError\u001b[0m\u001b[0;31m:\u001b[0m incomplete input\n"
     ]
    }
   ],
   "source": [
    "print('hello world'"
   ]
  },
  {
   "cell_type": "code",
   "execution_count": 4,
   "id": "d1084b5f",
   "metadata": {},
   "outputs": [
    {
     "ename": "NameError",
     "evalue": "name 'true' is not defined",
     "output_type": "error",
     "traceback": [
      "\u001b[0;31m---------------------------------------------------------------------------\u001b[0m",
      "\u001b[0;31mNameError\u001b[0m                                 Traceback (most recent call last)",
      "Cell \u001b[0;32mIn[4], line 1\u001b[0m\n\u001b[0;32m----> 1\u001b[0m T\u001b[38;5;241m=\u001b[39mtrue\n",
      "\u001b[0;31mNameError\u001b[0m: name 'true' is not defined"
     ]
    }
   ],
   "source": [
    "T=true"
   ]
  },
  {
   "cell_type": "code",
   "execution_count": 5,
   "id": "9f9d492c",
   "metadata": {},
   "outputs": [],
   "source": [
    "T=True"
   ]
  },
  {
   "cell_type": "code",
   "execution_count": 6,
   "id": "aa4e7768",
   "metadata": {},
   "outputs": [
    {
     "name": "stdout",
     "output_type": "stream",
     "text": [
      "hello\n"
     ]
    }
   ],
   "source": [
    "print('hello')"
   ]
  },
  {
   "cell_type": "markdown",
   "id": "1a069276",
   "metadata": {},
   "source": [
    "# Run time error"
   ]
  },
  {
   "cell_type": "markdown",
   "id": "03729e48",
   "metadata": {},
   "source": [
    " These are the errors which we get during running of our program,as soon as python interpretor faces this it stops working."
   ]
  },
  {
   "cell_type": "code",
   "execution_count": 7,
   "id": "d55f00b5",
   "metadata": {},
   "outputs": [
    {
     "name": "stdout",
     "output_type": "stream",
     "text": [
      "0.5\n"
     ]
    }
   ],
   "source": [
    "num=50\n",
    "den=100\n",
    "print(num/den)"
   ]
  },
  {
   "cell_type": "code",
   "execution_count": 8,
   "id": "49e3f429",
   "metadata": {},
   "outputs": [],
   "source": [
    "num=200"
   ]
  },
  {
   "cell_type": "code",
   "execution_count": 11,
   "id": "221a66d7",
   "metadata": {},
   "outputs": [
    {
     "name": "stdout",
     "output_type": "stream",
     "text": [
      "20\n"
     ]
    }
   ],
   "source": [
    "den=int(input())"
   ]
  },
  {
   "cell_type": "code",
   "execution_count": 12,
   "id": "51ee9f99",
   "metadata": {},
   "outputs": [
    {
     "name": "stdout",
     "output_type": "stream",
     "text": [
      "10.0\n"
     ]
    }
   ],
   "source": [
    "print(num/den)"
   ]
  },
  {
   "cell_type": "code",
   "execution_count": 13,
   "id": "b24bb651",
   "metadata": {},
   "outputs": [
    {
     "name": "stdout",
     "output_type": "stream",
     "text": [
      "0\n"
     ]
    },
    {
     "ename": "ZeroDivisionError",
     "evalue": "division by zero",
     "output_type": "error",
     "traceback": [
      "\u001b[0;31m---------------------------------------------------------------------------\u001b[0m",
      "\u001b[0;31mZeroDivisionError\u001b[0m                         Traceback (most recent call last)",
      "Cell \u001b[0;32mIn[13], line 2\u001b[0m\n\u001b[1;32m      1\u001b[0m den\u001b[38;5;241m=\u001b[39m\u001b[38;5;28mint\u001b[39m(\u001b[38;5;28minput\u001b[39m())\n\u001b[0;32m----> 2\u001b[0m \u001b[38;5;28mprint\u001b[39m(num\u001b[38;5;241m/\u001b[39mden)\n",
      "\u001b[0;31mZeroDivisionError\u001b[0m: division by zero"
     ]
    }
   ],
   "source": [
    "den=int(input())\n",
    "print(num/den)"
   ]
  },
  {
   "cell_type": "code",
   "execution_count": 14,
   "id": "5e9b122d",
   "metadata": {},
   "outputs": [
    {
     "name": "stdout",
     "output_type": "stream",
     "text": [
      "50\n"
     ]
    }
   ],
   "source": [
    "# Another example \n",
    "num=int(input())\n",
    "\n"
   ]
  },
  {
   "cell_type": "code",
   "execution_count": 15,
   "id": "48f56ac1",
   "metadata": {},
   "outputs": [
    {
     "name": "stdout",
     "output_type": "stream",
     "text": [
      "ravi\n"
     ]
    },
    {
     "ename": "ValueError",
     "evalue": "invalid literal for int() with base 10: 'ravi'",
     "output_type": "error",
     "traceback": [
      "\u001b[0;31m---------------------------------------------------------------------------\u001b[0m",
      "\u001b[0;31mValueError\u001b[0m                                Traceback (most recent call last)",
      "Cell \u001b[0;32mIn[15], line 1\u001b[0m\n\u001b[0;32m----> 1\u001b[0m num\u001b[38;5;241m=\u001b[39m\u001b[38;5;28mint\u001b[39m(\u001b[38;5;28minput\u001b[39m())\n",
      "\u001b[0;31mValueError\u001b[0m: invalid literal for int() with base 10: 'ravi'"
     ]
    }
   ],
   "source": [
    "num=int(input())"
   ]
  },
  {
   "cell_type": "markdown",
   "id": "98d1be1c",
   "metadata": {},
   "source": [
    "## Functions defined inside Modules"
   ]
  },
  {
   "cell_type": "markdown",
   "id": "ef8a195e",
   "metadata": {},
   "source": [
    "If we take example of our house then there are things which we made ourselves and there are things which we have purchased from outside like Refridgerator,TV,AC\n",
    "\n",
    "just like that in python some functions are inbuilt like abs() , print() but some we have to make ourselves like square root etc and we can also make libraries for public use "
   ]
  },
  {
   "cell_type": "code",
   "execution_count": 16,
   "id": "4841a9bc",
   "metadata": {},
   "outputs": [
    {
     "data": {
      "text/plain": [
       "5"
      ]
     },
     "execution_count": 16,
     "metadata": {},
     "output_type": "execute_result"
    }
   ],
   "source": [
    "abs(5)"
   ]
  },
  {
   "cell_type": "code",
   "execution_count": 17,
   "id": "79dadbe8",
   "metadata": {},
   "outputs": [
    {
     "data": {
      "text/plain": [
       "5"
      ]
     },
     "execution_count": 17,
     "metadata": {},
     "output_type": "execute_result"
    }
   ],
   "source": [
    "abs(-5)"
   ]
  },
  {
   "cell_type": "code",
   "execution_count": 18,
   "id": "23545690",
   "metadata": {},
   "outputs": [
    {
     "ename": "NameError",
     "evalue": "name 'sqrt' is not defined",
     "output_type": "error",
     "traceback": [
      "\u001b[0;31m---------------------------------------------------------------------------\u001b[0m",
      "\u001b[0;31mNameError\u001b[0m                                 Traceback (most recent call last)",
      "Cell \u001b[0;32mIn[18], line 1\u001b[0m\n\u001b[0;32m----> 1\u001b[0m sqrt(\u001b[38;5;241m13\u001b[39m)\n",
      "\u001b[0;31mNameError\u001b[0m: name 'sqrt' is not defined"
     ]
    }
   ],
   "source": [
    "sqrt(13)"
   ]
  },
  {
   "cell_type": "code",
   "execution_count": 19,
   "id": "20514662",
   "metadata": {},
   "outputs": [],
   "source": [
    "# So you have to import it\n",
    "from math import sqrt"
   ]
  },
  {
   "cell_type": "code",
   "execution_count": 20,
   "id": "25d27189",
   "metadata": {},
   "outputs": [
    {
     "data": {
      "text/plain": [
       "5.0"
      ]
     },
     "execution_count": 20,
     "metadata": {},
     "output_type": "execute_result"
    }
   ],
   "source": [
    "sqrt(25)"
   ]
  },
  {
   "cell_type": "markdown",
   "id": "945c9643",
   "metadata": {},
   "source": [
    "Math is a module and here we specifically mentioned from math import sqrt but if we have not mentioned it specifically ,\n",
    "we have to do math.sqrt(25) or import math as m "
   ]
  },
  {
   "cell_type": "markdown",
   "id": "1084d929",
   "metadata": {},
   "source": [
    " # Identifiers\n",
    "It is the name given to variables,functions,classes,libraries and modules or any other object in python.\n",
    " \n",
    " ### Rules of identifier\n",
    " Identifier can be a combination of \n",
    " 1) Lower case alphabets (a-z)\n",
    " 2) Upper case alphabets (A-Z)\n",
    " 3) Numbers (0-9), special characters(_)\n",
    " \n",
    " 1) Cannot begin with numbers 0abc wrong but abc0 is right\n",
    " 2) cannot contain special character except (_)\n",
    " 3) Once started with (a-z),(A-Z) or (_) it can contain any of these pair\n",
    " 4) It is case sensitive \n",
    " 5) Python has reserved some of the keywords for itself like \"break\",\"continue\",\"elif\",\"if\",\"pass\" etc"
   ]
  },
  {
   "cell_type": "code",
   "execution_count": 22,
   "id": "070c55c2",
   "metadata": {},
   "outputs": [],
   "source": [
    "a=5\n",
    "b=10"
   ]
  },
  {
   "cell_type": "code",
   "execution_count": 23,
   "id": "99471382",
   "metadata": {},
   "outputs": [
    {
     "ename": "SyntaxError",
     "evalue": "invalid decimal literal (3932774990.py, line 1)",
     "output_type": "error",
     "traceback": [
      "\u001b[0;36m  Cell \u001b[0;32mIn[23], line 1\u001b[0;36m\u001b[0m\n\u001b[0;31m    0a=10\u001b[0m\n\u001b[0m    ^\u001b[0m\n\u001b[0;31mSyntaxError\u001b[0m\u001b[0;31m:\u001b[0m invalid decimal literal\n"
     ]
    }
   ],
   "source": [
    " 0a=10"
   ]
  },
  {
   "cell_type": "code",
   "execution_count": 24,
   "id": "d29624fb",
   "metadata": {},
   "outputs": [],
   "source": [
    "a0=10"
   ]
  },
  {
   "cell_type": "code",
   "execution_count": 25,
   "id": "a11d3720",
   "metadata": {},
   "outputs": [],
   "source": [
    " abc123=123"
   ]
  },
  {
   "cell_type": "code",
   "execution_count": 26,
   "id": "16992ff5",
   "metadata": {},
   "outputs": [],
   "source": [
    "_=12"
   ]
  },
  {
   "cell_type": "code",
   "execution_count": 29,
   "id": "8686a33c",
   "metadata": {},
   "outputs": [],
   "source": [
    "def _(a,b):\n",
    "    print(a+b)"
   ]
  },
  {
   "cell_type": "code",
   "execution_count": 30,
   "id": "846ef165",
   "metadata": {},
   "outputs": [
    {
     "ename": "SyntaxError",
     "evalue": "invalid syntax (1382296241.py, line 1)",
     "output_type": "error",
     "traceback": [
      "\u001b[0;36m  Cell \u001b[0;32mIn[30], line 1\u001b[0;36m\u001b[0m\n\u001b[0;31m    def 123(a,b):\u001b[0m\n\u001b[0m        ^\u001b[0m\n\u001b[0;31mSyntaxError\u001b[0m\u001b[0;31m:\u001b[0m invalid syntax\n"
     ]
    }
   ],
   "source": [
    "def 123(a,b):\n",
    "    print('i am ravi')"
   ]
  },
  {
   "cell_type": "code",
   "execution_count": 31,
   "id": "a44ca404",
   "metadata": {},
   "outputs": [],
   "source": [
    "def _123(a,b):\n",
    "    print('i am ravi')"
   ]
  },
  {
   "cell_type": "code",
   "execution_count": 32,
   "id": "d604abb8",
   "metadata": {},
   "outputs": [
    {
     "data": {
      "text/plain": [
       "['False',\n",
       " 'None',\n",
       " 'True',\n",
       " 'and',\n",
       " 'as',\n",
       " 'assert',\n",
       " 'async',\n",
       " 'await',\n",
       " 'break',\n",
       " 'class',\n",
       " 'continue',\n",
       " 'def',\n",
       " 'del',\n",
       " 'elif',\n",
       " 'else',\n",
       " 'except',\n",
       " 'finally',\n",
       " 'for',\n",
       " 'from',\n",
       " 'global',\n",
       " 'if',\n",
       " 'import',\n",
       " 'in',\n",
       " 'is',\n",
       " 'lambda',\n",
       " 'nonlocal',\n",
       " 'not',\n",
       " 'or',\n",
       " 'pass',\n",
       " 'raise',\n",
       " 'return',\n",
       " 'try',\n",
       " 'while',\n",
       " 'with',\n",
       " 'yield']"
      ]
     },
     "execution_count": 32,
     "metadata": {},
     "output_type": "execute_result"
    }
   ],
   "source": [
    " # To see all the keywords which are reserved for python itself we can use the keyword library\n",
    "import keyword \n",
    "list=keyword.kwlist\n",
    "list"
   ]
  },
  {
   "cell_type": "code",
   "execution_count": 33,
   "id": "17fc60a1",
   "metadata": {},
   "outputs": [
    {
     "data": {
      "text/plain": [
       "35"
      ]
     },
     "execution_count": 33,
     "metadata": {},
     "output_type": "execute_result"
    }
   ],
   "source": [
    "len(list)"
   ]
  },
  {
   "cell_type": "markdown",
   "id": "cd09b1f0",
   "metadata": {},
   "source": [
    "# Data Types\n",
    "\n",
    "Identity of data present inside your variable\\identifier \n",
    "\n",
    "for eg  if a = 5 then earlier we were talking about a and now we are talking about 5\n",
    "that is variable where we store our data \n",
    "\n",
    "\n",
    "there is a function in python 'Type()' to tell data types\n",
    "\n"
   ]
  },
  {
   "cell_type": "code",
   "execution_count": 34,
   "id": "81ea3035",
   "metadata": {},
   "outputs": [],
   "source": [
    "a=5\n",
    "b=990\n",
    "c='dsefgf'"
   ]
  },
  {
   "cell_type": "code",
   "execution_count": 35,
   "id": "f3835918",
   "metadata": {},
   "outputs": [
    {
     "data": {
      "text/plain": [
       "int"
      ]
     },
     "execution_count": 35,
     "metadata": {},
     "output_type": "execute_result"
    }
   ],
   "source": [
    "type(a)"
   ]
  },
  {
   "cell_type": "code",
   "execution_count": 36,
   "id": "34d26cee",
   "metadata": {},
   "outputs": [
    {
     "data": {
      "text/plain": [
       "int"
      ]
     },
     "execution_count": 36,
     "metadata": {},
     "output_type": "execute_result"
    }
   ],
   "source": [
    "type(b)"
   ]
  },
  {
   "cell_type": "code",
   "execution_count": 37,
   "id": "886734df",
   "metadata": {},
   "outputs": [
    {
     "data": {
      "text/plain": [
       "str"
      ]
     },
     "execution_count": 37,
     "metadata": {},
     "output_type": "execute_result"
    }
   ],
   "source": [
    "type(c)"
   ]
  },
  {
   "cell_type": "code",
   "execution_count": 38,
   "id": "694db5d5",
   "metadata": {},
   "outputs": [],
   "source": [
    "d=0.902"
   ]
  },
  {
   "cell_type": "code",
   "execution_count": 39,
   "id": "85741640",
   "metadata": {},
   "outputs": [
    {
     "data": {
      "text/plain": [
       "float"
      ]
     },
     "execution_count": 39,
     "metadata": {},
     "output_type": "execute_result"
    }
   ],
   "source": [
    "type(d)"
   ]
  },
  {
   "cell_type": "markdown",
   "id": "139913d6",
   "metadata": {},
   "source": [
    "We don't have any char type in python\n",
    "\n",
    "Although,python do not expect user to define the data type,it internally still maintain the data type\n",
    "\n",
    "'Char' does't exist in python \n",
    "\n",
    "*There are 14 data types in python in 6 categories*"
   ]
  },
  {
   "cell_type": "markdown",
   "id": "89a12b2a",
   "metadata": {},
   "source": [
    "# Dynamic property of data "
   ]
  },
  {
   "cell_type": "code",
   "execution_count": 42,
   "id": "6d49cec2",
   "metadata": {},
   "outputs": [],
   "source": [
    "a=5"
   ]
  },
  {
   "cell_type": "code",
   "execution_count": 43,
   "id": "b5a37107",
   "metadata": {},
   "outputs": [
    {
     "data": {
      "text/plain": [
       "int"
      ]
     },
     "execution_count": 43,
     "metadata": {},
     "output_type": "execute_result"
    }
   ],
   "source": [
    "type(a)"
   ]
  },
  {
   "cell_type": "code",
   "execution_count": 44,
   "id": "092d758d",
   "metadata": {},
   "outputs": [],
   "source": [
    "a=\"ravi\""
   ]
  },
  {
   "cell_type": "code",
   "execution_count": 45,
   "id": "a17a3322",
   "metadata": {},
   "outputs": [
    {
     "data": {
      "text/plain": [
       "str"
      ]
     },
     "execution_count": 45,
     "metadata": {},
     "output_type": "execute_result"
    }
   ],
   "source": [
    "type(a)"
   ]
  },
  {
   "cell_type": "markdown",
   "id": "0c39950f",
   "metadata": {},
   "source": [
    "But in other languages like java and c++ it is not possible"
   ]
  },
  {
   "cell_type": "markdown",
   "id": "a3d4ca38",
   "metadata": {},
   "source": [
    "# Dynamicity of size"
   ]
  },
  {
   "cell_type": "code",
   "execution_count": 46,
   "id": "828b1a85",
   "metadata": {},
   "outputs": [],
   "source": [
    "a=248393"
   ]
  },
  {
   "cell_type": "code",
   "execution_count": 50,
   "id": "f31c4886",
   "metadata": {},
   "outputs": [
    {
     "name": "stdout",
     "output_type": "stream",
     "text": [
      "28\n"
     ]
    }
   ],
   "source": [
    "import sys \n",
    "from sys import getsizeof\n",
    "print(getsizeof(a))"
   ]
  },
  {
   "cell_type": "code",
   "execution_count": 51,
   "id": "fe311357",
   "metadata": {},
   "outputs": [],
   "source": [
    "# Size of variable 'm' is 28 inbytes "
   ]
  },
  {
   "cell_type": "code",
   "execution_count": 52,
   "id": "0d7a4b48",
   "metadata": {},
   "outputs": [],
   "source": [
    "m=4364956639246959324696928409204698648"
   ]
  },
  {
   "cell_type": "code",
   "execution_count": 53,
   "id": "f7380fbd",
   "metadata": {},
   "outputs": [
    {
     "data": {
      "text/plain": [
       "44"
      ]
     },
     "execution_count": 53,
     "metadata": {},
     "output_type": "execute_result"
    }
   ],
   "source": [
    "getsizeof(m)"
   ]
  },
  {
   "cell_type": "markdown",
   "id": "74e4cf11",
   "metadata": {},
   "source": [
    "# Data type is unbounded"
   ]
  },
  {
   "cell_type": "code",
   "execution_count": 54,
   "id": "084e2aa2",
   "metadata": {},
   "outputs": [],
   "source": [
    "intvar=3402740734728304"
   ]
  },
  {
   "cell_type": "code",
   "execution_count": 56,
   "id": "74e01e95",
   "metadata": {},
   "outputs": [],
   "source": [
    "intvar=34879732845973207502370982305703320"
   ]
  },
  {
   "cell_type": "code",
   "execution_count": null,
   "id": "f6c4177f",
   "metadata": {},
   "outputs": [],
   "source": []
  }
 ],
 "metadata": {
  "kernelspec": {
   "display_name": "Python 3 (ipykernel)",
   "language": "python",
   "name": "python3"
  },
  "language_info": {
   "codemirror_mode": {
    "name": "ipython",
    "version": 3
   },
   "file_extension": ".py",
   "mimetype": "text/x-python",
   "name": "python",
   "nbconvert_exporter": "python",
   "pygments_lexer": "ipython3",
   "version": "3.11.7"
  }
 },
 "nbformat": 4,
 "nbformat_minor": 5
}
