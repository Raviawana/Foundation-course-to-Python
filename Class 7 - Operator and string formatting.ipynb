{
 "cells": [
  {
   "cell_type": "markdown",
   "id": "d0c235ac",
   "metadata": {},
   "source": [
    "# Agenda -\n",
    "1. Compound assignment operator \n",
    "2. Identity operator\n",
    "3. Membership operator\n",
    "4. Precedence operator\n",
    "5. Decision flow"
   ]
  },
  {
   "cell_type": "markdown",
   "id": "2bd404af",
   "metadata": {},
   "source": [
    "### 1. Compound assignment operator\n",
    "\n",
    "\n",
    "a++ (will give error in python)\n",
    "\n",
    "Python works on expression a lot like maths.\n",
    "\n",
    "Pre incriment and post incriment is not valid in python.\n",
    "\n",
    "\n",
    "\n",
    "Compound assignment operators in Python are shortcuts for performing an operation on a variable and then assigning the result back to the same variable. They combine arithmetic or bitwise operations with assignment.\n",
    "\n",
    "For example, instead of writing:\n",
    "\n",
    "```python\n",
    "x = x + 5\n",
    "```\n",
    "\n",
    "You can use the compound assignment operator `+=`:\n",
    "\n",
    "```python\n",
    "x += 5\n",
    "```\n",
    "\n",
    "Here's a list of compound assignment operators in Python:\n",
    "\n",
    "- `+=` : Adds the value on the right to the variable on the left and assigns the result to the variable.\n",
    "- `-=` : Subtracts the value on the right from the variable on the left and assigns the result to the variable.\n",
    "- `*=` : Multiplies the variable on the left by the value on the right and assigns the result to the variable.\n",
    "- `/=` : Divides the variable on the left by the value on the right and assigns the result to the variable.\n",
    "- `//=` : Floor divides the variable on the left by the value on the right and assigns the result to the variable.\n",
    "- `%=` : Computes the modulus of the variable on the left with the value on the right and assigns the result to the variable.\n",
    "- `**=` : Raises the variable on the left to the power of the value on the right and assigns the result to the variable.\n",
    "- `&=` : Bitwise AND operation on the variable on the left with the value on the right and assigns the result to the variable.\n",
    "- `|=` : Bitwise OR operation on the variable on the left with the value on the right and assigns the result to the variable.\n",
    "- `^=` : Bitwise XOR operation on the variable on the left with the value on the right and assigns the result to the variable.\n",
    "- `>>=` : Bitwise right shift the variable on the left by the number of bits specified by the value on the right and assigns the result to the variable.\n",
    "- `<<=` : Bitwise left shift the variable on the left by the number of bits specified by the value on the right and assigns the result to the variable.\n",
    "\n",
    "These compound assignment operators are concise and often make code more readable and maintainable."
   ]
  },
  {
   "cell_type": "code",
   "execution_count": 10,
   "id": "567e340f",
   "metadata": {},
   "outputs": [],
   "source": [
    "a=10"
   ]
  },
  {
   "cell_type": "code",
   "execution_count": 11,
   "id": "d4f020b5",
   "metadata": {},
   "outputs": [
    {
     "data": {
      "text/plain": [
       "10"
      ]
     },
     "execution_count": 11,
     "metadata": {},
     "output_type": "execute_result"
    }
   ],
   "source": [
    "++a"
   ]
  },
  {
   "cell_type": "code",
   "execution_count": 12,
   "id": "cdc6b3fc",
   "metadata": {},
   "outputs": [
    {
     "ename": "SyntaxError",
     "evalue": "invalid syntax (694176313.py, line 1)",
     "output_type": "error",
     "traceback": [
      "\u001b[0;36m  Cell \u001b[0;32mIn[12], line 1\u001b[0;36m\u001b[0m\n\u001b[0;31m    a+=\u001b[0m\n\u001b[0m       ^\u001b[0m\n\u001b[0;31mSyntaxError\u001b[0m\u001b[0;31m:\u001b[0m invalid syntax\n"
     ]
    }
   ],
   "source": [
    "a+="
   ]
  },
  {
   "cell_type": "code",
   "execution_count": 13,
   "id": "9e9c7fa0",
   "metadata": {},
   "outputs": [],
   "source": [
    "a+=1            # a=a+1"
   ]
  },
  {
   "cell_type": "code",
   "execution_count": 14,
   "id": "fee03b96",
   "metadata": {},
   "outputs": [
    {
     "data": {
      "text/plain": [
       "11"
      ]
     },
     "execution_count": 14,
     "metadata": {},
     "output_type": "execute_result"
    }
   ],
   "source": [
    "a"
   ]
  },
  {
   "cell_type": "code",
   "execution_count": 16,
   "id": "a3d1cb21",
   "metadata": {},
   "outputs": [
    {
     "data": {
      "text/plain": [
       "-11"
      ]
     },
     "execution_count": 16,
     "metadata": {},
     "output_type": "execute_result"
    }
   ],
   "source": [
    "+-a    # It is kind of bracket like +(-11)"
   ]
  },
  {
   "cell_type": "code",
   "execution_count": 17,
   "id": "7256de26",
   "metadata": {},
   "outputs": [],
   "source": [
    "b=5"
   ]
  },
  {
   "cell_type": "code",
   "execution_count": 18,
   "id": "3e71685b",
   "metadata": {},
   "outputs": [
    {
     "data": {
      "text/plain": [
       "5"
      ]
     },
     "execution_count": 18,
     "metadata": {},
     "output_type": "execute_result"
    }
   ],
   "source": [
    "++b"
   ]
  },
  {
   "cell_type": "code",
   "execution_count": 20,
   "id": "96f2728d",
   "metadata": {},
   "outputs": [
    {
     "data": {
      "text/plain": [
       "5"
      ]
     },
     "execution_count": 20,
     "metadata": {},
     "output_type": "execute_result"
    }
   ],
   "source": [
    "--b    # Told you this works like brackets so what is -(-5)"
   ]
  },
  {
   "cell_type": "code",
   "execution_count": 22,
   "id": "4b8f941d",
   "metadata": {},
   "outputs": [
    {
     "data": {
      "text/plain": [
       "-5"
      ]
     },
     "execution_count": 22,
     "metadata": {},
     "output_type": "execute_result"
    }
   ],
   "source": [
    " ---5"
   ]
  },
  {
   "cell_type": "code",
   "execution_count": 23,
   "id": "0c5cb891",
   "metadata": {},
   "outputs": [
    {
     "ename": "SyntaxError",
     "evalue": "invalid syntax (2478400110.py, line 1)",
     "output_type": "error",
     "traceback": [
      "\u001b[0;36m  Cell \u001b[0;32mIn[23], line 1\u001b[0;36m\u001b[0m\n\u001b[0;31m    b++\u001b[0m\n\u001b[0m       ^\u001b[0m\n\u001b[0;31mSyntaxError\u001b[0m\u001b[0;31m:\u001b[0m invalid syntax\n"
     ]
    }
   ],
   "source": [
    "b++\n",
    "b--             # These all will be error\n",
    "b+-"
   ]
  },
  {
   "cell_type": "code",
   "execution_count": 24,
   "id": "c48ed725",
   "metadata": {},
   "outputs": [
    {
     "data": {
      "text/plain": [
       "10"
      ]
     },
     "execution_count": 24,
     "metadata": {},
     "output_type": "execute_result"
    }
   ],
   "source": [
    "# but this \n",
    "b++5"
   ]
  },
  {
   "cell_type": "code",
   "execution_count": 25,
   "id": "8b032ad1",
   "metadata": {},
   "outputs": [
    {
     "data": {
      "text/plain": [
       "5"
      ]
     },
     "execution_count": 25,
     "metadata": {},
     "output_type": "execute_result"
    }
   ],
   "source": [
    "b"
   ]
  },
  {
   "cell_type": "code",
   "execution_count": 26,
   "id": "e86b5e0e",
   "metadata": {},
   "outputs": [
    {
     "data": {
      "text/plain": [
       "1"
      ]
     },
     "execution_count": 26,
     "metadata": {},
     "output_type": "execute_result"
    }
   ],
   "source": [
    "b+-4"
   ]
  },
  {
   "cell_type": "code",
   "execution_count": 27,
   "id": "3ea6c3c8",
   "metadata": {},
   "outputs": [
    {
     "data": {
      "text/plain": [
       "5"
      ]
     },
     "execution_count": 27,
     "metadata": {},
     "output_type": "execute_result"
    }
   ],
   "source": [
    "b"
   ]
  },
  {
   "cell_type": "code",
   "execution_count": 28,
   "id": "88196759",
   "metadata": {},
   "outputs": [],
   "source": [
    "# This does't save back the value of b or any other variable"
   ]
  },
  {
   "cell_type": "markdown",
   "id": "9bf2edfa",
   "metadata": {},
   "source": [
    "### Identity operator\n",
    "\n",
    "\n",
    "In Python, identity operators are used to compare the memory locations of two objects to determine whether they are the same object or not. Python provides two identity operators:\n",
    "\n",
    "1. **is**: Returns True if both operands point to the same object, False otherwise.\n",
    "2. **is not**: Returns True if both operands do not point to the same object, False otherwise.\n",
    "\n",
    "Here's a brief example to illustrate the usage:\n",
    "\n",
    "```python\n",
    "x = [1, 2, 3]\n",
    "y = [1, 2, 3]\n",
    "\n",
    "print(x is y)      # False, because x and y are two different list objects\n",
    "print(x is not y)  # True, because x and y are two different list objects\n",
    "\n",
    "z = x\n",
    "print(x is z)      # True, because x and z refer to the same list object\n",
    "```\n",
    "\n",
    "Identity operators are useful when you need to check if two variables are referencing the same object in memory, rather than just having the same values. They are often used in scenarios where you want to optimize memory usage or ensure that two variables are aliases for the same object.\n",
    "\n",
    "\n",
    "\n",
    "*In simple terms it is used to verify if two refrences have same memory location.*"
   ]
  },
  {
   "cell_type": "code",
   "execution_count": 29,
   "id": "3282a373",
   "metadata": {},
   "outputs": [],
   "source": [
    "c=5"
   ]
  },
  {
   "cell_type": "code",
   "execution_count": 31,
   "id": "11257e6c",
   "metadata": {},
   "outputs": [
    {
     "data": {
      "text/plain": [
       "int"
      ]
     },
     "execution_count": 31,
     "metadata": {},
     "output_type": "execute_result"
    }
   ],
   "source": [
    "type(c)"
   ]
  },
  {
   "cell_type": "code",
   "execution_count": 32,
   "id": "a135de73",
   "metadata": {},
   "outputs": [
    {
     "data": {
      "text/plain": [
       "True"
      ]
     },
     "execution_count": 32,
     "metadata": {},
     "output_type": "execute_result"
    }
   ],
   "source": [
    "type(c) is int"
   ]
  },
  {
   "cell_type": "code",
   "execution_count": 33,
   "id": "87887edb",
   "metadata": {},
   "outputs": [],
   "source": [
    "tv=600000.5"
   ]
  },
  {
   "cell_type": "code",
   "execution_count": 34,
   "id": "64ec960c",
   "metadata": {},
   "outputs": [
    {
     "data": {
      "text/plain": [
       "False"
      ]
     },
     "execution_count": 34,
     "metadata": {},
     "output_type": "execute_result"
    }
   ],
   "source": [
    "type(tv) is int"
   ]
  },
  {
   "cell_type": "code",
   "execution_count": 35,
   "id": "2038b3bd",
   "metadata": {},
   "outputs": [
    {
     "data": {
      "text/plain": [
       "False"
      ]
     },
     "execution_count": 35,
     "metadata": {},
     "output_type": "execute_result"
    }
   ],
   "source": [
    " type(tv) is not float"
   ]
  },
  {
   "cell_type": "code",
   "execution_count": 36,
   "id": "6b56d00f",
   "metadata": {},
   "outputs": [],
   "source": [
    " a=5\n",
    "b=7"
   ]
  },
  {
   "cell_type": "code",
   "execution_count": 37,
   "id": "6f3ec410",
   "metadata": {},
   "outputs": [
    {
     "data": {
      "text/plain": [
       "False"
      ]
     },
     "execution_count": 37,
     "metadata": {},
     "output_type": "execute_result"
    }
   ],
   "source": [
    "a is b"
   ]
  },
  {
   "cell_type": "code",
   "execution_count": 38,
   "id": "4ab179bd",
   "metadata": {},
   "outputs": [],
   "source": [
    "c=5"
   ]
  },
  {
   "cell_type": "code",
   "execution_count": 39,
   "id": "7c92b91a",
   "metadata": {},
   "outputs": [
    {
     "data": {
      "text/plain": [
       "True"
      ]
     },
     "execution_count": 39,
     "metadata": {},
     "output_type": "execute_result"
    }
   ],
   "source": [
    "a is c"
   ]
  },
  {
   "cell_type": "code",
   "execution_count": 40,
   "id": "536f6e75",
   "metadata": {},
   "outputs": [
    {
     "name": "stdout",
     "output_type": "stream",
     "text": [
      "True\n"
     ]
    }
   ],
   "source": [
    "print( a is c)"
   ]
  },
  {
   "cell_type": "code",
   "execution_count": 41,
   "id": "e5d29aa2",
   "metadata": {},
   "outputs": [
    {
     "name": "stdout",
     "output_type": "stream",
     "text": [
      "4369345768\n"
     ]
    }
   ],
   "source": [
    "print(id(a))\n",
    "\n"
   ]
  },
  {
   "cell_type": "code",
   "execution_count": 42,
   "id": "a4e68784",
   "metadata": {},
   "outputs": [
    {
     "name": "stdout",
     "output_type": "stream",
     "text": [
      "4369345768\n"
     ]
    }
   ],
   "source": [
    "print(id(c))"
   ]
  },
  {
   "cell_type": "markdown",
   "id": "0a193b5b",
   "metadata": {},
   "source": [
    "When you define a variable python assigns an address to that variable and store the value.\n",
    "\n",
    "It is very different from other languages in other languages if you assign the value of 'a' then everything happens inside that values"
   ]
  },
  {
   "cell_type": "code",
   "execution_count": 43,
   "id": "e24c6436",
   "metadata": {},
   "outputs": [],
   "source": [
    " str1,str2='ravi','gurjar'"
   ]
  },
  {
   "cell_type": "code",
   "execution_count": 44,
   "id": "f9d33b91",
   "metadata": {},
   "outputs": [
    {
     "data": {
      "text/plain": [
       "4615199344"
      ]
     },
     "execution_count": 44,
     "metadata": {},
     "output_type": "execute_result"
    }
   ],
   "source": [
    "id(str1)"
   ]
  },
  {
   "cell_type": "code",
   "execution_count": 45,
   "id": "3f218918",
   "metadata": {},
   "outputs": [
    {
     "data": {
      "text/plain": [
       "4615197168"
      ]
     },
     "execution_count": 45,
     "metadata": {},
     "output_type": "execute_result"
    }
   ],
   "source": [
    "id(str2)"
   ]
  },
  {
   "cell_type": "code",
   "execution_count": 49,
   "id": "2bbcc8bd",
   "metadata": {},
   "outputs": [],
   "source": [
    "str1='ravi'\n",
    "str2='ravi'"
   ]
  },
  {
   "cell_type": "code",
   "execution_count": 50,
   "id": "1c84e4c7",
   "metadata": {},
   "outputs": [
    {
     "data": {
      "text/plain": [
       "(4615199344, 4615199344)"
      ]
     },
     "execution_count": 50,
     "metadata": {},
     "output_type": "execute_result"
    }
   ],
   "source": [
    "id(str1),id(str2)"
   ]
  },
  {
   "cell_type": "code",
   "execution_count": 51,
   "id": "b1b25d5d",
   "metadata": {},
   "outputs": [
    {
     "data": {
      "text/plain": [
       "True"
      ]
     },
     "execution_count": 51,
     "metadata": {},
     "output_type": "execute_result"
    }
   ],
   "source": [
    "str1 is str2"
   ]
  },
  {
   "cell_type": "markdown",
   "id": "9e465d36",
   "metadata": {},
   "source": [
    "## Membership operators\n",
    "\n",
    "\n",
    "Membership operators in Python are used to test for membership in a sequence, such as strings, lists, or tuples. Python provides two membership operators:\n",
    "\n",
    "1. **in**: Returns True if a specified value is found in the sequence, False otherwise.\n",
    "2. **not in**: Returns True if a specified value is not found in the sequence, False otherwise.\n",
    "\n",
    "Here's a brief example to illustrate the usage:\n",
    "\n",
    "```python\n",
    "my_list = [1, 2, 3, 4, 5]\n",
    "\n",
    "print(3 in my_list)      # True, because 3 is present in my_list\n",
    "print(6 in my_list)      # False, because 6 is not present in my_list\n",
    "print(3 not in my_list)  # False, because 3 is present in my_list\n",
    "print(6 not in my_list)  # True, because 6 is not present in my_list\n",
    "```\n",
    "\n",
    "Membership operators are handy for checking whether a particular element exists in a sequence before performing operations on it, thereby avoiding potential errors or unexpected behavior. They are commonly used in conditional statements or loops to control the flow of the program based on the presence or absence of specific elements in a sequence."
   ]
  },
  {
   "cell_type": "code",
   "execution_count": 52,
   "id": "f60797ff",
   "metadata": {},
   "outputs": [],
   "source": [
    " orders=['poha','dosa','halwa']"
   ]
  },
  {
   "cell_type": "code",
   "execution_count": 53,
   "id": "b7672cc1",
   "metadata": {},
   "outputs": [
    {
     "data": {
      "text/plain": [
       "True"
      ]
     },
     "execution_count": 53,
     "metadata": {},
     "output_type": "execute_result"
    }
   ],
   "source": [
    "'halwa' in orders"
   ]
  },
  {
   "cell_type": "code",
   "execution_count": 55,
   "id": "9ef658ac",
   "metadata": {},
   "outputs": [
    {
     "data": {
      "text/plain": [
       "True"
      ]
     },
     "execution_count": 55,
     "metadata": {},
     "output_type": "execute_result"
    }
   ],
   "source": [
    "'poha' in orders and 'halwa' in orders"
   ]
  },
  {
   "cell_type": "code",
   "execution_count": 56,
   "id": "860c0021",
   "metadata": {},
   "outputs": [
    {
     "data": {
      "text/plain": [
       "('poha', True)"
      ]
     },
     "execution_count": 56,
     "metadata": {},
     "output_type": "execute_result"
    }
   ],
   "source": [
    "'poha','halwa' in orders"
   ]
  },
  {
   "cell_type": "code",
   "execution_count": 57,
   "id": "f04b2fe3",
   "metadata": {},
   "outputs": [
    {
     "data": {
      "text/plain": [
       "True"
      ]
     },
     "execution_count": 57,
     "metadata": {},
     "output_type": "execute_result"
    }
   ],
   "source": [
    "'halwa' in orders and 'poha' in orders"
   ]
  },
  {
   "cell_type": "markdown",
   "id": "b85825e8",
   "metadata": {},
   "source": [
    "#  Precedence of operators\n",
    "\n",
    "\n",
    "In Python, operators have precedence, which determines the order in which they are evaluated within an expression. Operators with higher precedence are evaluated before operators with lower precedence. If operators have the same precedence, they are evaluated from left to right (except for exponentiation, which is evaluated from right to left).\n",
    "\n",
    "\n",
    "Here's a general overview of operator precedence in Python, from highest to lowest:\n",
    "\n",
    "\n",
    "1. Parentheses `()`: Highest precedence. Expressions within parentheses are evaluated first.\n",
    "\n",
    "2. Exponentiation `**`: Second-highest precedence. Right-associative (evaluated from right to left).\n",
    "\n",
    "3. Unary plus `+` and unary minus `-`: Unary operators for positive and negative numbers.\n",
    "\n",
    "4. Multiplication `*`, Division `/`, Floor division `//`, and Modulus `%`: Multiplicative operators.\n",
    "\n",
    "5. Addition `+` and Subtraction `-`: Additive operators.\n",
    "\n",
    "6. Bitwise left shift `<<` and Bitwise right shift `>>`: Shift operators.\n",
    "\n",
    "7. Bitwise AND `&`, Bitwise OR `|`, and Bitwise XOR `^`: Bitwise operators.\n",
    "\n",
    "8. Comparison operators: `<`, `<=`, `>`, `>=`, `==`, `!=`, `is`, `is not`, `in`, `not in`.\n",
    "\n",
    "9. Boolean NOT `not`: Unary logical operator.\n",
    "\n",
    "10. Boolean AND `and`: Logical AND operator.\n",
    "\n",
    "11. Boolean OR `or`: Logical OR operator.\n",
    "\n",
    "\n",
    "\n",
    "Operators within the same level of precedence are evaluated from left to right. However, it's good practice to use parentheses to explicitly specify the order of evaluation and make the code more readable when there is potential ambiguity or to enforce a specific evaluation order.\n",
    "\n",
    "Here's a quick example demonstrating precedence:\n",
    "\n",
    "```python\n",
    "result = 2 + 3 * 4\n",
    "# The multiplication (3 * 4) has higher precedence than addition (2 + ...),\n",
    "# so it's evaluated first: 2 + (3 * 4) = 2 + 12 = 14\n",
    "print(result)  # Output: 14\n",
    "```"
   ]
  },
  {
   "cell_type": "markdown",
   "id": "20611587",
   "metadata": {},
   "source": [
    "## Associativity\n",
    "\n",
    "In Python, associativity refers to the order in which operators of the same precedence are evaluated when they appear consecutively in an expression. Most operators in Python are left-associative, meaning they are evaluated from left to right. However, there are a few exceptions:\n",
    "\n",
    "1. Exponentiation (`**`): Right-associative, meaning it's evaluated from right to left.\n",
    "\n",
    "2. Assignment operators (`=`, `+=`, `-=` etc.): Right-associative as well, which means assignments are evaluated from right to left.\n",
    "\n",
    "Here's a brief explanation:\n",
    "\n",
    "- **Left-associative operators**: Operators that are left-associative are evaluated from left to right. For example, addition (`+`), subtraction (`-`), multiplication (`*`), division (`/`), bitwise AND (`&`), bitwise OR (`|`), logical AND (`and`), logical OR (`or`), etc., are left-associative.\n",
    "\n",
    "- **Right-associative operators**: Operators that are right-associative are evaluated from right to left. For example, exponentiation (`**`), and assignment operators (`=`, `+=`, `-=` etc.), are right-associative.\n",
    "\n",
    "Here's a quick example demonstrating the associativity:\n",
    "\n",
    "```python\n",
    "result = 2 ** 3 ** 2\n",
    "# Exponentiation is right-associative, so it's evaluated from right to left:\n",
    "# 3 ** 2 = 9, then 2 ** 9 = 512\n",
    "print(result)  # Output: 512\n",
    "```\n",
    "\n",
    "Regarding assignment operators:\n",
    "\n",
    "```python\n",
    "a = b = 5\n",
    "# This is evaluated as b = 5, and then a = b.\n",
    "print(a, b)  # Output: 5 5\n",
    "```\n",
    "\n",
    "Understanding operator associativity is essential for predicting the order of evaluation in complex expressions and ensuring the expected behavior of your code."
   ]
  },
  {
   "cell_type": "code",
   "execution_count": 59,
   "id": "2f7b3e73",
   "metadata": {},
   "outputs": [
    {
     "data": {
      "text/plain": [
       "512"
      ]
     },
     "execution_count": 59,
     "metadata": {},
     "output_type": "execute_result"
    }
   ],
   "source": [
    "2**3**2      # The reason of it becausse it start from right to left and 3 ki power 2 is 9. then 2 ki power 9 is"
   ]
  },
  {
   "cell_type": "code",
   "execution_count": 60,
   "id": "498e95db",
   "metadata": {},
   "outputs": [
    {
     "data": {
      "text/plain": [
       "5.0"
      ]
     },
     "execution_count": 60,
     "metadata": {},
     "output_type": "execute_result"
    }
   ],
   "source": [
    "# in case of \n",
    "250/10/5\n",
    "# There are two answers i.e 5 and 125 to solve this ambiguity we have came across this associativity"
   ]
  },
  {
   "cell_type": "code",
   "execution_count": 61,
   "id": "006c2b41",
   "metadata": {},
   "outputs": [
    {
     "data": {
      "text/plain": [
       "512"
      ]
     },
     "execution_count": 61,
     "metadata": {},
     "output_type": "execute_result"
    }
   ],
   "source": [
    "2**3**2"
   ]
  },
  {
   "cell_type": "code",
   "execution_count": 63,
   "id": "66935563",
   "metadata": {},
   "outputs": [
    {
     "data": {
      "text/plain": [
       "'b'"
      ]
     },
     "execution_count": 63,
     "metadata": {},
     "output_type": "execute_result"
    }
   ],
   "source": [
    "'ravi' and 'a' and 'b' or 'c' and 'd'"
   ]
  },
  {
   "cell_type": "code",
   "execution_count": 64,
   "id": "e42586b2",
   "metadata": {},
   "outputs": [],
   "source": [
    "# WAP write a function to take 2 numbers from user and add them"
   ]
  },
  {
   "cell_type": "code",
   "execution_count": 66,
   "id": "9e100851",
   "metadata": {},
   "outputs": [
    {
     "name": "stdout",
     "output_type": "stream",
     "text": [
      "write first number  -6476558\n",
      "write second number  -69698698\n",
      "76175256\n"
     ]
    }
   ],
   "source": [
    "a=int(input('write first number  -'))\n",
    "b=int(input('write second number  -'))\n",
    "print(a+b)"
   ]
  },
  {
   "cell_type": "code",
   "execution_count": 67,
   "id": "6e2cba8a",
   "metadata": {},
   "outputs": [
    {
     "data": {
      "text/plain": [
       "(6476558, 69698698)"
      ]
     },
     "execution_count": 67,
     "metadata": {},
     "output_type": "execute_result"
    }
   ],
   "source": [
    "a,b"
   ]
  },
  {
   "cell_type": "code",
   "execution_count": 68,
   "id": "a0a940d8",
   "metadata": {},
   "outputs": [
    {
     "ename": "AttributeError",
     "evalue": "'int' object has no attribute 'split'",
     "output_type": "error",
     "traceback": [
      "\u001b[0;31m---------------------------------------------------------------------------\u001b[0m",
      "\u001b[0;31mAttributeError\u001b[0m                            Traceback (most recent call last)",
      "Cell \u001b[0;32mIn[68], line 1\u001b[0m\n\u001b[0;32m----> 1\u001b[0m a\u001b[38;5;241m.\u001b[39msplit()\n",
      "\u001b[0;31mAttributeError\u001b[0m: 'int' object has no attribute 'split'"
     ]
    }
   ],
   "source": [
    "a.split()"
   ]
  },
  {
   "cell_type": "markdown",
   "id": "4cb61a3c",
   "metadata": {},
   "source": [
    "### WAP to take input from user his,age,name, and show output as \n",
    "\n",
    "1. name in opposite direction ( reversed)\n",
    "2. age as how many years left in turning 100\n",
    "3. marks as how much are they out of 100"
   ]
  },
  {
   "cell_type": "code",
   "execution_count": 77,
   "id": "53b921af",
   "metadata": {},
   "outputs": [
    {
     "name": "stdout",
     "output_type": "stream",
     "text": [
      "write your name-ravindra\n",
      "write your age-27\n",
      "write your marks out of 100-99\n",
      "ardnivar\n"
     ]
    },
    {
     "ename": "TypeError",
     "evalue": "'age' is an invalid keyword argument for print()",
     "output_type": "error",
     "traceback": [
      "\u001b[0;31m---------------------------------------------------------------------------\u001b[0m",
      "\u001b[0;31mTypeError\u001b[0m                                 Traceback (most recent call last)",
      "Cell \u001b[0;32mIn[77], line 5\u001b[0m\n\u001b[1;32m      3\u001b[0m marks\u001b[38;5;241m=\u001b[39m\u001b[38;5;28mint\u001b[39m(\u001b[38;5;28minput\u001b[39m(\u001b[38;5;124m'\u001b[39m\u001b[38;5;124mwrite your marks out of 100-\u001b[39m\u001b[38;5;124m'\u001b[39m))\n\u001b[1;32m      4\u001b[0m \u001b[38;5;28mprint\u001b[39m(name[::\u001b[38;5;241m-\u001b[39m\u001b[38;5;241m1\u001b[39m])\n\u001b[0;32m----> 5\u001b[0m \u001b[38;5;28mprint\u001b[39m(age \u001b[38;5;241m=\u001b[39m \u001b[38;5;241m100\u001b[39m \u001b[38;5;241m-\u001b[39m age)\n\u001b[1;32m      6\u001b[0m marks\n",
      "\u001b[0;31mTypeError\u001b[0m: 'age' is an invalid keyword argument for print()"
     ]
    }
   ],
   "source": [
    "name=input('write your name-')\n",
    "age=int(input('write your age-'))\n",
    "marks=int(input('write your marks out of 100-'))\n",
    "print(name[::-1])\n",
    "print(age = 100 - age)\n",
    "marks"
   ]
  },
  {
   "cell_type": "code",
   "execution_count": 78,
   "id": "71bcc99a",
   "metadata": {},
   "outputs": [
    {
     "name": "stdout",
     "output_type": "stream",
     "text": [
      "write your name-ravi\n",
      "write your age-25\n",
      "write your marks out of 100-99\n",
      "ivar\n",
      "75\n"
     ]
    },
    {
     "data": {
      "text/plain": [
       "99"
      ]
     },
     "execution_count": 78,
     "metadata": {},
     "output_type": "execute_result"
    }
   ],
   "source": [
    "name=input('write your name-')\n",
    "age=int(input('write your age-'))\n",
    "marks=int(input('write your marks out of 100-'))\n",
    "c= 100-age\n",
    "print(name[::-1])\n",
    "print(c)\n",
    "marks"
   ]
  },
  {
   "cell_type": "code",
   "execution_count": null,
   "id": "7a380491",
   "metadata": {},
   "outputs": [],
   "source": []
  }
 ],
 "metadata": {
  "kernelspec": {
   "display_name": "Python 3 (ipykernel)",
   "language": "python",
   "name": "python3"
  },
  "language_info": {
   "codemirror_mode": {
    "name": "ipython",
    "version": 3
   },
   "file_extension": ".py",
   "mimetype": "text/x-python",
   "name": "python",
   "nbconvert_exporter": "python",
   "pygments_lexer": "ipython3",
   "version": "3.11.7"
  }
 },
 "nbformat": 4,
 "nbformat_minor": 5
}
