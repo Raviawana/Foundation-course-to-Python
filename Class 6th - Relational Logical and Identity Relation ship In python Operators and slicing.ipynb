{
 "cells": [
  {
   "cell_type": "markdown",
   "id": "54835d71",
   "metadata": {},
   "source": [
    "## Few concepts of slicing"
   ]
  },
  {
   "cell_type": "code",
   "execution_count": 2,
   "id": "8d19d519",
   "metadata": {},
   "outputs": [],
   "source": [
    "# Using positive and negative value inside slicing"
   ]
  },
  {
   "cell_type": "code",
   "execution_count": 3,
   "id": "815677bd",
   "metadata": {},
   "outputs": [],
   "source": [
    "s='python'"
   ]
  },
  {
   "cell_type": "code",
   "execution_count": 4,
   "id": "5fc9baf8",
   "metadata": {},
   "outputs": [
    {
     "data": {
      "text/plain": [
       "'th'"
      ]
     },
     "execution_count": 4,
     "metadata": {},
     "output_type": "execute_result"
    }
   ],
   "source": [
    "s[-4:4]"
   ]
  },
  {
   "cell_type": "code",
   "execution_count": 5,
   "id": "6a5d7c55",
   "metadata": {},
   "outputs": [
    {
     "data": {
      "text/plain": [
       "'th'"
      ]
     },
     "execution_count": 5,
     "metadata": {},
     "output_type": "execute_result"
    }
   ],
   "source": [
    "s[-4:-2]"
   ]
  },
  {
   "cell_type": "code",
   "execution_count": 6,
   "id": "7180e928",
   "metadata": {},
   "outputs": [
    {
     "data": {
      "text/plain": [
       "'th'"
      ]
     },
     "execution_count": 6,
     "metadata": {},
     "output_type": "execute_result"
    }
   ],
   "source": [
    "s[2:4]"
   ]
  },
  {
   "cell_type": "code",
   "execution_count": 7,
   "id": "2762f27d",
   "metadata": {},
   "outputs": [
    {
     "data": {
      "text/plain": [
       "'nohty'"
      ]
     },
     "execution_count": 7,
     "metadata": {},
     "output_type": "execute_result"
    }
   ],
   "source": [
    "s[-1:-6:-1]"
   ]
  },
  {
   "cell_type": "markdown",
   "id": "e809318a",
   "metadata": {},
   "source": [
    "When positive and negative indexes are used together,just convert to positive fully or negative fully or just set start and end based on provided index."
   ]
  },
  {
   "cell_type": "code",
   "execution_count": 8,
   "id": "b4220491",
   "metadata": {},
   "outputs": [
    {
     "data": {
      "text/plain": [
       "'python'"
      ]
     },
     "execution_count": 8,
     "metadata": {},
     "output_type": "execute_result"
    }
   ],
   "source": [
    "s "
   ]
  },
  {
   "cell_type": "code",
   "execution_count": 9,
   "id": "e5af3c24",
   "metadata": {},
   "outputs": [
    {
     "data": {
      "text/plain": [
       "'pyt'"
      ]
     },
     "execution_count": 9,
     "metadata": {},
     "output_type": "execute_result"
    }
   ],
   "source": [
    "s[0:3]"
   ]
  },
  {
   "cell_type": "code",
   "execution_count": 10,
   "id": "1ec296a1",
   "metadata": {},
   "outputs": [
    {
     "data": {
      "text/plain": [
       "'py'"
      ]
     },
     "execution_count": 10,
     "metadata": {},
     "output_type": "execute_result"
    }
   ],
   "source": [
    "s[0:3][0:2]"
   ]
  },
  {
   "cell_type": "markdown",
   "id": "5be62865",
   "metadata": {},
   "source": [
    "# Relational operators\n",
    "\n",
    "\n",
    "Relational operators are used to compare two values and determine the relationship between them. These operators return a Boolean value (True or False) based on the comparison result. Here are the relational operators in Python:\n",
    "\n",
    "1.Equal to (==): Checks if the values and type of two operands are equal.Example:\n",
    "python\n",
    "\n",
    "\n",
    "\n",
    "x = 5\n",
    "\n",
    "\n",
    "y = 5\n",
    "\n",
    "print(x == y)  # Output: True\n",
    "\n",
    "\n",
    "2.Not equal to (!=): Checks if the values of two operands are not equal.Example:\n",
    "python\n",
    "\n",
    "\n",
    "x = 5\n",
    "\n",
    "y = 6\n",
    "\n",
    "print(x != y)  # Output: True\n",
    "\n",
    "\n",
    "3.Greater than (>): Checks if the value of the left operand is greater than the value of the right operand.Example:\n",
    "python\n",
    "\n",
    "\n",
    "x = 6\n",
    "\n",
    "y = 5\n",
    "\n",
    "print(x > y)  # Output: True\n",
    "\n",
    "\n",
    "5.Less than (<): Checks if the value of the left operand is less than the value of the right operand.Example:\n",
    "python\n",
    "\n",
    "x = 4\n",
    "\n",
    "y = 5\n",
    "\n",
    "print(x < y)  # Output: True\n",
    "\n",
    "\n",
    "6.Greater than or equal to (>=): Checks if the value of the left operand is greater than or equal to the value of the right operand.Example:\n",
    "python\n",
    "\n",
    "x = 6\n",
    "\n",
    "y = 5\n",
    "\n",
    "print(x >= y)  # Output: True\n",
    "\n",
    "\n",
    "7.Less than or equal to (<=): Checks if the value of the left operand is less than or equal to the value of the right operand.Example:\n",
    "python\n",
    "\n",
    "x = 4\n",
    "\n",
    "y = 5\n",
    "\n",
    "print(x <= y)  # Output: True\n",
    "\n",
    "\n",
    "These operators are commonly used in conditional statements and loops to control the flow of a program based on certain conditions.\n",
    "\n",
    "\n",
    "\n"
   ]
  },
  {
   "cell_type": "code",
   "execution_count": 11,
   "id": "0087cc52",
   "metadata": {},
   "outputs": [],
   "source": [
    "# In less than and grater than how comparision happens."
   ]
  },
  {
   "cell_type": "code",
   "execution_count": 12,
   "id": "634811b4",
   "metadata": {},
   "outputs": [],
   "source": [
    "a='abc'\n",
    "b='x'"
   ]
  },
  {
   "cell_type": "code",
   "execution_count": 14,
   "id": "d3ef0784",
   "metadata": {},
   "outputs": [
    {
     "data": {
      "text/plain": [
       "False"
      ]
     },
     "execution_count": 14,
     "metadata": {},
     "output_type": "execute_result"
    }
   ],
   "source": [
    "a>b"
   ]
  },
  {
   "cell_type": "markdown",
   "id": "ac9cfbbd",
   "metadata": {},
   "source": [
    "In this it takes first value of both strings and compare their ASCII and unicode values,if equal it takes another character from both strings and compare it.\n",
    "\n",
    "\n",
    "Why not sum 'abc' ASCII?\n",
    "\n",
    "\n",
    "Because we do lexiographic comparision"
   ]
  },
  {
   "cell_type": "code",
   "execution_count": 17,
   "id": "9a26eee8",
   "metadata": {},
   "outputs": [
    {
     "data": {
      "text/plain": [
       "True"
      ]
     },
     "execution_count": 17,
     "metadata": {},
     "output_type": "execute_result"
    }
   ],
   "source": [
    " 'abc'<'ade' # a=97 ,a=97     b=98,d=100 hence "
   ]
  },
  {
   "cell_type": "code",
   "execution_count": 21,
   "id": "d6cafe02",
   "metadata": {},
   "outputs": [
    {
     "data": {
      "text/plain": [
       "True"
      ]
     },
     "execution_count": 21,
     "metadata": {},
     "output_type": "execute_result"
    }
   ],
   "source": [
    "'g'>'6+4'"
   ]
  },
  {
   "cell_type": "code",
   "execution_count": 22,
   "id": "e3bc91f1",
   "metadata": {},
   "outputs": [],
   "source": [
    "# The above example is true because both of these values are string not integer"
   ]
  },
  {
   "cell_type": "markdown",
   "id": "aa39c526",
   "metadata": {},
   "source": [
    "# Nesting of relational operators"
   ]
  },
  {
   "cell_type": "markdown",
   "id": "cc1be6d2",
   "metadata": {},
   "source": [
    "## Chain relational operators \n",
    "\n",
    "1<2<3\n",
    "\n",
    "It evaluates each expression individually and return true if all are true else false"
   ]
  },
  {
   "cell_type": "code",
   "execution_count": 24,
   "id": "c7da4c1b",
   "metadata": {},
   "outputs": [
    {
     "data": {
      "text/plain": [
       "True"
      ]
     },
     "execution_count": 24,
     "metadata": {},
     "output_type": "execute_result"
    }
   ],
   "source": [
    " '2'>'1'>'0'"
   ]
  },
  {
   "cell_type": "code",
   "execution_count": 25,
   "id": "45e5996f",
   "metadata": {},
   "outputs": [
    {
     "data": {
      "text/plain": [
       "True"
      ]
     },
     "execution_count": 25,
     "metadata": {},
     "output_type": "execute_result"
    }
   ],
   "source": [
    "'4'<'5'<'7'"
   ]
  },
  {
   "cell_type": "code",
   "execution_count": 26,
   "id": "57c51161",
   "metadata": {},
   "outputs": [
    {
     "name": "stdout",
     "output_type": "stream",
     "text": [
      "False\n"
     ]
    }
   ],
   "source": [
    " print('a'>'b'>'c')"
   ]
  },
  {
   "cell_type": "code",
   "execution_count": 27,
   "id": "38aa93e6",
   "metadata": {},
   "outputs": [
    {
     "data": {
      "text/plain": [
       "False"
      ]
     },
     "execution_count": 27,
     "metadata": {},
     "output_type": "execute_result"
    }
   ],
   "source": [
    "'5'==5  "
   ]
  },
  {
   "cell_type": "code",
   "execution_count": 28,
   "id": "a303fd2c",
   "metadata": {},
   "outputs": [
    {
     "data": {
      "text/plain": [
       "True"
      ]
     },
     "execution_count": 28,
     "metadata": {},
     "output_type": "execute_result"
    }
   ],
   "source": [
    "True == 1"
   ]
  },
  {
   "cell_type": "markdown",
   "id": "90d3b51c",
   "metadata": {},
   "source": [
    "# Logical operations\n",
    "\n",
    "Logical operations are used to manipulate boolean values (True and False). Python provides three main logical operators:\n",
    "\n",
    "1. AND (and): The and operator returns True if both operands are True, otherwise, it returns False.Example:"
   ]
  },
  {
   "cell_type": "code",
   "execution_count": 29,
   "id": "c9d63234",
   "metadata": {},
   "outputs": [
    {
     "name": "stdout",
     "output_type": "stream",
     "text": [
      "False\n"
     ]
    }
   ],
   "source": [
    "x = True\n",
    "y = False\n",
    "print(x and y)"
   ]
  },
  {
   "cell_type": "code",
   "execution_count": 32,
   "id": "85e7d39f",
   "metadata": {},
   "outputs": [
    {
     "data": {
      "text/plain": [
       "True"
      ]
     },
     "execution_count": 32,
     "metadata": {},
     "output_type": "execute_result"
    }
   ],
   "source": [
    "'a'>'A' and 5>4 and True>False"
   ]
  },
  {
   "cell_type": "markdown",
   "id": "43a87681",
   "metadata": {},
   "source": [
    "2. OR (or): The or operator returns True if at least one of the operands is True, otherwise, it returns False.Example:"
   ]
  },
  {
   "cell_type": "code",
   "execution_count": 33,
   "id": "65970296",
   "metadata": {},
   "outputs": [
    {
     "name": "stdout",
     "output_type": "stream",
     "text": [
      "True\n"
     ]
    }
   ],
   "source": [
    "x = True\n",
    "y = False\n",
    "print(x or y)"
   ]
  },
  {
   "cell_type": "code",
   "execution_count": 34,
   "id": "58848d5f",
   "metadata": {},
   "outputs": [
    {
     "name": "stdout",
     "output_type": "stream",
     "text": [
      "True\n"
     ]
    },
    {
     "data": {
      "text/plain": [
       "True"
      ]
     },
     "execution_count": 34,
     "metadata": {},
     "output_type": "execute_result"
    }
   ],
   "source": [
    "x = True\n",
    "y = False\n",
    "not (print(x or y))"
   ]
  },
  {
   "cell_type": "markdown",
   "id": "e08011f9",
   "metadata": {},
   "source": [
    "3. NOT (not): The not operator returns the opposite boolean value of its operand. If the operand is True, it returns False, and if the operand is False, it returns True.Example:"
   ]
  },
  {
   "cell_type": "code",
   "execution_count": 31,
   "id": "caa22e49",
   "metadata": {},
   "outputs": [
    {
     "name": "stdout",
     "output_type": "stream",
     "text": [
      "False\n"
     ]
    }
   ],
   "source": [
    "x = True\n",
    "print(not x)  # Output: False\n"
   ]
  },
  {
   "cell_type": "markdown",
   "id": "5367add6",
   "metadata": {},
   "source": [
    "# Logical operators on non boolean values.\n",
    "\n",
    "'AND'\n",
    "\n",
    "If first value is FALSE, then your 'and' operator will return 1st value else 2nd value will be returned"
   ]
  },
  {
   "cell_type": "code",
   "execution_count": 35,
   "id": "09ac5828",
   "metadata": {},
   "outputs": [
    {
     "data": {
      "text/plain": [
       "0"
      ]
     },
     "execution_count": 35,
     "metadata": {},
     "output_type": "execute_result"
    }
   ],
   "source": [
    " 0 and 5"
   ]
  },
  {
   "cell_type": "code",
   "execution_count": 36,
   "id": "177066eb",
   "metadata": {},
   "outputs": [
    {
     "data": {
      "text/plain": [
       "0"
      ]
     },
     "execution_count": 36,
     "metadata": {},
     "output_type": "execute_result"
    }
   ],
   "source": [
    "5 and 0"
   ]
  },
  {
   "cell_type": "code",
   "execution_count": 37,
   "id": "6de7b04c",
   "metadata": {},
   "outputs": [
    {
     "data": {
      "text/plain": [
       "0"
      ]
     },
     "execution_count": 37,
     "metadata": {},
     "output_type": "execute_result"
    }
   ],
   "source": [
    "2 and 8 and 4 and 0"
   ]
  },
  {
   "cell_type": "code",
   "execution_count": 38,
   "id": "8e03f6f9",
   "metadata": {},
   "outputs": [
    {
     "data": {
      "text/plain": [
       "'ravi'"
      ]
     },
     "execution_count": 38,
     "metadata": {},
     "output_type": "execute_result"
    }
   ],
   "source": [
    "5 and 'ravi'"
   ]
  },
  {
   "cell_type": "code",
   "execution_count": 39,
   "id": "46e4d967",
   "metadata": {},
   "outputs": [
    {
     "data": {
      "text/plain": [
       "'ravi2'"
      ]
     },
     "execution_count": 39,
     "metadata": {},
     "output_type": "execute_result"
    }
   ],
   "source": [
    " 'ravi1 ' and 'ravi2'"
   ]
  },
  {
   "cell_type": "code",
   "execution_count": 40,
   "id": "62041c90",
   "metadata": {},
   "outputs": [
    {
     "data": {
      "text/plain": [
       "'ravi3'"
      ]
     },
     "execution_count": 40,
     "metadata": {},
     "output_type": "execute_result"
    }
   ],
   "source": [
    "'ravi1' and 'ravi2' and 'ravi3'"
   ]
  },
  {
   "cell_type": "code",
   "execution_count": 41,
   "id": "03bd157a",
   "metadata": {},
   "outputs": [
    {
     "data": {
      "text/plain": [
       "0"
      ]
     },
     "execution_count": 41,
     "metadata": {},
     "output_type": "execute_result"
    }
   ],
   "source": [
    "0 and 'anything'"
   ]
  },
  {
   "cell_type": "code",
   "execution_count": 42,
   "id": "38ecd02d",
   "metadata": {},
   "outputs": [
    {
     "data": {
      "text/plain": [
       "0"
      ]
     },
     "execution_count": 42,
     "metadata": {},
     "output_type": "execute_result"
    }
   ],
   "source": [
    "'everything' and 0"
   ]
  },
  {
   "cell_type": "code",
   "execution_count": 43,
   "id": "2b9988ff",
   "metadata": {},
   "outputs": [
    {
     "data": {
      "text/plain": [
       "'everything2'"
      ]
     },
     "execution_count": 43,
     "metadata": {},
     "output_type": "execute_result"
    }
   ],
   "source": [
    "'everything1' and 'everything2'"
   ]
  },
  {
   "cell_type": "markdown",
   "id": "7f59b35f",
   "metadata": {},
   "source": [
    "# OR"
   ]
  },
  {
   "cell_type": "markdown",
   "id": "60d4ef10",
   "metadata": {},
   "source": [
    "Return first value if it is True \n",
    "\n",
    "else return second value\n",
    "\n",
    "it is opposite to 'and' operator"
   ]
  },
  {
   "cell_type": "code",
   "execution_count": 44,
   "id": "ab2cf45b",
   "metadata": {},
   "outputs": [
    {
     "data": {
      "text/plain": [
       "'True'"
      ]
     },
     "execution_count": 44,
     "metadata": {},
     "output_type": "execute_result"
    }
   ],
   "source": [
    " 'True' or 'something else'"
   ]
  },
  {
   "cell_type": "code",
   "execution_count": 45,
   "id": "59a7b920",
   "metadata": {},
   "outputs": [
    {
     "data": {
      "text/plain": [
       "'something else'"
      ]
     },
     "execution_count": 45,
     "metadata": {},
     "output_type": "execute_result"
    }
   ],
   "source": [
    "\"something else\" or 'True'"
   ]
  },
  {
   "cell_type": "code",
   "execution_count": 47,
   "id": "d938ab0a",
   "metadata": {},
   "outputs": [
    {
     "data": {
      "text/plain": [
       "'True'"
      ]
     },
     "execution_count": 47,
     "metadata": {},
     "output_type": "execute_result"
    }
   ],
   "source": [
    "False or 'True'"
   ]
  },
  {
   "cell_type": "code",
   "execution_count": 48,
   "id": "c0fd7967",
   "metadata": {},
   "outputs": [
    {
     "data": {
      "text/plain": [
       "'my answer'"
      ]
     },
     "execution_count": 48,
     "metadata": {},
     "output_type": "execute_result"
    }
   ],
   "source": [
    "None or 'my answer'"
   ]
  },
  {
   "cell_type": "markdown",
   "id": "fd58bb63",
   "metadata": {},
   "source": [
    " # Not operator on non boolean types\n",
    " \n",
    " If your operand is False (any form) it return True\n",
    "\n",
    " else if operand is True  it returns False"
   ]
  },
  {
   "cell_type": "markdown",
   "id": "cb1cf11b",
   "metadata": {},
   "source": [
    "### Not of all these values or any other values which is False is True :-> 0, 0.0, False, 0+0j, None, '', [ ], ( )"
   ]
  },
  {
   "cell_type": "code",
   "execution_count": 49,
   "id": "b6446f14",
   "metadata": {},
   "outputs": [
    {
     "data": {
      "text/plain": [
       "True"
      ]
     },
     "execution_count": 49,
     "metadata": {},
     "output_type": "execute_result"
    }
   ],
   "source": [
    "not None"
   ]
  },
  {
   "cell_type": "code",
   "execution_count": 52,
   "id": "c068c057",
   "metadata": {},
   "outputs": [
    {
     "data": {
      "text/plain": [
       "False"
      ]
     },
     "execution_count": 52,
     "metadata": {},
     "output_type": "execute_result"
    }
   ],
   "source": [
    " not 'False'"
   ]
  },
  {
   "cell_type": "markdown",
   "id": "bedb996e",
   "metadata": {},
   "source": [
    " # compound assignment operator"
   ]
  },
  {
   "cell_type": "code",
   "execution_count": 53,
   "id": "3fa6eab5",
   "metadata": {},
   "outputs": [],
   "source": [
    "a=5"
   ]
  },
  {
   "cell_type": "code",
   "execution_count": 54,
   "id": "541f46bc",
   "metadata": {},
   "outputs": [],
   "source": [
    "a+=5"
   ]
  },
  {
   "cell_type": "code",
   "execution_count": 58,
   "id": "8c2794ef",
   "metadata": {},
   "outputs": [
    {
     "data": {
      "text/plain": [
       "10"
      ]
     },
     "execution_count": 58,
     "metadata": {},
     "output_type": "execute_result"
    }
   ],
   "source": [
    "a"
   ]
  },
  {
   "cell_type": "code",
   "execution_count": 61,
   "id": "a1af1f99",
   "metadata": {},
   "outputs": [],
   "source": [
    "b=10\n",
    "b+=40"
   ]
  },
  {
   "cell_type": "code",
   "execution_count": null,
   "id": "29a0407f",
   "metadata": {},
   "outputs": [],
   "source": []
  },
  {
   "cell_type": "code",
   "execution_count": null,
   "id": "def70516",
   "metadata": {},
   "outputs": [],
   "source": []
  }
 ],
 "metadata": {
  "kernelspec": {
   "display_name": "Python 3 (ipykernel)",
   "language": "python",
   "name": "python3"
  },
  "language_info": {
   "codemirror_mode": {
    "name": "ipython",
    "version": 3
   },
   "file_extension": ".py",
   "mimetype": "text/x-python",
   "name": "python",
   "nbconvert_exporter": "python",
   "pygments_lexer": "ipython3",
   "version": "3.11.7"
  }
 },
 "nbformat": 4,
 "nbformat_minor": 5
}
