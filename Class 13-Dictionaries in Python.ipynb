{
 "cells": [
  {
   "cell_type": "markdown",
   "id": "e7d4093c",
   "metadata": {},
   "source": [
    "# Dictionaries  \n",
    "\n",
    "\n",
    "Dictionaries are orderd collection of data items.They store multiple items in a single variable Dictonaries items are Key Value pairs that are seprated by commas and enclosed with curly brackets i.e { }"
   ]
  },
  {
   "cell_type": "code",
   "execution_count": 4,
   "id": "b9270f36",
   "metadata": {},
   "outputs": [],
   "source": [
    "info={'key':'value'}"
   ]
  },
  {
   "cell_type": "code",
   "execution_count": 5,
   "id": "a6f34bee",
   "metadata": {},
   "outputs": [],
   "source": [
    "info={'name':'ravi'}"
   ]
  },
  {
   "cell_type": "code",
   "execution_count": 7,
   "id": "1ee8023d",
   "metadata": {},
   "outputs": [
    {
     "data": {
      "text/plain": [
       "'ravi'"
      ]
     },
     "execution_count": 7,
     "metadata": {},
     "output_type": "execute_result"
    }
   ],
   "source": [
    "info['name']"
   ]
  },
  {
   "cell_type": "code",
   "execution_count": 8,
   "id": "5b4645b0",
   "metadata": {},
   "outputs": [],
   "source": [
    "dict={'name':'ravi','age':'25','email':'ravigurjarrr@gmail.com'}"
   ]
  },
  {
   "cell_type": "code",
   "execution_count": 9,
   "id": "b9e811a3",
   "metadata": {},
   "outputs": [
    {
     "data": {
      "text/plain": [
       "'ravigurjarrr@gmail.com'"
      ]
     },
     "execution_count": 9,
     "metadata": {},
     "output_type": "execute_result"
    }
   ],
   "source": [
    "dict['email']"
   ]
  },
  {
   "cell_type": "code",
   "execution_count": 10,
   "id": "ed7b9a65",
   "metadata": {},
   "outputs": [],
   "source": [
    "# It support duplicate name but the last one will come"
   ]
  },
  {
   "cell_type": "code",
   "execution_count": 11,
   "id": "7c3f0bc5",
   "metadata": {},
   "outputs": [],
   "source": [
    "dict1={'name':'ravi','age':'25','email':'ravigurjarrr@gmail.com',}"
   ]
  },
  {
   "cell_type": "code",
   "execution_count": 12,
   "id": "78766325",
   "metadata": {},
   "outputs": [
    {
     "data": {
      "text/plain": [
       "'Rahul'"
      ]
     },
     "execution_count": 12,
     "metadata": {},
     "output_type": "execute_result"
    }
   ],
   "source": [
    "dict1['name']"
   ]
  },
  {
   "cell_type": "code",
   "execution_count": 13,
   "id": "31c7fc06",
   "metadata": {},
   "outputs": [],
   "source": [
    " # Phone nmber is not present in dict1 so there are ways to check\n",
    "    "
   ]
  },
  {
   "cell_type": "code",
   "execution_count": 14,
   "id": "ee522b7a",
   "metadata": {},
   "outputs": [
    {
     "ename": "KeyError",
     "evalue": "'phone'",
     "output_type": "error",
     "traceback": [
      "\u001b[0;31m---------------------------------------------------------------------------\u001b[0m",
      "\u001b[0;31mKeyError\u001b[0m                                  Traceback (most recent call last)",
      "Cell \u001b[0;32mIn[14], line 1\u001b[0m\n\u001b[0;32m----> 1\u001b[0m dict1[\u001b[38;5;124m'\u001b[39m\u001b[38;5;124mphone\u001b[39m\u001b[38;5;124m'\u001b[39m]\n",
      "\u001b[0;31mKeyError\u001b[0m: 'phone'"
     ]
    }
   ],
   "source": [
    "dict1['phone']"
   ]
  },
  {
   "cell_type": "code",
   "execution_count": 16,
   "id": "cd51a92e",
   "metadata": {},
   "outputs": [
    {
     "name": "stdout",
     "output_type": "stream",
     "text": [
      "None\n"
     ]
    }
   ],
   "source": [
    "print(dict1.get('phone'))      # It will check that the value pair is present or not"
   ]
  },
  {
   "cell_type": "code",
   "execution_count": 17,
   "id": "ab1e510a",
   "metadata": {},
   "outputs": [],
   "source": [
    "# If you add phone in dict2 then it will print the phone "
   ]
  },
  {
   "cell_type": "code",
   "execution_count": 18,
   "id": "ca40899f",
   "metadata": {},
   "outputs": [],
   "source": [
    "dict2={'name':'ravi','age':'25','email':'ravigurjarrr@gmail.com','name':'Rahul','phone':'9610738042'}"
   ]
  },
  {
   "cell_type": "code",
   "execution_count": 19,
   "id": "d3209ca1",
   "metadata": {},
   "outputs": [
    {
     "name": "stdout",
     "output_type": "stream",
     "text": [
      "9610738042\n"
     ]
    }
   ],
   "source": [
    "print(dict2.get('phone'))"
   ]
  },
  {
   "cell_type": "markdown",
   "id": "f4ce00e7",
   "metadata": {},
   "source": [
    "One dictionary can contain another dictionary for example"
   ]
  },
  {
   "cell_type": "code",
   "execution_count": 22,
   "id": "46ee7188",
   "metadata": {},
   "outputs": [],
   "source": [
    "contact_info = {\n",
    "    \"Alice\": {\n",
    "        \"phone\": \"555-1234\",\n",
    "        \"email\": \"alice@example.com\",\n",
    "        \"address\": \"123 Main St\"\n",
    "    },\n",
    "    \"Bob\": {\n",
    "        \"phone\": \"555-5678\",\n",
    "        \"email\": \"bob@example.com\",\n",
    "        \"address\": \"456 Elm St\"\n",
    "    },\n",
    "    \"Charlie\": {\n",
    "        \"phone\": \"555-9012\",\n",
    "        \"email\": \"charlie@example.com\",\n",
    "        \"address\": \"789 Oak St\"\n",
    "    }\n",
    "}\n"
   ]
  },
  {
   "cell_type": "code",
   "execution_count": 26,
   "id": "594a6887",
   "metadata": {},
   "outputs": [
    {
     "data": {
      "text/plain": [
       "{'phone': '555-1234', 'email': 'alice@example.com', 'address': '123 Main St'}"
      ]
     },
     "execution_count": 26,
     "metadata": {},
     "output_type": "execute_result"
    }
   ],
   "source": [
    "contact_info['Alice']"
   ]
  },
  {
   "cell_type": "code",
   "execution_count": 27,
   "id": "0f6b4066",
   "metadata": {},
   "outputs": [
    {
     "data": {
      "text/plain": [
       "{'phone': '555-5678', 'email': 'bob@example.com', 'address': '456 Elm St'}"
      ]
     },
     "execution_count": 27,
     "metadata": {},
     "output_type": "execute_result"
    }
   ],
   "source": [
    "contact_info['Bob']"
   ]
  },
  {
   "cell_type": "code",
   "execution_count": 28,
   "id": "466587f9",
   "metadata": {},
   "outputs": [
    {
     "data": {
      "text/plain": [
       "'555-5678'"
      ]
     },
     "execution_count": 28,
     "metadata": {},
     "output_type": "execute_result"
    }
   ],
   "source": [
    "contact_info['Bob']['phone']"
   ]
  },
  {
   "cell_type": "code",
   "execution_count": 29,
   "id": "47f11d91",
   "metadata": {},
   "outputs": [],
   "source": [
    "# There is no indexing in dictionaries only key value\n"
   ]
  },
  {
   "cell_type": "code",
   "execution_count": 30,
   "id": "8d539036",
   "metadata": {},
   "outputs": [],
   "source": [
    "# If you want all the values of a dictionary there is a built in function .values()"
   ]
  },
  {
   "cell_type": "code",
   "execution_count": 32,
   "id": "0bfe18d4",
   "metadata": {},
   "outputs": [],
   "source": [
    "dict2={'name':'ravi','age':'25','email':'ravigurjarrr@gmail.com','name':'Rahul','phone':'9610738042'}"
   ]
  },
  {
   "cell_type": "code",
   "execution_count": 31,
   "id": "55c5630f",
   "metadata": {},
   "outputs": [
    {
     "data": {
      "text/plain": [
       "dict_values(['Rahul', '25', 'ravigurjarrr@gmail.com', '9610738042'])"
      ]
     },
     "execution_count": 31,
     "metadata": {},
     "output_type": "execute_result"
    }
   ],
   "source": [
    "dict2.values()"
   ]
  },
  {
   "cell_type": "code",
   "execution_count": 33,
   "id": "af3bc4ee",
   "metadata": {},
   "outputs": [],
   "source": [
    "# It only takes the second name \n"
   ]
  },
  {
   "cell_type": "code",
   "execution_count": 34,
   "id": "44e8f975",
   "metadata": {},
   "outputs": [
    {
     "data": {
      "text/plain": [
       "dict_keys(['name', 'age', 'email', 'phone'])"
      ]
     },
     "execution_count": 34,
     "metadata": {},
     "output_type": "execute_result"
    }
   ],
   "source": [
    "# And for keys\n",
    "dict2.keys()"
   ]
  },
  {
   "cell_type": "markdown",
   "id": "2508ef25",
   "metadata": {},
   "source": [
    "If i look for total items in a dictionary then "
   ]
  },
  {
   "cell_type": "code",
   "execution_count": 36,
   "id": "76a29d65",
   "metadata": {},
   "outputs": [
    {
     "data": {
      "text/plain": [
       "dict_items([('name', 'Rahul'), ('age', '25'), ('email', 'ravigurjarrr@gmail.com'), ('phone', '9610738042')])"
      ]
     },
     "execution_count": 36,
     "metadata": {},
     "output_type": "execute_result"
    }
   ],
   "source": [
    "dict2.items()"
   ]
  },
  {
   "cell_type": "markdown",
   "id": "f68dcc6c",
   "metadata": {},
   "source": [
    "  Array can also come in dict"
   ]
  },
  {
   "cell_type": "code",
   "execution_count": 38,
   "id": "9dfc1477",
   "metadata": {},
   "outputs": [],
   "source": [
    "# array is a list\n",
    "\n",
    "student_marks={\n",
    "    \"class1\":[1,2,3,4,5,6],\n",
    "    'class2':[3,4,2,2,3,4,]\n",
    "    \n",
    "}"
   ]
  },
  {
   "cell_type": "code",
   "execution_count": 39,
   "id": "ac1ddcbc",
   "metadata": {},
   "outputs": [
    {
     "data": {
      "text/plain": [
       "[1, 2, 3, 4, 5, 6]"
      ]
     },
     "execution_count": 39,
     "metadata": {},
     "output_type": "execute_result"
    }
   ],
   "source": [
    " student_marks['class1']"
   ]
  },
  {
   "cell_type": "code",
   "execution_count": 40,
   "id": "948eb0a2",
   "metadata": {},
   "outputs": [
    {
     "data": {
      "text/plain": [
       "list"
      ]
     },
     "execution_count": 40,
     "metadata": {},
     "output_type": "execute_result"
    }
   ],
   "source": [
    "type( student_marks['class1'])"
   ]
  },
  {
   "cell_type": "markdown",
   "id": "27c6f128",
   "metadata": {},
   "source": [
    "Whenever you are fatching the info you have to give exact data type otherwise it will give error"
   ]
  },
  {
   "cell_type": "code",
   "execution_count": 41,
   "id": "52c63ff7",
   "metadata": {},
   "outputs": [
    {
     "ename": "NameError",
     "evalue": "name 'class1' is not defined",
     "output_type": "error",
     "traceback": [
      "\u001b[0;31m---------------------------------------------------------------------------\u001b[0m",
      "\u001b[0;31mNameError\u001b[0m                                 Traceback (most recent call last)",
      "Cell \u001b[0;32mIn[41], line 1\u001b[0m\n\u001b[0;32m----> 1\u001b[0m student_marks[class1]\n",
      "\u001b[0;31mNameError\u001b[0m: name 'class1' is not defined"
     ]
    }
   ],
   "source": [
    " student_marks[class1]"
   ]
  },
  {
   "cell_type": "code",
   "execution_count": 43,
   "id": "57335ae5",
   "metadata": {},
   "outputs": [],
   "source": [
    "# Another example\n",
    "\n",
    "dic={\n",
    "    123:'ravindra',\n",
    "    234:'karaan'\n",
    "    \n",
    "}"
   ]
  },
  {
   "cell_type": "code",
   "execution_count": 44,
   "id": "9de148a2",
   "metadata": {},
   "outputs": [
    {
     "ename": "KeyError",
     "evalue": "'123'",
     "output_type": "error",
     "traceback": [
      "\u001b[0;31m---------------------------------------------------------------------------\u001b[0m",
      "\u001b[0;31mKeyError\u001b[0m                                  Traceback (most recent call last)",
      "Cell \u001b[0;32mIn[44], line 1\u001b[0m\n\u001b[0;32m----> 1\u001b[0m dic[\u001b[38;5;124m'\u001b[39m\u001b[38;5;124m123\u001b[39m\u001b[38;5;124m'\u001b[39m]\n",
      "\u001b[0;31mKeyError\u001b[0m: '123'"
     ]
    }
   ],
   "source": [
    "dic['123']"
   ]
  },
  {
   "cell_type": "code",
   "execution_count": 45,
   "id": "44100218",
   "metadata": {},
   "outputs": [
    {
     "data": {
      "text/plain": [
       "'ravindra'"
      ]
     },
     "execution_count": 45,
     "metadata": {},
     "output_type": "execute_result"
    }
   ],
   "source": [
    "dic[123]"
   ]
  },
  {
   "cell_type": "code",
   "execution_count": 46,
   "id": "0f954464",
   "metadata": {},
   "outputs": [],
   "source": [
    "dict1={'name':'ravi','age':'25','email':'ravigurjarrr@gmail.com'}"
   ]
  },
  {
   "cell_type": "code",
   "execution_count": 47,
   "id": "e447fa0e",
   "metadata": {},
   "outputs": [
    {
     "name": "stdout",
     "output_type": "stream",
     "text": [
      "name\n",
      "age\n",
      "email\n"
     ]
    }
   ],
   "source": [
    "for val in dict1:\n",
    "    print(val)"
   ]
  },
  {
   "cell_type": "code",
   "execution_count": 48,
   "id": "e1675716",
   "metadata": {},
   "outputs": [
    {
     "name": "stdout",
     "output_type": "stream",
     "text": [
      "ravi\n",
      "25\n",
      "ravigurjarrr@gmail.com\n"
     ]
    }
   ],
   "source": [
    "# By default it is giving only keys but if you want values then\n",
    "for val in dict1.values():\n",
    "    print(val)"
   ]
  },
  {
   "cell_type": "code",
   "execution_count": 49,
   "id": "99414fb2",
   "metadata": {},
   "outputs": [],
   "source": [
    "# Now if i want key value pair both then i have to write items() insted values()"
   ]
  },
  {
   "cell_type": "code",
   "execution_count": 50,
   "id": "a2952ae2",
   "metadata": {},
   "outputs": [
    {
     "name": "stdout",
     "output_type": "stream",
     "text": [
      "('name', 'ravi')\n",
      "('age', '25')\n",
      "('email', 'ravigurjarrr@gmail.com')\n"
     ]
    }
   ],
   "source": [
    "for val in dict1.items():\n",
    "    print(val)"
   ]
  },
  {
   "cell_type": "markdown",
   "id": "e6431cca",
   "metadata": {},
   "source": [
    "The above example showing us results in tuple format but if i want it normally then i have to add one more variable"
   ]
  },
  {
   "cell_type": "code",
   "execution_count": 51,
   "id": "73568358",
   "metadata": {},
   "outputs": [
    {
     "name": "stdout",
     "output_type": "stream",
     "text": [
      "name ravi\n",
      "age 25\n",
      "email ravigurjarrr@gmail.com\n"
     ]
    }
   ],
   "source": [
    "for key,val in dict1.items():\n",
    "    print(key,val)"
   ]
  },
  {
   "cell_type": "markdown",
   "id": "8df37513",
   "metadata": {},
   "source": [
    "## practice"
   ]
  },
  {
   "cell_type": "code",
   "execution_count": 55,
   "id": "47cb5112",
   "metadata": {},
   "outputs": [],
   "source": [
    "contact_info = {\n",
    "    \"Alice\": {\n",
    "        \"phone\": \"555-1234\",\n",
    "        \"email\": \"alice@example.com\",\n",
    "        \"address\": \"123 Main St\"\n",
    "    },\n",
    "    \"Bob\": {\n",
    "        \"phone\": \"555-5678\",\n",
    "        \"email\": \"bob@example.com\",\n",
    "        \"address\": \"456 Elm St\"\n",
    "    },\n",
    "    \"Charlie\": {\n",
    "        \"phone\": \"555-9012\",\n",
    "        \"email\": \"charlie@example.com\",\n",
    "        \"address\": \"789 Oak St\"\n",
    "    }\n",
    "}\n"
   ]
  },
  {
   "cell_type": "code",
   "execution_count": 56,
   "id": "b26356b8",
   "metadata": {},
   "outputs": [],
   "source": [
    "# If i want to extract 'address' of 'alice' then"
   ]
  },
  {
   "cell_type": "code",
   "execution_count": 57,
   "id": "8f6d1879",
   "metadata": {},
   "outputs": [
    {
     "data": {
      "text/plain": [
       "'123 Main St'"
      ]
     },
     "execution_count": 57,
     "metadata": {},
     "output_type": "execute_result"
    }
   ],
   "source": [
    "contact_info['Alice']['address']"
   ]
  },
  {
   "cell_type": "markdown",
   "id": "93da30ee",
   "metadata": {},
   "source": [
    " ### Dictionary method"
   ]
  },
  {
   "cell_type": "markdown",
   "id": "b535a9f1",
   "metadata": {},
   "source": [
    "Python dictionaries come with several built-in methods for performing various operations. Here are some commonly used dictionary methods:\n",
    "\n",
    "\n",
    "1. **`clear()`:** Removes all items from the dictionary.\n",
    "   ```python\n",
    "   my_dict = {\"a\": 1, \"b\": 2}\n",
    "   my_dict.clear()\n",
    "   print(my_dict)  # Output: {}\n",
    "   ```\n",
    "\n",
    "\n",
    "\n",
    "2. **`get(key[, default])`:** Returns the value associated with the specified key. If the key is not found, it returns the default value (or None if not specified).\n",
    "   ```python\n",
    "   my_dict = {\"a\": 1, \"b\": 2}\n",
    "   print(my_dict.get(\"a\"))  # Output: 1\n",
    "   print(my_dict.get(\"c\", \"Key not found\"))  # Output: Key not found\n",
    "   ```\n",
    "\n",
    "\n",
    "\n",
    "3. **`items()`:** Returns a view object that displays a list of key-value tuple pairs.\n",
    "   ```python\n",
    "   my_dict = {\"a\": 1, \"b\": 2}\n",
    "   print(my_dict.items())  # Output: dict_items([('a', 1), ('b', 2)])\n",
    "   ```\n",
    "\n",
    "\n",
    "    \n",
    "4. **`keys()`:** Returns a view object that displays a list of all keys in the dictionary.\n",
    "   ```python\n",
    "   my_dict = {\"a\": 1, \"b\": 2}\n",
    "   print(my_dict.keys())  # Output: dict_keys(['a', 'b'])\n",
    "   ```\n",
    "\n",
    "\n",
    "    \n",
    "5. **`values()`:** Returns a view object that displays a list of all values in the dictionary.\n",
    "   ```python\n",
    "   my_dict = {\"a\": 1, \"b\": 2}\n",
    "   print(my_dict.values())  # Output: dict_values([1, 2])\n",
    "   ```\n",
    "\n",
    "\n",
    "\n",
    "6. **`pop(key[, default])`:** Removes and returns the value associated with the specified key. If the key is not found, it returns the default value (or raises KeyError if not specified).\n",
    "   ```python\n",
    "   my_dict = {\"a\": 1, \"b\": 2}\n",
    "   value = my_dict.pop(\"a\")\n",
    "   print(value)  # Output: 1\n",
    "   ```\n",
    "\n",
    "\n",
    "\n",
    "7. **`popitem()`:** Removes and returns the last inserted key-value pair as a tuple.\n",
    "   ```python\n",
    "   my_dict = {\"a\": 1, \"b\": 2}\n",
    "   item = my_dict.popitem()\n",
    "   print(item)  # Output: ('b', 2)\n",
    "   ```\n",
    "\n",
    "\n",
    "\n",
    "8. **`update()`:** Updates the dictionary with the key-value pairs from another dictionary or an iterable of key-value pairs.\n",
    "   ```python\n",
    "   my_dict = {\"a\": 1, \"b\": 2}\n",
    "   my_dict.update({\"c\": 3, \"d\": 4})\n",
    "   print(my_dict)  # Output: {'a': 1, 'b': 2, 'c': 3, 'd': 4}\n",
    "   ```\n",
    "   \n",
    "   \n",
    "   \n",
    "\n",
    "These are just a few examples of the methods available for dictionaries in Python. They provide powerful tools for manipulating and accessing data within dictionaries efficiently."
   ]
  },
  {
   "cell_type": "code",
   "execution_count": 59,
   "id": "ea491bec",
   "metadata": {},
   "outputs": [],
   "source": [
    "# update\n",
    "dict2={'name':'ravi','age':'25','email':'ravigurjarrr@gmail.com','name':'Rahul','phone':'9610738042'}"
   ]
  },
  {
   "cell_type": "code",
   "execution_count": 60,
   "id": "22b96c40",
   "metadata": {},
   "outputs": [],
   "source": [
    "dict2.update({'age':36})"
   ]
  },
  {
   "cell_type": "code",
   "execution_count": 62,
   "id": "c7fa1a97",
   "metadata": {},
   "outputs": [
    {
     "data": {
      "text/plain": [
       "{'name': 'Rahul',\n",
       " 'age': 36,\n",
       " 'email': 'ravigurjarrr@gmail.com',\n",
       " 'phone': '9610738042'}"
      ]
     },
     "execution_count": 62,
     "metadata": {},
     "output_type": "execute_result"
    }
   ],
   "source": [
    "dict2"
   ]
  },
  {
   "cell_type": "code",
   "execution_count": 63,
   "id": "90e3c105",
   "metadata": {},
   "outputs": [],
   "source": [
    "extra_info={'occupation':'army'}"
   ]
  },
  {
   "cell_type": "code",
   "execution_count": 65,
   "id": "42f43f23",
   "metadata": {},
   "outputs": [],
   "source": [
    "dict2.update(extra_info)"
   ]
  },
  {
   "cell_type": "code",
   "execution_count": 66,
   "id": "4fbca84a",
   "metadata": {},
   "outputs": [
    {
     "data": {
      "text/plain": [
       "{'name': 'Rahul',\n",
       " 'age': 36,\n",
       " 'email': 'ravigurjarrr@gmail.com',\n",
       " 'phone': '9610738042',\n",
       " 'occupation': 'army'}"
      ]
     },
     "execution_count": 66,
     "metadata": {},
     "output_type": "execute_result"
    }
   ],
   "source": [
    "dict2"
   ]
  },
  {
   "cell_type": "code",
   "execution_count": 67,
   "id": "baddd93b",
   "metadata": {},
   "outputs": [],
   "source": [
    "# Write a  Python script to concatenate the following dictionaries to create a new one.\n",
    "\n",
    "dic1={1:10, 2:20}\n",
    "dic2={3:30, 4:40}\n",
    "dic3={5:50,6:60}\n",
    "\n",
    "#Expected Result : {1: 10, 2: 20, 3: 30, 4: 40, 5: 50, 6: 60}\n"
   ]
  },
  {
   "cell_type": "code",
   "execution_count": 70,
   "id": "c17d8573",
   "metadata": {},
   "outputs": [],
   "source": [
    "dic1.update(dic2)"
   ]
  },
  {
   "cell_type": "code",
   "execution_count": 71,
   "id": "4fa5663d",
   "metadata": {},
   "outputs": [],
   "source": [
    "dic1.update(dic3)"
   ]
  },
  {
   "cell_type": "code",
   "execution_count": 72,
   "id": "38068810",
   "metadata": {},
   "outputs": [
    {
     "name": "stdout",
     "output_type": "stream",
     "text": [
      "{1: 10, 2: 20, 3: 30, 4: 40, 5: 50, 6: 60}\n"
     ]
    }
   ],
   "source": [
    "print(dic1)"
   ]
  },
  {
   "cell_type": "code",
   "execution_count": 73,
   "id": "f2a6b69e",
   "metadata": {},
   "outputs": [
    {
     "name": "stdout",
     "output_type": "stream",
     "text": [
      "Concatenated dictionary: {1: 10, 2: 20, 3: 30, 4: 40, 5: 50, 6: 60}\n"
     ]
    }
   ],
   "source": [
    "dic1 = {1: 10, 2: 20}\n",
    "dic2 = {3: 30, 4: 40}\n",
    "dic3 = {5: 50, 6: 60}\n",
    "\n",
    "result = {}\n",
    "\n",
    "for d in [dic1, dic2, dic3]:\n",
    "    result.update(d)\n",
    "\n",
    "print(\"Concatenated dictionary:\", result)"
   ]
  },
  {
   "cell_type": "code",
   "execution_count": 75,
   "id": "5057b4ea",
   "metadata": {},
   "outputs": [
    {
     "name": "stdout",
     "output_type": "stream",
     "text": [
      "yes\n",
      "no\n"
     ]
    }
   ],
   "source": [
    "# Write a Python script to check whether a given key already exists in a dictionary.\n",
    "d = {1: 10, 2: 20, 3: 30, 4: 40, 5: 50, 6: 60}\n",
    "\n",
    "userinput = 1\n",
    "print(\"yes\")\n",
    "\n",
    "print(\"no\")"
   ]
  },
  {
   "cell_type": "code",
   "execution_count": 76,
   "id": "557e8cbd",
   "metadata": {},
   "outputs": [
    {
     "data": {
      "text/plain": [
       "{1: 10, 2: 20, 3: 30, 4: 40, 5: 50, 6: 60}"
      ]
     },
     "execution_count": 76,
     "metadata": {},
     "output_type": "execute_result"
    }
   ],
   "source": [
    "d"
   ]
  },
  {
   "cell_type": "code",
   "execution_count": 77,
   "id": "2515c70f",
   "metadata": {},
   "outputs": [
    {
     "name": "stdout",
     "output_type": "stream",
     "text": [
      "type your input 1\n"
     ]
    },
    {
     "data": {
      "text/plain": [
       "10"
      ]
     },
     "execution_count": 77,
     "metadata": {},
     "output_type": "execute_result"
    }
   ],
   "source": [
    "userinput=int(input('type your input '))\n",
    "d[userinput] "
   ]
  },
  {
   "cell_type": "code",
   "execution_count": 78,
   "id": "50299b18",
   "metadata": {},
   "outputs": [
    {
     "name": "stdout",
     "output_type": "stream",
     "text": [
      "type your input 1\n",
      "True\n"
     ]
    }
   ],
   "source": [
    "userinput=int(input('type your input '))\n",
    "d[userinput] \n",
    "print(userinput in d)"
   ]
  },
  {
   "cell_type": "code",
   "execution_count": 79,
   "id": "9b2e1005",
   "metadata": {},
   "outputs": [
    {
     "data": {
      "text/plain": [
       "401"
      ]
     },
     "execution_count": 79,
     "metadata": {},
     "output_type": "execute_result"
    }
   ],
   "source": [
    "## Write a Python program to sum all the items in a dictionary.\n",
    "\n",
    "my_dict = {'data1': 100, 'data2': 54, 'data3': 247}\n",
    "100 + 54 + 247\n",
    "401\n",
    "\n",
    "\n"
   ]
  },
  {
   "cell_type": "code",
   "execution_count": 80,
   "id": "9d1f1da2",
   "metadata": {},
   "outputs": [
    {
     "name": "stdout",
     "output_type": "stream",
     "text": [
      "401\n"
     ]
    }
   ],
   "source": [
    "d={'data1':100,'data2':54,'data3':247}\n",
    "sum=0\n",
    "for i in d.values():\n",
    "    sum=sum+i\n",
    "print(sum)"
   ]
  },
  {
   "cell_type": "code",
   "execution_count": 81,
   "id": "5550fd6c",
   "metadata": {},
   "outputs": [
    {
     "name": "stdout",
     "output_type": "stream",
     "text": [
      "401\n"
     ]
    }
   ],
   "source": [
    "d={'data1':100,'data2':54,'data3':247}\n",
    "\n",
    "\n",
    "out = 0\n",
    "for i in d.values():\n",
    "    out = out + i\n",
    "\n",
    "print(out)\n"
   ]
  },
  {
   "cell_type": "markdown",
   "id": "5575eb3c",
   "metadata": {},
   "source": [
    "## Assignment"
   ]
  },
  {
   "cell_type": "markdown",
   "id": "053b570d",
   "metadata": {},
   "source": [
    "1.Write a Python program to count the number of items in a dictionary value that is a list.\n",
    "\n",
    "2.dict =  {'Alex': ['subj1', 'subj2', 'subj3'], 'David': ['subj1', 'subj2']}\n",
    "Write a  Python program to sort Counter by value.\n",
    "Sample data : {'Math':81, 'Physics':83, 'Chemistry':87}\n",
    "Expected data: [('Chemistry', 87), ('Physics', 83), ('Math', 81)]\n",
    "\n",
    "\n",
    "3.Write a Python program to match key values in two dictionaries.\n",
    "Sample dictionary: {'key1': 1, 'key2': 3, 'key3': 2}, {'key1': 1, 'key2': 2}\n",
    "Expected output: key1: 1 is present in both x and y\n",
    "\n",
    "\n",
    "4.Write a  Python program to drop empty items from a given dictionary.\n",
    "Original Dictionary:\n",
    "{'c1': 'Red', 'c2': 'Green', 'c3': None}\n",
    "New Dictionary after dropping empty items:\n",
    "{'c1': 'Red', 'c2': 'Green'}"
   ]
  },
  {
   "cell_type": "code",
   "execution_count": null,
   "id": "0c8731cc",
   "metadata": {},
   "outputs": [],
   "source": []
  }
 ],
 "metadata": {
  "kernelspec": {
   "display_name": "Python 3 (ipykernel)",
   "language": "python",
   "name": "python3"
  },
  "language_info": {
   "codemirror_mode": {
    "name": "ipython",
    "version": 3
   },
   "file_extension": ".py",
   "mimetype": "text/x-python",
   "name": "python",
   "nbconvert_exporter": "python",
   "pygments_lexer": "ipython3",
   "version": "3.11.7"
  }
 },
 "nbformat": 4,
 "nbformat_minor": 5
}
